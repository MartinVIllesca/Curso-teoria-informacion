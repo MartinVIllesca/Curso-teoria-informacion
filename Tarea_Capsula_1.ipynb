{
  "nbformat": 4,
  "nbformat_minor": 0,
  "metadata": {
    "colab": {
      "name": "Tarea_Capsula_1.ipynb",
      "provenance": [],
      "include_colab_link": true
    },
    "kernelspec": {
      "name": "python3",
      "display_name": "Python 3"
    }
  },
  "cells": [
    {
      "cell_type": "markdown",
      "metadata": {
        "id": "view-in-github",
        "colab_type": "text"
      },
      "source": [
        "<a href=\"https://colab.research.google.com/github/MartinVIllesca/Curso-teoria-informacion/blob/master/Tarea_Capsula_1.ipynb\" target=\"_parent\"><img src=\"https://colab.research.google.com/assets/colab-badge.svg\" alt=\"Open In Colab\"/></a>"
      ]
    },
    {
      "cell_type": "markdown",
      "metadata": {
        "id": "RyaqPYVJe9jC",
        "colab_type": "text"
      },
      "source": [
        "# Tarea Cápsula 1\n",
        "#### EL7014 Teorí­a de la Información: Fundamentos y Aplicaciones <br> Information and Decision Systems Group\n",
        "\n",
        "Nombre : Martín Valderrama Illesca"
      ]
    },
    {
      "cell_type": "markdown",
      "metadata": {
        "id": "_w24D_Wkfgi4",
        "colab_type": "text"
      },
      "source": [
        "## 1. Sección Teórica"
      ]
    },
    {
      "cell_type": "markdown",
      "metadata": {
        "id": "wrgBlH79xn-i",
        "colab_type": "text"
      },
      "source": [
        "### 1.0. Teoremas y definiciones"
      ]
    },
    {
      "cell_type": "markdown",
      "metadata": {
        "id": "IXO1bVKQ4OiF",
        "colab_type": "text"
      },
      "source": [
        "\n",
        "Se adjuntan algunos teoremas y definiciones que le serán útiles para el desarrollo de la sección teórica.\n",
        "\n",
        "**Teorema de aproximación universal de las redes neuronales**\n",
        "\n",
        "Para efectos prácticos considere que dado un espacio paramérico $\\Theta$ compacto y un espacio $\\Omega$ también compacto y una función $T: \\Omega -> \\mathbb{R}$ se cumple que $\\forall \\epsilon > 0$  existe una red neuronal parametrizada $T_\\theta$ con parámetros $\\theta \\in \\Theta$ tal que.\n",
        "\n",
        "\\begin{equation}\n",
        "||T - T_{\\theta}|| < \\epsilon\n",
        "\\end{equation}\n",
        "\n",
        "**Ley uniforme de los grandes Números**\n",
        "\n",
        "Sea  $\\Theta$ compacto y $T(x,\\theta)$ una función medible la cual $\\forall \\theta$ es acotada por otra funcion medible $g(x)$ con posee esperanza finita sobre $p_X$. Entonces el estimador empírico de la esperanza dado una secuencia de muestras $(x_i)_{i=1}^N$ *i.i.d.* con distribucion $p_X$ cumple lo siguiente.\n",
        "\n",
        "\\begin{equation}\n",
        "\\sup_{\\theta \\in \\Theta}||\\mathbb{E}_{X^{(n)}}[T(X,\\theta)] - \\mathbb{E}_X[T(X,\\theta)]|| \\xrightarrow{c.s.} 0\n",
        "\\end{equation}\n",
        "\n",
        "**Lipschitz continuo con parámetro K**\n",
        "\n",
        "Se dice que una función $f$ es Lipschitz continua con parámetro $K$ en el intervalo $[a,b]$ si $\\forall x,y \\in [a,b]$ se cumple que.\n",
        "\n",
        "\\begin{equation}\n",
        "||f(y)-f(x)|| \\leq K ||y-x||\n",
        "\\end{equation}"
      ]
    },
    {
      "cell_type": "markdown",
      "metadata": {
        "id": "XOE-dKtQmWtz",
        "colab_type": "text"
      },
      "source": [
        "### 1.a. Representación Donsker-Varadhan "
      ]
    },
    {
      "cell_type": "markdown",
      "metadata": {
        "id": "YUN0v0GEdii3",
        "colab_type": "text"
      },
      "source": [
        "Sea $T :\\Omega \\rightarrow \\mathbb{R}$ una función medible que cumple los criterios de integrabilidad para la esperanza y $X$ e $Y$ v.a. en $\\Omega$. \n",
        "\n",
        "\n",
        "a.1) Demuestre que $D_{KL}(p_x||p_y) \\geq \\mathbb{E}_X[T(\\omega)] - \\log \\mathbb{E}_Y[e^{T(\\omega)}]$\n",
        "\n",
        "**Indicacion:** Comience planteando $\\mathbb{E}_X[T(\\omega)] = \\mathbb{E}_X[\\frac{p_X}{p_Y}\\frac{p_Y}{p_X}T(\\omega)]$ y exprese la integral de la esperanza. Puede que más adelante le sirva utilizar alguna desigualdad vista en el curso.\n",
        "\n",
        "a.2) Muestre para que funcion $T^*$ se alcanza la igualdad de a.1)\n",
        "\n",
        "**Indicacion:** Escoja una funcion de tal manera que uno de los 2 terminos de la derecha se torne 0.\n"
      ]
    },
    {
      "cell_type": "markdown",
      "metadata": {
        "id": "ePRGnXp6md8z",
        "colab_type": "text"
      },
      "source": [
        "### 1.b. Consistencia del estimador"
      ]
    },
    {
      "cell_type": "markdown",
      "metadata": {
        "id": "_LUHsdcJmSwz",
        "colab_type": "text"
      },
      "source": [
        "Recordando la difinicion de los siguientes valores.\n",
        "\n",
        "\\begin{equation}\n",
        "I_{\\Theta}(X;Y) = \\sup_{\\theta \\in \\Theta} \\mathbb{E}_{X,Y}[T_\\theta(\\omega)] - \\log \\mathbb{E}_{X\\bigotimes Y}[e^{T_\\theta(\\omega)}]\n",
        "\\end{equation}\n",
        "\n",
        "\\begin{equation}\n",
        "\\hat{I}(X;Y)_{n} = \\sup_{\\theta \\in \\Theta} \\mathbb{E}_{X,Y^{(n)}}[T_\\theta(\\omega)] - \\log \\mathbb{E}_{X^{(n)}\\bigotimes Y^{(n)}}[e^{T_\\theta(\\omega)}]\n",
        "\\end{equation}\n",
        "\n",
        "Sea $\\Omega \\times \\Theta$ un espacio compacto, es decir, toda red caracterizada como $T:\\Omega \\times \\Theta \\rightarrow \\mathbb{R}$ es acotada por una constante $K$ fija determinada por el dominio y $X$ e $Y$ v.a. en $\\Omega$.\n",
        "\n",
        "Notar que tanto $I_{\\Theta}(X;Y)$ como $\\hat{I}(X;Y)_{n}$ siempre estan acotados por una variable $K$ dado que $\\Omega$ es definido compacto.\n",
        "\n",
        "b.1) Demuestre que \\begin{equation}\n",
        "|I(X;Y)-I_\\Theta(X;Y)| \\leq \\epsilon \n",
        "\\end{equation}\n",
        "* Escriba $I(X;Y)$ utilizando la funcion $T^*$ de a.2) y note el valor que toma la esperanza sobre la multiplicación de las marginales $\\mathbb{E}_{X \\times Y}[e^{T^*}]$.\n",
        "* Utilice la cota $\\log a \\leq a-1$ e identifique $\\mathbb{E}_{X \\times Y}[e^{T^*}]$ como el valor numérico que toma y reemplacelo.\n",
        "* Utilice el hecho que la funcion $e$ es Lipschitz continua con parámetro $e^c$ en el intervalo $(-\\infty, c]$.\n",
        "* Utilice el teorema de aproximacion universal de las redes neuronales para acotar las esperanzas por una cota superior inteligentemente escogida.\n",
        "* Concluya utilizando una desigualdad triangular.\n",
        "\n",
        "b.2) Demuestre que \\begin{equation}\n",
        "\\hat{I}(X;Y)_n \\xrightarrow{c.s.} I_\\Theta(X;Y)\n",
        "\\end{equation}\n",
        "\n",
        "* Utilice el hecho que la funcion $\\log$ es Lipschitz continua con parámetro $e^c$ en el intervalo $[e^{-c}, e^c]$.\n",
        "* Luego utilice la Ley uniforme de los grandes números sobre las distribuciones empí­ricas para introducir el $\\lim_{n \\rightarrow \\infty}$.\n",
        "* Concluya utilizando una desigualdad triangular.\n",
        "\n",
        "b.3) Use b.1) y b.2) con una desigualdad triangular para demostrar que \\begin{equation}\n",
        "\\hat{I}(X;Y)_n \\xrightarrow{p}I(X;Y).\n",
        "\\end{equation}"
      ]
    },
    {
      "cell_type": "markdown",
      "metadata": {
        "id": "PcK2qbXTfoL8",
        "colab_type": "text"
      },
      "source": [
        "## 2. Sección Práctica\n"
      ]
    },
    {
      "cell_type": "markdown",
      "metadata": {
        "id": "ycJ_rXq8wbiE",
        "colab_type": "text"
      },
      "source": [
        "Utilizando el sampler gaussiano dispuesto entrene 2 redes MINE que maximicen las funciones objetivo:\n",
        "\n",
        "* $\\mathbb{E}_{X,Y^{(n)}}[T_\\theta(\\omega)] - \\log \\mathbb{E}_{X^{(n)}\\bigotimes Y^{(n)}}[e^{T_\\theta(\\omega)}]$ \\\\\n",
        "\n",
        "* $\\mathbb{E}_{X,Y^{(n)}}[T_\\theta(\\omega)] - \\mathbb{E}_{X^{(n)}\\bigotimes Y^{(n)}}[e^{T_\\theta(\\omega)-1}]$\n",
        "\n",
        "Las pruebas deben ser utilizando los parámetros del sampler como:\n",
        "\n",
        "* dim = 4 y 10 valores equiespaciados de $\\rho$ entre $[-0.9,0.9]$\n",
        "* dim = 6 y 10 valores equiespaciados de $\\rho$ entre $[-0.9,0.9]$\n",
        "\n",
        "Presente los gráficos comparativos de $\\hat{I}(X;Y)$ y $I_{theoretical}(X,Y)$ vs $\\rho$ como se muestra en la cápsula 1. \n",
        "\n",
        "4 gráficos en total (ambas funciones objetivos para ambos casos de test).\n",
        "\n",
        "**Indicación:** **NO** considere el ajuste para insesgar el gradiente para el caso que utiliza la representacion D-V, i.e. ocupe directamente la función objetivo y deje que pytorch propage el gradiente automáticamente."
      ]
    },
    {
      "cell_type": "markdown",
      "metadata": {
        "id": "lL0l3YUZwNRS",
        "colab_type": "text"
      },
      "source": [
        "### Imports"
      ]
    },
    {
      "cell_type": "code",
      "metadata": {
        "id": "c0O6fSgydZWF",
        "colab_type": "code",
        "outputId": "501cb217-5798-4410-f6ba-4c404bf3f2de",
        "colab": {
          "base_uri": "https://localhost:8080/",
          "height": 34
        }
      },
      "source": [
        "import torch\n",
        "import torch.nn as nn\n",
        "import torch.nn.functional as F\n",
        "from torch.utils.data import Dataset, DataLoader\n",
        "\n",
        "import torchvision\n",
        "import torchvision.transforms as transforms\n",
        "import torchvision.datasets as datasets\n",
        "\n",
        "import matplotlib.pyplot as plt\n",
        "from matplotlib import cm\n",
        "\n",
        "from skimage import io\n",
        "\n",
        "import numpy as np \n",
        "\n",
        "print(torch.__version__)"
      ],
      "execution_count": 1,
      "outputs": [
        {
          "output_type": "stream",
          "text": [
            "1.5.0+cu101\n"
          ],
          "name": "stdout"
        }
      ]
    },
    {
      "cell_type": "code",
      "metadata": {
        "id": "RHGeXgMreK6C",
        "colab_type": "code",
        "outputId": "9c32b28c-df48-4dba-fa19-b86e891bf135",
        "colab": {
          "base_uri": "https://localhost:8080/",
          "height": 51
        }
      },
      "source": [
        "# Asegurarse que Colab les asignÃ³ un entorno con GPU si la desean usar para entrenamiento\n",
        "!nvidia-smi"
      ],
      "execution_count": 2,
      "outputs": [
        {
          "output_type": "stream",
          "text": [
            "NVIDIA-SMI has failed because it couldn't communicate with the NVIDIA driver. Make sure that the latest NVIDIA driver is installed and running.\n",
            "\n"
          ],
          "name": "stdout"
        }
      ]
    },
    {
      "cell_type": "markdown",
      "metadata": {
        "id": "_SJHi1VHwl55",
        "colab_type": "text"
      },
      "source": [
        "### Sampler Gaussiano"
      ]
    },
    {
      "cell_type": "markdown",
      "metadata": {
        "id": "wUyc_Fdzz1hu",
        "colab_type": "text"
      },
      "source": [
        "La función \"multivariate_gaussian_sampler\" genera muestras de 2 variables aleatorias sobre $\\mathbb{R}^d$ de medias vectores 0 y covarianza como se describe:\n",
        "\\begin{equation}\n",
        "Cov(\\bar{X},\\bar{Y}) = \\begin{bmatrix}\n",
        "I_{dxd} & \\rho I_{dxd}\\\\\n",
        "\\rho I_{dxd} & I_{dxd}\n",
        "\\end{bmatrix}\n",
        "\\end{equation}"
      ]
    },
    {
      "cell_type": "code",
      "metadata": {
        "id": "CdROGV7ReXqQ",
        "colab_type": "code",
        "colab": {}
      },
      "source": [
        "def multivariate_gaussian_sampler(dim, corr_factor, n_samples):\n",
        "  '''\n",
        "  Generates samples from two gaussian random variables X_a and X_b of \n",
        "  dimension dim with Corr(X_a^i, X_b^j) = delta_ij * corr_factor, returning the \n",
        "  theoretical mutual information MI(X_a, X_b).\n",
        "  '''\n",
        "  joint_mean = np.zeros(2 * dim)\n",
        "  identity = np.identity(dim)\n",
        "  joint_cov = np.concatenate([np.concatenate([identity, corr_factor * identity], axis=1),\n",
        "                              np.concatenate([corr_factor * identity, identity], axis=1)], \n",
        "                             axis=0)\n",
        "  np.fill_diagonal(joint_cov, 1)\n",
        "  theoretical_mi = -(1/2) * np.log(np.linalg.det(joint_cov))\n",
        "  X_joint = np.random.multivariate_normal(joint_mean, joint_cov, size=n_samples)\n",
        "  X_a = X_joint[:, :dim]\n",
        "  X_b = X_joint[:, dim:]\n",
        "  return X_joint, X_a, X_b, theoretical_mi"
      ],
      "execution_count": 0,
      "outputs": []
    },
    {
      "cell_type": "markdown",
      "metadata": {
        "id": "1lM9ZA4hhINM",
        "colab_type": "text"
      },
      "source": [
        "### Entrenamiento"
      ]
    },
    {
      "cell_type": "code",
      "metadata": {
        "id": "QDdYZMdt_Oe4",
        "colab_type": "code",
        "colab": {}
      },
      "source": [
        "# creacion de dataset\n",
        "class Statistical_Dataset(Dataset):\n",
        "  # debe stackear los vectores y entregar un\n",
        "\n",
        "  def __init__(self, joint, marginal):\n",
        "\n",
        "    if len(joint) != len(marginal):\n",
        "      raise ValueError('los datos entregados no tienen la misma longitud')\n",
        "\n",
        "    self.joint = joint\n",
        "    self.marginal = marginal\n",
        "\n",
        "  def __len__(self):\n",
        "    return len(self.joint)\n",
        "  \n",
        "  def __getitem__(self, idx):\n",
        "\n",
        "    sample_joint = torch.from_numpy(self.joint[idx])\n",
        "    sample_marginal = torch.from_numpy(self.marginal[idx])\n",
        "\n",
        "    return [sample_joint, sample_marginal]"
      ],
      "execution_count": 0,
      "outputs": []
    },
    {
      "cell_type": "code",
      "metadata": {
        "id": "Cn_Z6IyXF0Jk",
        "colab_type": "code",
        "colab": {}
      },
      "source": [
        "# creacion de mlp de código de ejemplo de Cápsula 0\n",
        "class MLP(nn.Module):\n",
        "  def __init__(self, layers, activation_fun):\n",
        "    \"\"\"\n",
        "    crea la red\n",
        "    Input:\n",
        "      layers          : arreglo con forma de inputs y output de las redes\n",
        "      activation_fun  : arreglo con funciones de activacion a usar\n",
        "    \"\"\"\n",
        "    super(MLP, self).__init__()\n",
        "\n",
        "    if len(layers) < 2 or len(activation_fun) < 1 or len(layers) - len(activation_fun) != 1:\n",
        "      print('len(neural_layes) must be larger than 2, len(act_fun) be larger\\\n",
        "           than 1 and len(neural_layes) - len(act_fun)  = 1')\n",
        "      return\n",
        "    \n",
        "    layers_list = []\n",
        "\n",
        "    for idx in range(len(layers) - 1):\n",
        "      layers_list.append(nn.Linear(layers[idx],\n",
        "                                   layers[idx + 1]))\n",
        "    \n",
        "    self.layers = nn.ModuleList(layers_list)\n",
        "    self.activation_fun = nn.ModuleList(activation_fun)\n",
        "\n",
        "  def forward(self, x):\n",
        "    for idx in range(len(self.layers)):\n",
        "      x = self.layers[idx](x)\n",
        "      # print(x)\n",
        "      x = self.activation_fun[idx](x)\n",
        "      # print(x)\n",
        "    return x"
      ],
      "execution_count": 0,
      "outputs": []
    },
    {
      "cell_type": "code",
      "metadata": {
        "id": "KLrX5SUZMQ-_",
        "colab_type": "code",
        "colab": {}
      },
      "source": [
        "class MINE():\n",
        "  def __init__(self, model, loss_fn):\n",
        "    self.model = model\n",
        "    self.loss_fn = loss_fn\n",
        "    self.optim = torch.optim.Adam(model.parameters(), lr=0.0009)\n",
        "    self.model.train()\n",
        "  \n",
        "  def train_step(self, x_joint, x_marginal):\n",
        "    # debemos tener a la salida de la red dos\n",
        "    pred_xy = self.model(x_joint)\n",
        "    pred_x_y = self.model(x_marginal)\n",
        "\n",
        "    # MINE\n",
        "    # loss = - (torch.mean(pred_xy) - torch.log(torch.mean(torch.exp(pred_x_y))))\n",
        "    loss = self.loss_fn(pred_xy, pred_x_y)\n",
        "    predicted_mi = - loss.data.numpy()\n",
        "    \n",
        "    self.model.zero_grad()\n",
        "    loss.backward()\n",
        "    self.optim.step()\n",
        "\n",
        "\n",
        "    return predicted_mi"
      ],
      "execution_count": 0,
      "outputs": []
    },
    {
      "cell_type": "code",
      "metadata": {
        "id": "ORZ6Hcy9gAbO",
        "colab_type": "code",
        "colab": {}
      },
      "source": [
        "def mine_loss(pred_xy, pred_x_y):\n",
        "  loss = - (torch.mean(pred_xy) - torch.log(torch.mean(torch.exp(pred_x_y))))\n",
        "  return loss\n",
        "\n",
        "def f_divergence_loss(pred_xy, pred_x_y):\n",
        "  loss = - (torch.mean(pred_xy) - torch.mean(torch.exp(pred_x_y) - 1))\n",
        "  return loss\n",
        "\n",
        "def estimar_mi(dim, name, fn):\n",
        "  print('Ajustando datos con dim {} y funcion {}'.format(dim, name))\n",
        "  n_samples = 2000\n",
        "  batch_size = 500\n",
        "  epochs = 1000\n",
        "  corr_factor = np.linspace(-0.9,0.9,10)\n",
        "\n",
        "  empirical_mi   = []\n",
        "  theoretical_mi = []\n",
        "\n",
        "  for rho in corr_factor:\n",
        "    ## GENERAR 2 DATASET Y RESCATAR LAS MARGINALES DE DISTINTOS DATASET\n",
        "    joint,X_a,_,_   = multivariate_gaussian_sampler(dim,rho,n_samples)\n",
        "    _,_,X_b,real_mi = multivariate_gaussian_sampler(dim,rho,n_samples)\n",
        "\n",
        "    print('Corr factor : {:.1f}\\tmi teorico {:.3f}'.format(rho, real_mi))\n",
        "\n",
        "    dataset = Statistical_Dataset(joint,np.hstack((X_a,X_b)))\n",
        "    dataloader = torch.utils.data.DataLoader(dataset, batch_size = batch_size)\n",
        "\n",
        "    net = MLP([2*dim, 5 , 5, 1],[nn.ReLU(), nn.ReLU(), nn.Identity()])\n",
        "\n",
        "    mine = MINE(net, fn)\n",
        "\n",
        "    for e in range(epochs) :\n",
        "      mi_e = []\n",
        "\n",
        "      for i,(joint_b,marginal_b) in enumerate(dataloader):\n",
        "        mi = mine.train_step(joint_b.float(),marginal_b.float())\n",
        "        mi_e.append(mi)\n",
        "\n",
        "      if (e+1)%(epochs/5) == 0:\n",
        "        print('\\rEpoch {:3d} || MI : {:.3f}'.format(e+1,np.mean(mi_e)), end='', flush=True)\n",
        "    empirical_mi.append(np.mean(mi_e))\n",
        "    theoretical_mi.append(real_mi)\n",
        "    print()\n",
        "\n",
        "  plt.figure()\n",
        "  plt.title('MI estimado vs teórico para caso gaussiano\\ndim {} y loss {}'.format(dim, name))\n",
        "  plt.plot(corr_factor,empirical_mi,'-*',label = 'Estimated')\n",
        "  plt.plot(corr_factor,theoretical_mi,'-*',label = 'Real')\n",
        "  plt.xlabel(r'$\\rho$')\n",
        "  plt.ylabel(r'$I(x;z)$')\n",
        "  plt.legend()\n",
        "  plt.show()"
      ],
      "execution_count": 0,
      "outputs": []
    },
    {
      "cell_type": "code",
      "metadata": {
        "id": "Thj2TZxahHnn",
        "colab_type": "code",
        "colab": {
          "base_uri": "https://localhost:8080/",
          "height": 669
        },
        "outputId": "82aa202d-ace3-4136-951c-23590c216322"
      },
      "source": [
        "name, fn = ('mine_loss', mine_loss)\n",
        "dim = 4\n",
        "estimar_mi(dim, name, fn)"
      ],
      "execution_count": 14,
      "outputs": [
        {
          "output_type": "stream",
          "text": [
            "Ajustando datos con dim 4 y funcion mine_loss\n",
            "Corr factor : -0.9\tmi teorico 3.321\n",
            "Epoch 1000 || MI : 3.493\n",
            "Corr factor : -0.7\tmi teorico 1.347\n",
            "Epoch 1000 || MI : 0.624\n",
            "Corr factor : -0.5\tmi teorico 0.575\n",
            "Epoch 1000 || MI : 0.361\n",
            "Corr factor : -0.3\tmi teorico 0.189\n",
            "Epoch 1000 || MI : 0.145\n",
            "Corr factor : -0.1\tmi teorico 0.020\n",
            "Epoch 1000 || MI : 0.048\n",
            "Corr factor : 0.1\tmi teorico 0.020\n",
            "Epoch 1000 || MI : 0.050\n",
            "Corr factor : 0.3\tmi teorico 0.189\n",
            "Epoch 1000 || MI : 0.191\n",
            "Corr factor : 0.5\tmi teorico 0.575\n",
            "Epoch 1000 || MI : 0.345\n",
            "Corr factor : 0.7\tmi teorico 1.347\n",
            "Epoch 1000 || MI : 0.562\n",
            "Corr factor : 0.9\tmi teorico 3.321\n",
            "Epoch 1000 || MI : 2.767\n"
          ],
          "name": "stdout"
        },
        {
          "output_type": "display_data",
          "data": {
            "image/png": "[encoded data removed]",
            "text/plain": [
              "<Figure size 432x288 with 1 Axes>"
            ]
          },
          "metadata": {
            "tags": [],
            "needs_background": "light"
          }
        }
      ]
    },
    {
      "cell_type": "code",
      "metadata": {
        "id": "eG31isO9kwvc",
        "colab_type": "code",
        "colab": {
          "base_uri": "https://localhost:8080/",
          "height": 669
        },
        "outputId": "4c651fcc-3f8f-43de-82c3-eb746d09f104"
      },
      "source": [
        "dim = 6\n",
        "estimar_mi(dim, name, fn)"
      ],
      "execution_count": 15,
      "outputs": [
        {
          "output_type": "stream",
          "text": [
            "Ajustando datos con dim 6 y funcion mine_loss\n",
            "Corr factor : -0.9\tmi teorico 4.982\n",
            "Epoch 1000 || MI : 4.213\n",
            "Corr factor : -0.7\tmi teorico 2.020\n",
            "Epoch 1000 || MI : 0.869\n",
            "Corr factor : -0.5\tmi teorico 0.863\n",
            "Epoch 1000 || MI : 0.804\n",
            "Corr factor : -0.3\tmi teorico 0.283\n",
            "Epoch 1000 || MI : 0.197\n",
            "Corr factor : -0.1\tmi teorico 0.030\n",
            "Epoch 1000 || MI : 0.079\n",
            "Corr factor : 0.1\tmi teorico 0.030\n",
            "Epoch 1000 || MI : 0.075\n",
            "Corr factor : 0.3\tmi teorico 0.283\n",
            "Epoch 1000 || MI : 0.257\n",
            "Corr factor : 0.5\tmi teorico 0.863\n",
            "Epoch 1000 || MI : 0.478\n",
            "Corr factor : 0.7\tmi teorico 2.020\n",
            "Epoch 1000 || MI : 1.031\n",
            "Corr factor : 0.9\tmi teorico 4.982\n",
            "Epoch 1000 || MI : 1.324\n"
          ],
          "name": "stdout"
        },
        {
          "output_type": "display_data",
          "data": {
            "image/png": "[encoded data removed]",
            "text/plain": [
              "<Figure size 432x288 with 1 Axes>"
            ]
          },
          "metadata": {
            "tags": [],
            "needs_background": "light"
          }
        }
      ]
    },
    {
      "cell_type": "code",
      "metadata": {
        "id": "DiIP7Jg9PuLK",
        "colab_type": "code",
        "colab": {
          "base_uri": "https://localhost:8080/",
          "height": 669
        },
        "outputId": "77a93f88-273f-412c-f850-34db732108dd"
      },
      "source": [
        "name, fn = ('f_divergence', f_divergence_loss)\n",
        "dim = 4\n",
        "estimar_mi(dim, name, fn)"
      ],
      "execution_count": 16,
      "outputs": [
        {
          "output_type": "stream",
          "text": [
            "Ajustando datos con dim 4 y funcion f_divergence\n",
            "Corr factor : -0.9\tmi teorico 3.321\n",
            "Epoch 1000 || MI : 1.790\n",
            "Corr factor : -0.7\tmi teorico 1.347\n",
            "Epoch 1000 || MI : 1.183\n",
            "Corr factor : -0.5\tmi teorico 0.575\n",
            "Epoch 1000 || MI : 0.344\n",
            "Corr factor : -0.3\tmi teorico 0.189\n",
            "Epoch 1000 || MI : 0.152\n",
            "Corr factor : -0.1\tmi teorico 0.020\n",
            "Epoch 1000 || MI : 0.054\n",
            "Corr factor : 0.1\tmi teorico 0.020\n",
            "Epoch 1000 || MI : 0.070\n",
            "Corr factor : 0.3\tmi teorico 0.189\n",
            "Epoch 1000 || MI : 0.141\n",
            "Corr factor : 0.5\tmi teorico 0.575\n",
            "Epoch 1000 || MI : 0.283\n",
            "Corr factor : 0.7\tmi teorico 1.347\n",
            "Epoch 1000 || MI : 1.036\n",
            "Corr factor : 0.9\tmi teorico 3.321\n",
            "Epoch 1000 || MI : 1.757\n"
          ],
          "name": "stdout"
        },
        {
          "output_type": "display_data",
          "data": {
            "image/png": "[encoded data removed]",
            "text/plain": [
              "<Figure size 432x288 with 1 Axes>"
            ]
          },
          "metadata": {
            "tags": [],
            "needs_background": "light"
          }
        }
      ]
    },
    {
      "cell_type": "code",
      "metadata": {
        "colab_type": "code",
        "id": "Ldb07P3hfweL",
        "colab": {
          "base_uri": "https://localhost:8080/",
          "height": 669
        },
        "outputId": "7c34f0ef-3dd0-40d5-ce0c-f9bc8f168431"
      },
      "source": [
        "dim = 6\n",
        "estimar_mi(dim, name, fn)"
      ],
      "execution_count": 17,
      "outputs": [
        {
          "output_type": "stream",
          "text": [
            "Ajustando datos con dim 6 y funcion f_divergence\n",
            "Corr factor : -0.9\tmi teorico 4.982\n",
            "Epoch 1000 || MI : 2.821\n",
            "Corr factor : -0.7\tmi teorico 2.020\n",
            "Epoch 1000 || MI : 0.901\n",
            "Corr factor : -0.5\tmi teorico 0.863\n",
            "Epoch 1000 || MI : 0.342\n",
            "Corr factor : -0.3\tmi teorico 0.283\n",
            "Epoch 1000 || MI : 0.192\n",
            "Corr factor : -0.1\tmi teorico 0.030\n",
            "Epoch 1000 || MI : 0.092\n",
            "Corr factor : 0.1\tmi teorico 0.030\n",
            "Epoch 1000 || MI : 0.060\n",
            "Corr factor : 0.3\tmi teorico 0.283\n",
            "Epoch 1000 || MI : 0.147\n",
            "Corr factor : 0.5\tmi teorico 0.863\n",
            "Epoch 1000 || MI : 0.406\n",
            "Corr factor : 0.7\tmi teorico 2.020\n",
            "Epoch 1000 || MI : 0.752\n",
            "Corr factor : 0.9\tmi teorico 4.982\n",
            "Epoch 1000 || MI : 4.991\n"
          ],
          "name": "stdout"
        },
        {
          "output_type": "display_data",
          "data": {
            "image/png": "[encoded data removed]",
            "text/plain": [
              "<Figure size 432x288 with 1 Axes>"
            ]
          },
          "metadata": {
            "tags": [],
            "needs_background": "light"
          }
        }
      ]
    },
    {
      "cell_type": "code",
      "metadata": {
        "colab_type": "code",
        "id": "eMQGpTBxfw6F",
        "colab": {}
      },
      "source": [
        ""
      ],
      "execution_count": 0,
      "outputs": []
    }
  ]
}