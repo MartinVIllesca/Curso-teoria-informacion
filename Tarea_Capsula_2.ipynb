{
  "nbformat": 4,
  "nbformat_minor": 0,
  "metadata": {
    "kernelspec": {
      "display_name": "Python 3",
      "language": "python",
      "name": "python3"
    },
    "language_info": {
      "codemirror_mode": {
        "name": "ipython",
        "version": 3
      },
      "file_extension": ".py",
      "mimetype": "text/x-python",
      "name": "python",
      "nbconvert_exporter": "python",
      "pygments_lexer": "ipython3",
      "version": "3.7.4"
    },
    "colab": {
      "name": "Tarea_Capsula_2.ipynb",
      "provenance": [],
      "include_colab_link": true
    },
    "accelerator": "GPU",
    "widgets": {
      "application/vnd.jupyter.widget-state+json": {
        "1738aa1604c54fcfabd955c28361bddd": {
          "model_module": "@jupyter-widgets/controls",
          "model_name": "HBoxModel",
          "state": {
            "_view_name": "HBoxView",
            "_dom_classes": [],
            "_model_name": "HBoxModel",
            "_view_module": "@jupyter-widgets/controls",
            "_model_module_version": "1.5.0",
            "_view_count": null,
            "_view_module_version": "1.5.0",
            "box_style": "",
            "layout": "IPY_MODEL_56ad858317da4d3e98089eb284383a76",
            "_model_module": "@jupyter-widgets/controls",
            "children": [
              "IPY_MODEL_aa5e5ea2a6eb418d86dc1dfc2216cb28",
              "IPY_MODEL_587a884a65954a0b93928d171d4d58f3"
            ]
          }
        },
        "56ad858317da4d3e98089eb284383a76": {
          "model_module": "@jupyter-widgets/base",
          "model_name": "LayoutModel",
          "state": {
            "_view_name": "LayoutView",
            "grid_template_rows": null,
            "right": null,
            "justify_content": null,
            "_view_module": "@jupyter-widgets/base",
            "overflow": null,
            "_model_module_version": "1.2.0",
            "_view_count": null,
            "flex_flow": null,
            "width": null,
            "min_width": null,
            "border": null,
            "align_items": null,
            "bottom": null,
            "_model_module": "@jupyter-widgets/base",
            "top": null,
            "grid_column": null,
            "overflow_y": null,
            "overflow_x": null,
            "grid_auto_flow": null,
            "grid_area": null,
            "grid_template_columns": null,
            "flex": null,
            "_model_name": "LayoutModel",
            "justify_items": null,
            "grid_row": null,
            "max_height": null,
            "align_content": null,
            "visibility": null,
            "align_self": null,
            "height": null,
            "min_height": null,
            "padding": null,
            "grid_auto_rows": null,
            "grid_gap": null,
            "max_width": null,
            "order": null,
            "_view_module_version": "1.2.0",
            "grid_template_areas": null,
            "object_position": null,
            "object_fit": null,
            "grid_auto_columns": null,
            "margin": null,
            "display": null,
            "left": null
          }
        },
        "aa5e5ea2a6eb418d86dc1dfc2216cb28": {
          "model_module": "@jupyter-widgets/controls",
          "model_name": "FloatProgressModel",
          "state": {
            "_view_name": "ProgressView",
            "style": "IPY_MODEL_965996d0bc044b5d9262e22f8a3f65a7",
            "_dom_classes": [],
            "description": "",
            "_model_name": "FloatProgressModel",
            "bar_style": "info",
            "max": 1,
            "_view_module": "@jupyter-widgets/controls",
            "_model_module_version": "1.5.0",
            "value": 1,
            "_view_count": null,
            "_view_module_version": "1.5.0",
            "orientation": "horizontal",
            "min": 0,
            "description_tooltip": null,
            "_model_module": "@jupyter-widgets/controls",
            "layout": "IPY_MODEL_0278a9b95e044b6782e82ae9c3afce1c"
          }
        },
        "587a884a65954a0b93928d171d4d58f3": {
          "model_module": "@jupyter-widgets/controls",
          "model_name": "HTMLModel",
          "state": {
            "_view_name": "HTMLView",
            "style": "IPY_MODEL_0a9db1fd4f0d4c7f8c63e3a909adffff",
            "_dom_classes": [],
            "description": "",
            "_model_name": "HTMLModel",
            "placeholder": "​",
            "_view_module": "@jupyter-widgets/controls",
            "_model_module_version": "1.5.0",
            "value": " 9920512/? [00:20&lt;00:00, 2640364.24it/s]",
            "_view_count": null,
            "_view_module_version": "1.5.0",
            "description_tooltip": null,
            "_model_module": "@jupyter-widgets/controls",
            "layout": "IPY_MODEL_9e7f554061354e00b03c337b1d33eda9"
          }
        },
        "965996d0bc044b5d9262e22f8a3f65a7": {
          "model_module": "@jupyter-widgets/controls",
          "model_name": "ProgressStyleModel",
          "state": {
            "_view_name": "StyleView",
            "_model_name": "ProgressStyleModel",
            "description_width": "initial",
            "_view_module": "@jupyter-widgets/base",
            "_model_module_version": "1.5.0",
            "_view_count": null,
            "_view_module_version": "1.2.0",
            "bar_color": null,
            "_model_module": "@jupyter-widgets/controls"
          }
        },
        "0278a9b95e044b6782e82ae9c3afce1c": {
          "model_module": "@jupyter-widgets/base",
          "model_name": "LayoutModel",
          "state": {
            "_view_name": "LayoutView",
            "grid_template_rows": null,
            "right": null,
            "justify_content": null,
            "_view_module": "@jupyter-widgets/base",
            "overflow": null,
            "_model_module_version": "1.2.0",
            "_view_count": null,
            "flex_flow": null,
            "width": null,
            "min_width": null,
            "border": null,
            "align_items": null,
            "bottom": null,
            "_model_module": "@jupyter-widgets/base",
            "top": null,
            "grid_column": null,
            "overflow_y": null,
            "overflow_x": null,
            "grid_auto_flow": null,
            "grid_area": null,
            "grid_template_columns": null,
            "flex": null,
            "_model_name": "LayoutModel",
            "justify_items": null,
            "grid_row": null,
            "max_height": null,
            "align_content": null,
            "visibility": null,
            "align_self": null,
            "height": null,
            "min_height": null,
            "padding": null,
            "grid_auto_rows": null,
            "grid_gap": null,
            "max_width": null,
            "order": null,
            "_view_module_version": "1.2.0",
            "grid_template_areas": null,
            "object_position": null,
            "object_fit": null,
            "grid_auto_columns": null,
            "margin": null,
            "display": null,
            "left": null
          }
        },
        "0a9db1fd4f0d4c7f8c63e3a909adffff": {
          "model_module": "@jupyter-widgets/controls",
          "model_name": "DescriptionStyleModel",
          "state": {
            "_view_name": "StyleView",
            "_model_name": "DescriptionStyleModel",
            "description_width": "",
            "_view_module": "@jupyter-widgets/base",
            "_model_module_version": "1.5.0",
            "_view_count": null,
            "_view_module_version": "1.2.0",
            "_model_module": "@jupyter-widgets/controls"
          }
        },
        "9e7f554061354e00b03c337b1d33eda9": {
          "model_module": "@jupyter-widgets/base",
          "model_name": "LayoutModel",
          "state": {
            "_view_name": "LayoutView",
            "grid_template_rows": null,
            "right": null,
            "justify_content": null,
            "_view_module": "@jupyter-widgets/base",
            "overflow": null,
            "_model_module_version": "1.2.0",
            "_view_count": null,
            "flex_flow": null,
            "width": null,
            "min_width": null,
            "border": null,
            "align_items": null,
            "bottom": null,
            "_model_module": "@jupyter-widgets/base",
            "top": null,
            "grid_column": null,
            "overflow_y": null,
            "overflow_x": null,
            "grid_auto_flow": null,
            "grid_area": null,
            "grid_template_columns": null,
            "flex": null,
            "_model_name": "LayoutModel",
            "justify_items": null,
            "grid_row": null,
            "max_height": null,
            "align_content": null,
            "visibility": null,
            "align_self": null,
            "height": null,
            "min_height": null,
            "padding": null,
            "grid_auto_rows": null,
            "grid_gap": null,
            "max_width": null,
            "order": null,
            "_view_module_version": "1.2.0",
            "grid_template_areas": null,
            "object_position": null,
            "object_fit": null,
            "grid_auto_columns": null,
            "margin": null,
            "display": null,
            "left": null
          }
        },
        "19dbe71ce3364a06bf2feb33f5f72dd4": {
          "model_module": "@jupyter-widgets/controls",
          "model_name": "HBoxModel",
          "state": {
            "_view_name": "HBoxView",
            "_dom_classes": [],
            "_model_name": "HBoxModel",
            "_view_module": "@jupyter-widgets/controls",
            "_model_module_version": "1.5.0",
            "_view_count": null,
            "_view_module_version": "1.5.0",
            "box_style": "",
            "layout": "IPY_MODEL_d7f56318d12848718a208a1ea28f2c4f",
            "_model_module": "@jupyter-widgets/controls",
            "children": [
              "IPY_MODEL_415338b76a0a42bda6dc832fd6828b4e",
              "IPY_MODEL_cdcb0f92bd864b28948f1b8da5acc6d0"
            ]
          }
        },
        "d7f56318d12848718a208a1ea28f2c4f": {
          "model_module": "@jupyter-widgets/base",
          "model_name": "LayoutModel",
          "state": {
            "_view_name": "LayoutView",
            "grid_template_rows": null,
            "right": null,
            "justify_content": null,
            "_view_module": "@jupyter-widgets/base",
            "overflow": null,
            "_model_module_version": "1.2.0",
            "_view_count": null,
            "flex_flow": null,
            "width": null,
            "min_width": null,
            "border": null,
            "align_items": null,
            "bottom": null,
            "_model_module": "@jupyter-widgets/base",
            "top": null,
            "grid_column": null,
            "overflow_y": null,
            "overflow_x": null,
            "grid_auto_flow": null,
            "grid_area": null,
            "grid_template_columns": null,
            "flex": null,
            "_model_name": "LayoutModel",
            "justify_items": null,
            "grid_row": null,
            "max_height": null,
            "align_content": null,
            "visibility": null,
            "align_self": null,
            "height": null,
            "min_height": null,
            "padding": null,
            "grid_auto_rows": null,
            "grid_gap": null,
            "max_width": null,
            "order": null,
            "_view_module_version": "1.2.0",
            "grid_template_areas": null,
            "object_position": null,
            "object_fit": null,
            "grid_auto_columns": null,
            "margin": null,
            "display": null,
            "left": null
          }
        },
        "415338b76a0a42bda6dc832fd6828b4e": {
          "model_module": "@jupyter-widgets/controls",
          "model_name": "FloatProgressModel",
          "state": {
            "_view_name": "ProgressView",
            "style": "IPY_MODEL_b3b37c5c99ee436abf6ffc61713c2a0f",
            "_dom_classes": [],
            "description": "  0%",
            "_model_name": "FloatProgressModel",
            "bar_style": "info",
            "max": 1,
            "_view_module": "@jupyter-widgets/controls",
            "_model_module_version": "1.5.0",
            "value": 0,
            "_view_count": null,
            "_view_module_version": "1.5.0",
            "orientation": "horizontal",
            "min": 0,
            "description_tooltip": null,
            "_model_module": "@jupyter-widgets/controls",
            "layout": "IPY_MODEL_c7b95d9459c147ab9a66142bc5f0b96d"
          }
        },
        "cdcb0f92bd864b28948f1b8da5acc6d0": {
          "model_module": "@jupyter-widgets/controls",
          "model_name": "HTMLModel",
          "state": {
            "_view_name": "HTMLView",
            "style": "IPY_MODEL_496bba19796544a3bca2a12f6c313243",
            "_dom_classes": [],
            "description": "",
            "_model_name": "HTMLModel",
            "placeholder": "​",
            "_view_module": "@jupyter-widgets/controls",
            "_model_module_version": "1.5.0",
            "value": " 0/28881 [00:00&lt;?, ?it/s]",
            "_view_count": null,
            "_view_module_version": "1.5.0",
            "description_tooltip": null,
            "_model_module": "@jupyter-widgets/controls",
            "layout": "IPY_MODEL_32d6c029bfd246a5844e31acd856edff"
          }
        },
        "b3b37c5c99ee436abf6ffc61713c2a0f": {
          "model_module": "@jupyter-widgets/controls",
          "model_name": "ProgressStyleModel",
          "state": {
            "_view_name": "StyleView",
            "_model_name": "ProgressStyleModel",
            "description_width": "initial",
            "_view_module": "@jupyter-widgets/base",
            "_model_module_version": "1.5.0",
            "_view_count": null,
            "_view_module_version": "1.2.0",
            "bar_color": null,
            "_model_module": "@jupyter-widgets/controls"
          }
        },
        "c7b95d9459c147ab9a66142bc5f0b96d": {
          "model_module": "@jupyter-widgets/base",
          "model_name": "LayoutModel",
          "state": {
            "_view_name": "LayoutView",
            "grid_template_rows": null,
            "right": null,
            "justify_content": null,
            "_view_module": "@jupyter-widgets/base",
            "overflow": null,
            "_model_module_version": "1.2.0",
            "_view_count": null,
            "flex_flow": null,
            "width": null,
            "min_width": null,
            "border": null,
            "align_items": null,
            "bottom": null,
            "_model_module": "@jupyter-widgets/base",
            "top": null,
            "grid_column": null,
            "overflow_y": null,
            "overflow_x": null,
            "grid_auto_flow": null,
            "grid_area": null,
            "grid_template_columns": null,
            "flex": null,
            "_model_name": "LayoutModel",
            "justify_items": null,
            "grid_row": null,
            "max_height": null,
            "align_content": null,
            "visibility": null,
            "align_self": null,
            "height": null,
            "min_height": null,
            "padding": null,
            "grid_auto_rows": null,
            "grid_gap": null,
            "max_width": null,
            "order": null,
            "_view_module_version": "1.2.0",
            "grid_template_areas": null,
            "object_position": null,
            "object_fit": null,
            "grid_auto_columns": null,
            "margin": null,
            "display": null,
            "left": null
          }
        },
        "496bba19796544a3bca2a12f6c313243": {
          "model_module": "@jupyter-widgets/controls",
          "model_name": "DescriptionStyleModel",
          "state": {
            "_view_name": "StyleView",
            "_model_name": "DescriptionStyleModel",
            "description_width": "",
            "_view_module": "@jupyter-widgets/base",
            "_model_module_version": "1.5.0",
            "_view_count": null,
            "_view_module_version": "1.2.0",
            "_model_module": "@jupyter-widgets/controls"
          }
        },
        "32d6c029bfd246a5844e31acd856edff": {
          "model_module": "@jupyter-widgets/base",
          "model_name": "LayoutModel",
          "state": {
            "_view_name": "LayoutView",
            "grid_template_rows": null,
            "right": null,
            "justify_content": null,
            "_view_module": "@jupyter-widgets/base",
            "overflow": null,
            "_model_module_version": "1.2.0",
            "_view_count": null,
            "flex_flow": null,
            "width": null,
            "min_width": null,
            "border": null,
            "align_items": null,
            "bottom": null,
            "_model_module": "@jupyter-widgets/base",
            "top": null,
            "grid_column": null,
            "overflow_y": null,
            "overflow_x": null,
            "grid_auto_flow": null,
            "grid_area": null,
            "grid_template_columns": null,
            "flex": null,
            "_model_name": "LayoutModel",
            "justify_items": null,
            "grid_row": null,
            "max_height": null,
            "align_content": null,
            "visibility": null,
            "align_self": null,
            "height": null,
            "min_height": null,
            "padding": null,
            "grid_auto_rows": null,
            "grid_gap": null,
            "max_width": null,
            "order": null,
            "_view_module_version": "1.2.0",
            "grid_template_areas": null,
            "object_position": null,
            "object_fit": null,
            "grid_auto_columns": null,
            "margin": null,
            "display": null,
            "left": null
          }
        },
        "7f084542421a497291d99876e6a61b26": {
          "model_module": "@jupyter-widgets/controls",
          "model_name": "HBoxModel",
          "state": {
            "_view_name": "HBoxView",
            "_dom_classes": [],
            "_model_name": "HBoxModel",
            "_view_module": "@jupyter-widgets/controls",
            "_model_module_version": "1.5.0",
            "_view_count": null,
            "_view_module_version": "1.5.0",
            "box_style": "",
            "layout": "IPY_MODEL_8a2b187e74d349bca80ab01e4c5d6138",
            "_model_module": "@jupyter-widgets/controls",
            "children": [
              "IPY_MODEL_10b2c623dc2449bc843855bea45c33f1",
              "IPY_MODEL_4c68194f0c494f19bb6cd8669cfce043"
            ]
          }
        },
        "8a2b187e74d349bca80ab01e4c5d6138": {
          "model_module": "@jupyter-widgets/base",
          "model_name": "LayoutModel",
          "state": {
            "_view_name": "LayoutView",
            "grid_template_rows": null,
            "right": null,
            "justify_content": null,
            "_view_module": "@jupyter-widgets/base",
            "overflow": null,
            "_model_module_version": "1.2.0",
            "_view_count": null,
            "flex_flow": null,
            "width": null,
            "min_width": null,
            "border": null,
            "align_items": null,
            "bottom": null,
            "_model_module": "@jupyter-widgets/base",
            "top": null,
            "grid_column": null,
            "overflow_y": null,
            "overflow_x": null,
            "grid_auto_flow": null,
            "grid_area": null,
            "grid_template_columns": null,
            "flex": null,
            "_model_name": "LayoutModel",
            "justify_items": null,
            "grid_row": null,
            "max_height": null,
            "align_content": null,
            "visibility": null,
            "align_self": null,
            "height": null,
            "min_height": null,
            "padding": null,
            "grid_auto_rows": null,
            "grid_gap": null,
            "max_width": null,
            "order": null,
            "_view_module_version": "1.2.0",
            "grid_template_areas": null,
            "object_position": null,
            "object_fit": null,
            "grid_auto_columns": null,
            "margin": null,
            "display": null,
            "left": null
          }
        },
        "10b2c623dc2449bc843855bea45c33f1": {
          "model_module": "@jupyter-widgets/controls",
          "model_name": "FloatProgressModel",
          "state": {
            "_view_name": "ProgressView",
            "style": "IPY_MODEL_9acbc20af7e14727b307ac562e6e2b82",
            "_dom_classes": [],
            "description": "",
            "_model_name": "FloatProgressModel",
            "bar_style": "success",
            "max": 1,
            "_view_module": "@jupyter-widgets/controls",
            "_model_module_version": "1.5.0",
            "value": 1,
            "_view_count": null,
            "_view_module_version": "1.5.0",
            "orientation": "horizontal",
            "min": 0,
            "description_tooltip": null,
            "_model_module": "@jupyter-widgets/controls",
            "layout": "IPY_MODEL_1e95e65dcae645a3b2e1f25ab8a61d47"
          }
        },
        "4c68194f0c494f19bb6cd8669cfce043": {
          "model_module": "@jupyter-widgets/controls",
          "model_name": "HTMLModel",
          "state": {
            "_view_name": "HTMLView",
            "style": "IPY_MODEL_dc1914108b964e8e91fd31f8ac4e3629",
            "_dom_classes": [],
            "description": "",
            "_model_name": "HTMLModel",
            "placeholder": "​",
            "_view_module": "@jupyter-widgets/controls",
            "_model_module_version": "1.5.0",
            "value": " 1654784/? [00:01&lt;00:00, 1355576.81it/s]",
            "_view_count": null,
            "_view_module_version": "1.5.0",
            "description_tooltip": null,
            "_model_module": "@jupyter-widgets/controls",
            "layout": "IPY_MODEL_6918c472824b4bf8897ead8936cf87d8"
          }
        },
        "9acbc20af7e14727b307ac562e6e2b82": {
          "model_module": "@jupyter-widgets/controls",
          "model_name": "ProgressStyleModel",
          "state": {
            "_view_name": "StyleView",
            "_model_name": "ProgressStyleModel",
            "description_width": "initial",
            "_view_module": "@jupyter-widgets/base",
            "_model_module_version": "1.5.0",
            "_view_count": null,
            "_view_module_version": "1.2.0",
            "bar_color": null,
            "_model_module": "@jupyter-widgets/controls"
          }
        },
        "1e95e65dcae645a3b2e1f25ab8a61d47": {
          "model_module": "@jupyter-widgets/base",
          "model_name": "LayoutModel",
          "state": {
            "_view_name": "LayoutView",
            "grid_template_rows": null,
            "right": null,
            "justify_content": null,
            "_view_module": "@jupyter-widgets/base",
            "overflow": null,
            "_model_module_version": "1.2.0",
            "_view_count": null,
            "flex_flow": null,
            "width": null,
            "min_width": null,
            "border": null,
            "align_items": null,
            "bottom": null,
            "_model_module": "@jupyter-widgets/base",
            "top": null,
            "grid_column": null,
            "overflow_y": null,
            "overflow_x": null,
            "grid_auto_flow": null,
            "grid_area": null,
            "grid_template_columns": null,
            "flex": null,
            "_model_name": "LayoutModel",
            "justify_items": null,
            "grid_row": null,
            "max_height": null,
            "align_content": null,
            "visibility": null,
            "align_self": null,
            "height": null,
            "min_height": null,
            "padding": null,
            "grid_auto_rows": null,
            "grid_gap": null,
            "max_width": null,
            "order": null,
            "_view_module_version": "1.2.0",
            "grid_template_areas": null,
            "object_position": null,
            "object_fit": null,
            "grid_auto_columns": null,
            "margin": null,
            "display": null,
            "left": null
          }
        },
        "dc1914108b964e8e91fd31f8ac4e3629": {
          "model_module": "@jupyter-widgets/controls",
          "model_name": "DescriptionStyleModel",
          "state": {
            "_view_name": "StyleView",
            "_model_name": "DescriptionStyleModel",
            "description_width": "",
            "_view_module": "@jupyter-widgets/base",
            "_model_module_version": "1.5.0",
            "_view_count": null,
            "_view_module_version": "1.2.0",
            "_model_module": "@jupyter-widgets/controls"
          }
        },
        "6918c472824b4bf8897ead8936cf87d8": {
          "model_module": "@jupyter-widgets/base",
          "model_name": "LayoutModel",
          "state": {
            "_view_name": "LayoutView",
            "grid_template_rows": null,
            "right": null,
            "justify_content": null,
            "_view_module": "@jupyter-widgets/base",
            "overflow": null,
            "_model_module_version": "1.2.0",
            "_view_count": null,
            "flex_flow": null,
            "width": null,
            "min_width": null,
            "border": null,
            "align_items": null,
            "bottom": null,
            "_model_module": "@jupyter-widgets/base",
            "top": null,
            "grid_column": null,
            "overflow_y": null,
            "overflow_x": null,
            "grid_auto_flow": null,
            "grid_area": null,
            "grid_template_columns": null,
            "flex": null,
            "_model_name": "LayoutModel",
            "justify_items": null,
            "grid_row": null,
            "max_height": null,
            "align_content": null,
            "visibility": null,
            "align_self": null,
            "height": null,
            "min_height": null,
            "padding": null,
            "grid_auto_rows": null,
            "grid_gap": null,
            "max_width": null,
            "order": null,
            "_view_module_version": "1.2.0",
            "grid_template_areas": null,
            "object_position": null,
            "object_fit": null,
            "grid_auto_columns": null,
            "margin": null,
            "display": null,
            "left": null
          }
        },
        "08545485bad14ac4af5884b64143982e": {
          "model_module": "@jupyter-widgets/controls",
          "model_name": "HBoxModel",
          "state": {
            "_view_name": "HBoxView",
            "_dom_classes": [],
            "_model_name": "HBoxModel",
            "_view_module": "@jupyter-widgets/controls",
            "_model_module_version": "1.5.0",
            "_view_count": null,
            "_view_module_version": "1.5.0",
            "box_style": "",
            "layout": "IPY_MODEL_194ebe4de3cf4b349810aa93da220be3",
            "_model_module": "@jupyter-widgets/controls",
            "children": [
              "IPY_MODEL_43ad3258434446f6aa0ebc9330c78929",
              "IPY_MODEL_ddc2174055db4462a2a1de711f157d2e"
            ]
          }
        },
        "194ebe4de3cf4b349810aa93da220be3": {
          "model_module": "@jupyter-widgets/base",
          "model_name": "LayoutModel",
          "state": {
            "_view_name": "LayoutView",
            "grid_template_rows": null,
            "right": null,
            "justify_content": null,
            "_view_module": "@jupyter-widgets/base",
            "overflow": null,
            "_model_module_version": "1.2.0",
            "_view_count": null,
            "flex_flow": null,
            "width": null,
            "min_width": null,
            "border": null,
            "align_items": null,
            "bottom": null,
            "_model_module": "@jupyter-widgets/base",
            "top": null,
            "grid_column": null,
            "overflow_y": null,
            "overflow_x": null,
            "grid_auto_flow": null,
            "grid_area": null,
            "grid_template_columns": null,
            "flex": null,
            "_model_name": "LayoutModel",
            "justify_items": null,
            "grid_row": null,
            "max_height": null,
            "align_content": null,
            "visibility": null,
            "align_self": null,
            "height": null,
            "min_height": null,
            "padding": null,
            "grid_auto_rows": null,
            "grid_gap": null,
            "max_width": null,
            "order": null,
            "_view_module_version": "1.2.0",
            "grid_template_areas": null,
            "object_position": null,
            "object_fit": null,
            "grid_auto_columns": null,
            "margin": null,
            "display": null,
            "left": null
          }
        },
        "43ad3258434446f6aa0ebc9330c78929": {
          "model_module": "@jupyter-widgets/controls",
          "model_name": "FloatProgressModel",
          "state": {
            "_view_name": "ProgressView",
            "style": "IPY_MODEL_4d207c5b9a4549fea3673027eb74bf1c",
            "_dom_classes": [],
            "description": "",
            "_model_name": "FloatProgressModel",
            "bar_style": "success",
            "max": 1,
            "_view_module": "@jupyter-widgets/controls",
            "_model_module_version": "1.5.0",
            "value": 1,
            "_view_count": null,
            "_view_module_version": "1.5.0",
            "orientation": "horizontal",
            "min": 0,
            "description_tooltip": null,
            "_model_module": "@jupyter-widgets/controls",
            "layout": "IPY_MODEL_6848dec6d77142dbb330480c7c501b11"
          }
        },
        "ddc2174055db4462a2a1de711f157d2e": {
          "model_module": "@jupyter-widgets/controls",
          "model_name": "HTMLModel",
          "state": {
            "_view_name": "HTMLView",
            "style": "IPY_MODEL_fab7bd88a659407cb5b34c3757dd1d5b",
            "_dom_classes": [],
            "description": "",
            "_model_name": "HTMLModel",
            "placeholder": "​",
            "_view_module": "@jupyter-widgets/controls",
            "_model_module_version": "1.5.0",
            "value": " 8192/? [00:00&lt;00:00, 20681.97it/s]",
            "_view_count": null,
            "_view_module_version": "1.5.0",
            "description_tooltip": null,
            "_model_module": "@jupyter-widgets/controls",
            "layout": "IPY_MODEL_71dd6da0f62d49db88036545fc07fe96"
          }
        },
        "4d207c5b9a4549fea3673027eb74bf1c": {
          "model_module": "@jupyter-widgets/controls",
          "model_name": "ProgressStyleModel",
          "state": {
            "_view_name": "StyleView",
            "_model_name": "ProgressStyleModel",
            "description_width": "initial",
            "_view_module": "@jupyter-widgets/base",
            "_model_module_version": "1.5.0",
            "_view_count": null,
            "_view_module_version": "1.2.0",
            "bar_color": null,
            "_model_module": "@jupyter-widgets/controls"
          }
        },
        "6848dec6d77142dbb330480c7c501b11": {
          "model_module": "@jupyter-widgets/base",
          "model_name": "LayoutModel",
          "state": {
            "_view_name": "LayoutView",
            "grid_template_rows": null,
            "right": null,
            "justify_content": null,
            "_view_module": "@jupyter-widgets/base",
            "overflow": null,
            "_model_module_version": "1.2.0",
            "_view_count": null,
            "flex_flow": null,
            "width": null,
            "min_width": null,
            "border": null,
            "align_items": null,
            "bottom": null,
            "_model_module": "@jupyter-widgets/base",
            "top": null,
            "grid_column": null,
            "overflow_y": null,
            "overflow_x": null,
            "grid_auto_flow": null,
            "grid_area": null,
            "grid_template_columns": null,
            "flex": null,
            "_model_name": "LayoutModel",
            "justify_items": null,
            "grid_row": null,
            "max_height": null,
            "align_content": null,
            "visibility": null,
            "align_self": null,
            "height": null,
            "min_height": null,
            "padding": null,
            "grid_auto_rows": null,
            "grid_gap": null,
            "max_width": null,
            "order": null,
            "_view_module_version": "1.2.0",
            "grid_template_areas": null,
            "object_position": null,
            "object_fit": null,
            "grid_auto_columns": null,
            "margin": null,
            "display": null,
            "left": null
          }
        },
        "fab7bd88a659407cb5b34c3757dd1d5b": {
          "model_module": "@jupyter-widgets/controls",
          "model_name": "DescriptionStyleModel",
          "state": {
            "_view_name": "StyleView",
            "_model_name": "DescriptionStyleModel",
            "description_width": "",
            "_view_module": "@jupyter-widgets/base",
            "_model_module_version": "1.5.0",
            "_view_count": null,
            "_view_module_version": "1.2.0",
            "_model_module": "@jupyter-widgets/controls"
          }
        },
        "71dd6da0f62d49db88036545fc07fe96": {
          "model_module": "@jupyter-widgets/base",
          "model_name": "LayoutModel",
          "state": {
            "_view_name": "LayoutView",
            "grid_template_rows": null,
            "right": null,
            "justify_content": null,
            "_view_module": "@jupyter-widgets/base",
            "overflow": null,
            "_model_module_version": "1.2.0",
            "_view_count": null,
            "flex_flow": null,
            "width": null,
            "min_width": null,
            "border": null,
            "align_items": null,
            "bottom": null,
            "_model_module": "@jupyter-widgets/base",
            "top": null,
            "grid_column": null,
            "overflow_y": null,
            "overflow_x": null,
            "grid_auto_flow": null,
            "grid_area": null,
            "grid_template_columns": null,
            "flex": null,
            "_model_name": "LayoutModel",
            "justify_items": null,
            "grid_row": null,
            "max_height": null,
            "align_content": null,
            "visibility": null,
            "align_self": null,
            "height": null,
            "min_height": null,
            "padding": null,
            "grid_auto_rows": null,
            "grid_gap": null,
            "max_width": null,
            "order": null,
            "_view_module_version": "1.2.0",
            "grid_template_areas": null,
            "object_position": null,
            "object_fit": null,
            "grid_auto_columns": null,
            "margin": null,
            "display": null,
            "left": null
          }
        }
      }
    }
  },
  "cells": [
    {
      "cell_type": "markdown",
      "metadata": {
        "id": "view-in-github",
        "colab_type": "text"
      },
      "source": [
        "<a href=\"https://colab.research.google.com/github/MartinVIllesca/Curso-teoria-informacion/blob/master/Tarea_Capsula_2.ipynb\" target=\"_parent\"><img src=\"https://colab.research.google.com/assets/colab-badge.svg\" alt=\"Open In Colab\"/></a>"
      ]
    },
    {
      "cell_type": "markdown",
      "metadata": {
        "id": "zZvs96ka7Q0z",
        "colab_type": "text"
      },
      "source": [
        "# Tarea Cápsula #2: *Representation Learning*\n",
        "\n",
        "### EL7024 - Teoría de la Información: Fundamentos y Aplicaciones \n",
        "### Information and Decision Systems Group"
      ]
    },
    {
      "cell_type": "markdown",
      "metadata": {
        "id": "LHLXeBud7Q03",
        "colab_type": "text"
      },
      "source": [
        "Nombre: Martín Valderrama Illesca"
      ]
    },
    {
      "cell_type": "markdown",
      "metadata": {
        "id": "xi7iblhW7Q07",
        "colab_type": "text"
      },
      "source": [
        "## Preguntas Teóricas:"
      ]
    },
    {
      "cell_type": "markdown",
      "metadata": {
        "id": "MwXXm2SS7Q0-",
        "colab_type": "text"
      },
      "source": [
        "### P1) Inferencia Variacional"
      ]
    },
    {
      "cell_type": "markdown",
      "metadata": {
        "id": "qDb-dSYt7Q1A",
        "colab_type": "text"
      },
      "source": [
        "a) A partir del funcional objetivo de Inferencia Variacional $KL(q(\\mathbf{z})||p(\\mathbf{z}|\\mathbf{x}))$ encuentre una cota inferior para el logaritmo de la **evidencia** $log p(x)$ y muestre que esta se puede escribir como:\n",
        "\n",
        "\\begin{equation}\n",
        "\\begin{split}\n",
        "ELBO(q) &= \\mathbb{E}_{\\mathbf{Z} \\sim q(\\mathbf{z})}\\{\\log{p(\\mathbf{x},\\mathbf{z})}\\} - \\mathbb{E}_{\\mathbf{Z} \\sim q(\\mathbf{z})}\\{\\log{q(\\mathbf{z})}\\} \\\\\n",
        "&= \\mathbb{E}_{\\mathbf{Z} \\sim q(\\mathbf{z})}\\{\\log{p(\\mathbf{x}|\\mathbf{z})}\\} - KL(q(\\mathbf{z})||p(\\mathbf{z}))\n",
        "\\end{split}\n",
        "\\end{equation}"
      ]
    },
    {
      "cell_type": "markdown",
      "metadata": {
        "id": "h9jwBqlu7Q1C",
        "colab_type": "text"
      },
      "source": [
        "b) Explique e interprete la forma de la *Evidence Lower Bound*. En este sentido puede resultarle más fácil considerar la segunda expresión $ELBO(q) = \\mathbb{E}_{\\mathbf{Z} \\sim q(\\mathbf{z})}\\{\\log{p(\\mathbf{x}|\\mathbf{z})}\\} - KL(q(\\mathbf{z})||p(\\mathbf{z}))$.\n",
        "\n",
        "**Hint**: Puede resultarle útil pensar en lo siguiente: ¿Para qué valores de $\\mathbf{z}$ o bajo qué criterio cada término de este funcional propicia la asignación de masa en $q(\\mathbf{z})$?"
      ]
    },
    {
      "cell_type": "markdown",
      "metadata": {
        "id": "WdSfNazB7Q1F",
        "colab_type": "text"
      },
      "source": [
        "c) Explique brevemente por qué los problemas de optimización $\\underset{q(\\mathbf{z}) \\in \\mathcal{Q}}{\\operatorname{arg min}} KL(q(\\mathbf{z})||p(\\mathbf{z}|\\mathbf{x}))$ y $\\underset{q(\\mathbf{z}) \\in \\mathcal{Q}}{\\operatorname{arg max}} ELBO(q)$ son equivalentes."
      ]
    },
    {
      "cell_type": "markdown",
      "metadata": {
        "id": "ML0kgbM17Q1H",
        "colab_type": "text"
      },
      "source": [
        "### P2) Information Bottleneck Profundo"
      ]
    },
    {
      "cell_type": "markdown",
      "metadata": {
        "id": "EN3EVwCH7Q1K",
        "colab_type": "text"
      },
      "source": [
        "En el mismo estilo que estudiamos para los *Autoencoders* Variacionales deduciremos la forma de definir una función de pérdida adecuada para abordar el problema del *Information Bottleneck* por medio de redes neuronales. Para esto, primero reescribimos el problema de la siguiente manera:\n",
        "\n",
        "\\begin{equation}\n",
        "    \\underset{p(\\mathbf{z}|\\mathbf{x}), p(\\mathbf{y}|\\mathbf{z})}{\\operatorname{max}} R_{IB} = I(\\mathbf{Y};\\mathbf{Z}) - \\beta I(\\mathbf{X};\\mathbf{Z})\n",
        "\\end{equation}\n",
        "\n",
        "de modo tal que deduciremos una cota inferior del funcional, siendo $\\mathbf{Z}$ la variable latente que comprime la señal de entrada $\\mathbf{X}$ y se utiliza en la predicción de $\\mathbf{Y}$, y es tal que $\\mathbf{Z} - \\mathbf{X} - \\mathbf{Y}$."
      ]
    },
    {
      "cell_type": "markdown",
      "metadata": {
        "id": "K3a7rKCI7Q1O",
        "colab_type": "text"
      },
      "source": [
        "a) Consideremos primero una cota inferior para $I(\\mathbf{Y};\\mathbf{Z})$. Considerando que $q(\\mathbf{y}|\\mathbf{z})$ es una aproximación variacional del *decoder* $p(\\mathbf{y}|\\mathbf{z})$ y el supuesto de Markovianidad demuestre que:\n",
        "\n",
        "\\begin{equation}\n",
        "    I(\\mathbf{Y};\\mathbf{Z}) \\geq \\int_{\\mathcal{X}}\\int_{\\mathcal{Z}}\\int_{\\mathcal{Y}}p(z|x)p(y|x)p(x)\\log q(y|z) dydzdx = \\tilde{I}(\\mathbf{Y};\\mathbf{Z})\n",
        "\\end{equation}"
      ]
    },
    {
      "cell_type": "markdown",
      "metadata": {
        "id": "R_HE4ypl7Q1Q",
        "colab_type": "text"
      },
      "source": [
        "b) Para el término $I(\\mathbf{X};\\mathbf{Z})$ es necesaria una cota superior. Demuestre que una aproximación variacional $r(\\mathbf{z})$ del *prior* $p(\\mathbf{z})$ satisface que:\n",
        "\n",
        "\\begin{equation}\n",
        "    I(\\mathbf{X};\\mathbf{Z}) \\leq \\int_{\\mathcal{X}}\\int_{\\mathcal{Z}}\\int_{\\mathcal{Y}}p(z|x)p(y|x)p(x)\\log \\frac{p(z|x)}{r(z)} dydzdx = \\tilde{I}(\\mathbf{X};\\mathbf{Z})\n",
        "\\end{equation}"
      ]
    },
    {
      "cell_type": "markdown",
      "metadata": {
        "id": "MZFeoLNv7Q1R",
        "colab_type": "text"
      },
      "source": [
        "Definamos la cota resultante para $R_{IB}$ por\n",
        "\n",
        "\\begin{equation}\n",
        "    \\mathcal{L}_{IB} = \\tilde{I}(\\mathbf{Y};\\mathbf{Z}) - \\beta \\tilde{I}(\\mathbf{X};\\mathbf{Z})\n",
        "\\end{equation}"
      ]
    },
    {
      "cell_type": "markdown",
      "metadata": {
        "id": "BKrswFxk7Q1U",
        "colab_type": "text"
      },
      "source": [
        "c) Empleando la distribución conjunta empírica $\\tilde{p}(x,y) = \\frac{1}{N}\\sum_{i=1}^{N}\\delta_{x^{(i)}}(x)\\delta_{y^{(i)}}(y)$ deduzca que\n",
        "\n",
        "\\begin{equation}\n",
        "    \\mathcal{L}_{IB} \\approx \\frac{1}{N}\\sum_{i=1}^{N}\\left[ \\mathbb{E}_{\\mathbf{Z} \\sim p(\\mathbf{z}|\\mathbf{x})} \\left\\{ \\log q(\\mathbf{y}^{(i)}|\\mathbf{z}) \\right\\} - \\beta KL\\left( p(\\mathbf{z}|\\mathbf{x}^{(i)}) || r(\\mathbf{z}) \\right)\\right]\n",
        "\\end{equation}"
      ]
    },
    {
      "cell_type": "markdown",
      "metadata": {
        "id": "_iNr1Epi7Q1X",
        "colab_type": "text"
      },
      "source": [
        "## Preguntas de Simulación:"
      ]
    },
    {
      "cell_type": "markdown",
      "metadata": {
        "id": "E2dhwpYx7Q1Z",
        "colab_type": "text"
      },
      "source": [
        "En esta parte de la tarea deberán implementar y probar el modelo deducido en la pregunta 2 mediante redes neuronales, donde se considera que las aproximaciones variacionales están parametrizadas por una red correspondiente al *encoder* $p_{\\theta}(\\mathbf{z}|\\mathbf{x})$ y otra para el *decoder* $q_{\\phi}(\\mathbf{y}|\\mathbf{z})$, es decir que el funcional a **minimizar** corresponde a:\n",
        "\n",
        "\\begin{equation}\n",
        "    \\begin{split}\n",
        "        \\mathcal{L}'_{IB}(\\phi, \\theta) &= -\\frac{1}{N}\\sum_{i=1}^{N}\\left[ \\mathbb{E}_{\\mathbf{Z} \\sim p_{\\theta}(\\mathbf{z}|\\mathbf{x})} \\left\\{ \\log q_{\\phi}(\\mathbf{y}^{(i)}|\\mathbf{z}) \\right\\} - \\beta KL\\left( p_\\theta(\\mathbf{z}|\\mathbf{x}^{(i)}) || r(\\mathbf{z}) \\right)\\right] \\\\\n",
        "        &= \\frac{1}{N}\\sum_{i=1}^{N}\\left[ \\mathbb{E}_{\\mathbf{Z} \\sim p_{\\theta}(\\mathbf{z}|\\mathbf{x})} \\left\\{ -\\log q_{\\phi}(\\mathbf{y}^{(i)}|\\mathbf{z}) \\right\\} + \\beta KL\\left( p_\\theta(\\mathbf{z}|\\mathbf{x}^{(i)}) || r(\\mathbf{z}) \\right)\\right]\n",
        "    \\end{split}\n",
        "\\end{equation}\n",
        "\n",
        "Los experimentos se realizarán sobre el *dataset* MNIST en el problema de **clasificación**."
      ]
    },
    {
      "cell_type": "markdown",
      "metadata": {
        "id": "SmeHdj5s7Q1d",
        "colab_type": "text"
      },
      "source": [
        "i) Implemente una clase $\\texttt{DeepIB}$ que corresponda a la siguiente arquitectura:\n",
        "\n",
        "* *Encoder* Gaussiano: Red *fully-connected* $784\\to1024\\to1024\\to2K$, donde K es la dimensionalidad de la variable latente. Los primeros $K$ valores de dicha capa corresponderán a $\\mu_{\\mathbf{z}}(\\mathbf{x})$ y las siguientes $K$ componentes comprenden las desviaciones estándar $\\sigma_{\\mathbf{z}}(\\mathbf{x})$. Entre cada capa debe usar la función de activación $\\texttt{ReLU}$.\n",
        "**Hint**: Para asegurar que las desviaciones estándar $\\sigma_{\\mathbf{z}}(\\mathbf{x})$ sean positivas se recomienda aplicarles la siguiente transformación: \n",
        "\n",
        "\\begin{equation}\n",
        "    \\sigma_{\\mathbf{z}}(\\mathbf{x}) = \\log (1 + \\exp (\\sigma_{\\mathbf{z}}^{raw}(\\mathbf{x}) - 5.0)),\n",
        "\\end{equation}\n",
        "\n",
        "$\\hspace{7mm}$ donde $\\sigma_{\\mathbf{z}}^{raw}(\\mathbf{x})$ denota a la desviación estándar antes de aplicar esta transformación.\n",
        "\n",
        "* *Decoder*: Red *fully-connected* $K\\to10$. Considere que este decoder es determinístico.\n",
        "\n",
        "Para la Función de Costo considere $r(\\mathbf{z}) = \\mathcal{N}(\\mathbf{z};0,I)$ (es decir que requiere una expresión cerrada para el término de divergencia).\n",
        "\n",
        "**Hint**: Dado que el *decoder* es determinístico, puede usar la función de *Cross-Entropy* para el primer término, en forma astuta."
      ]
    },
    {
      "cell_type": "markdown",
      "metadata": {
        "id": "ZTt5S8A97Q1h",
        "colab_type": "text"
      },
      "source": [
        "ii) Implemente una clase $\\texttt{MLP}$ correspondiente a la arquitectura $784\\to1024\\to1024\\to K\\to10$ para un mismo valor de $K$ que en el caso de $\\texttt{DeepIB}$. Al ser un problema de clasificación puede entrenar con *Cross-Entropy*."
      ]
    },
    {
      "cell_type": "markdown",
      "metadata": {
        "id": "CC-h8bO67Q1k",
        "colab_type": "text"
      },
      "source": [
        "iii) Para $K=2$ y $\\beta \\in \\{10^{-3}, 10^{-1},1\\}$, entrene ambos modelos considerando un *loop* de entrenamiento similar al de la Cápsula 2, de tal modo que el *learning rate* del optimizador Adam decaiga en $97\\%$ cada $2$ épocas:\n",
        "\n",
        "$\\texttt{lr0 = 10e-4}$\n",
        "\n",
        "$\\texttt{beta1 = 0.5}$\n",
        "\n",
        "$\\texttt{beta2 = 0.999}$\n",
        "\n",
        "$\\texttt{lr_decay = 0.97}$\n",
        "\n",
        "$\\texttt{decay_rate = 2}$\n",
        "\n",
        "$\\texttt{nEpochs = 200}$"
      ]
    },
    {
      "cell_type": "markdown",
      "metadata": {
        "id": "ijBDAN7u7Q1p",
        "colab_type": "text"
      },
      "source": [
        "Como parámetro $L$ de muestreo para aplicar el *Reparametrization Trick* puede utilizar $L=12$. Si usa la función de Pytorch [$\\texttt{torch.nn.CrossEntropyLoss}$](https://pytorch.org/docs/master/generated/torch.nn.CrossEntropyLoss.html#torch.nn.CrossEntropyLoss) se recomienda revisar el efecto de usar $\\texttt{reduction='none'}$."
      ]
    },
    {
      "cell_type": "markdown",
      "metadata": {
        "id": "GTKVhNZa7Q1r",
        "colab_type": "text"
      },
      "source": [
        "Compare y analice la *accuracy* obtenida por los modelos estocásticos obtenidos entre sí y con el modelo $\\texttt{MLP}$ clásico.\n",
        "\n",
        "Además, para los modelos estocásticos, obtenga la proyección de los datos de prueba en el espacio latente $K$-dimensional y analice el efecto de $\\beta$ en este resultado."
      ]
    },
    {
      "cell_type": "code",
      "metadata": {
        "id": "k0URp_cl7Q1v",
        "colab_type": "code",
        "outputId": "5a22c480-2321-4b55-efb3-388d748a7376",
        "colab": {
          "base_uri": "https://localhost:8080/",
          "height": 34
        }
      },
      "source": [
        "#%tensorflow_version 1.x\n",
        "#%load_ext tensorboard\n",
        "\n",
        "%matplotlib inline\n",
        "import matplotlib.pyplot as plt\n",
        "import numpy as np\n",
        "\n",
        "import torch\n",
        "import torch.distributions as D\n",
        "import torch.nn as nn\n",
        "import torch.nn.functional as F\n",
        "\n",
        "import torchvision\n",
        "import torchvision.transforms as transforms\n",
        "import torchvision.datasets as datasets\n",
        "\n",
        "from copy import deepcopy\n",
        "from matplotlib import cm\n",
        "from mpl_toolkits import mplot3d\n",
        "from torch.utils.data import Dataset, DataLoader, Subset\n",
        "\n",
        "print(torch.__version__)"
      ],
      "execution_count": 1,
      "outputs": [
        {
          "output_type": "stream",
          "text": [
            "1.5.0+cu101\n"
          ],
          "name": "stdout"
        }
      ]
    },
    {
      "cell_type": "code",
      "metadata": {
        "id": "aYm0rdZ77Q1-",
        "colab_type": "code",
        "outputId": "f93ff098-ad5f-4fbc-e19e-c16f23ac6c74",
        "colab": {
          "base_uri": "https://localhost:8080/",
          "height": 350,
          "referenced_widgets": [
            "1738aa1604c54fcfabd955c28361bddd",
            "56ad858317da4d3e98089eb284383a76",
            "aa5e5ea2a6eb418d86dc1dfc2216cb28",
            "587a884a65954a0b93928d171d4d58f3",
            "965996d0bc044b5d9262e22f8a3f65a7",
            "0278a9b95e044b6782e82ae9c3afce1c",
            "0a9db1fd4f0d4c7f8c63e3a909adffff",
            "9e7f554061354e00b03c337b1d33eda9",
            "19dbe71ce3364a06bf2feb33f5f72dd4",
            "d7f56318d12848718a208a1ea28f2c4f",
            "415338b76a0a42bda6dc832fd6828b4e",
            "cdcb0f92bd864b28948f1b8da5acc6d0",
            "b3b37c5c99ee436abf6ffc61713c2a0f",
            "c7b95d9459c147ab9a66142bc5f0b96d",
            "496bba19796544a3bca2a12f6c313243",
            "32d6c029bfd246a5844e31acd856edff",
            "7f084542421a497291d99876e6a61b26",
            "8a2b187e74d349bca80ab01e4c5d6138",
            "10b2c623dc2449bc843855bea45c33f1",
            "4c68194f0c494f19bb6cd8669cfce043",
            "9acbc20af7e14727b307ac562e6e2b82",
            "1e95e65dcae645a3b2e1f25ab8a61d47",
            "dc1914108b964e8e91fd31f8ac4e3629",
            "6918c472824b4bf8897ead8936cf87d8",
            "08545485bad14ac4af5884b64143982e",
            "194ebe4de3cf4b349810aa93da220be3",
            "43ad3258434446f6aa0ebc9330c78929",
            "ddc2174055db4462a2a1de711f157d2e",
            "4d207c5b9a4549fea3673027eb74bf1c",
            "6848dec6d77142dbb330480c7c501b11",
            "fab7bd88a659407cb5b34c3757dd1d5b",
            "71dd6da0f62d49db88036545fc07fe96"
          ]
        }
      },
      "source": [
        "## Batch Sizes\n",
        "train_batch_size = 100\n",
        "test_batch_size = 1000\n",
        "\n",
        "## Train-Val Split\n",
        "train_dataset_mnist = datasets.MNIST(root='./', train=True, download=True,\n",
        "                                     transform=transforms.Compose([\n",
        "                                         transforms.ToTensor()]))\n",
        "\n",
        "test_dataset_mnist = datasets.MNIST(root='./', train=False, \n",
        "                                    transform=transforms.Compose([\n",
        "                                        transforms.ToTensor()]))\n",
        "\n",
        "## DataLoaders\n",
        "train_loader_mnist = torch.utils.data.DataLoader(train_dataset_mnist,\n",
        "                                                 batch_size = train_batch_size)\n",
        "test_loader_mnist = torch.utils.data.DataLoader(test_dataset_mnist,\n",
        "                                                batch_size = test_batch_size)"
      ],
      "execution_count": 2,
      "outputs": [
        {
          "output_type": "stream",
          "text": [
            "Downloading http://yann.lecun.com/exdb/mnist/train-images-idx3-ubyte.gz to ./MNIST/raw/train-images-idx3-ubyte.gz\n"
          ],
          "name": "stdout"
        },
        {
          "output_type": "display_data",
          "data": {
            "application/vnd.jupyter.widget-view+json": {
              "model_id": "1738aa1604c54fcfabd955c28361bddd",
              "version_minor": 0,
              "version_major": 2
            },
            "text/plain": [
              "HBox(children=(FloatProgress(value=1.0, bar_style='info', max=1.0), HTML(value='')))"
            ]
          },
          "metadata": {
            "tags": []
          }
        },
        {
          "output_type": "stream",
          "text": [
            "Extracting ./MNIST/raw/train-images-idx3-ubyte.gz to ./MNIST/raw\n",
            "Downloading http://yann.lecun.com/exdb/mnist/train-labels-idx1-ubyte.gz to ./MNIST/raw/train-labels-idx1-ubyte.gz\n"
          ],
          "name": "stdout"
        },
        {
          "output_type": "display_data",
          "data": {
            "application/vnd.jupyter.widget-view+json": {
              "model_id": "19dbe71ce3364a06bf2feb33f5f72dd4",
              "version_minor": 0,
              "version_major": 2
            },
            "text/plain": [
              "HBox(children=(FloatProgress(value=1.0, bar_style='info', max=1.0), HTML(value='')))"
            ]
          },
          "metadata": {
            "tags": []
          }
        },
        {
          "output_type": "stream",
          "text": [
            "Extracting ./MNIST/raw/train-labels-idx1-ubyte.gz to ./MNIST/raw\n",
            "Downloading http://yann.lecun.com/exdb/mnist/t10k-images-idx3-ubyte.gz to ./MNIST/raw/t10k-images-idx3-ubyte.gz\n"
          ],
          "name": "stdout"
        },
        {
          "output_type": "display_data",
          "data": {
            "application/vnd.jupyter.widget-view+json": {
              "model_id": "7f084542421a497291d99876e6a61b26",
              "version_minor": 0,
              "version_major": 2
            },
            "text/plain": [
              "HBox(children=(FloatProgress(value=1.0, bar_style='info', max=1.0), HTML(value='')))"
            ]
          },
          "metadata": {
            "tags": []
          }
        },
        {
          "output_type": "stream",
          "text": [
            "Extracting ./MNIST/raw/t10k-images-idx3-ubyte.gz to ./MNIST/raw\n",
            "Downloading http://yann.lecun.com/exdb/mnist/t10k-labels-idx1-ubyte.gz to ./MNIST/raw/t10k-labels-idx1-ubyte.gz\n"
          ],
          "name": "stdout"
        },
        {
          "output_type": "display_data",
          "data": {
            "application/vnd.jupyter.widget-view+json": {
              "model_id": "08545485bad14ac4af5884b64143982e",
              "version_minor": 0,
              "version_major": 2
            },
            "text/plain": [
              "HBox(children=(FloatProgress(value=1.0, bar_style='info', max=1.0), HTML(value='')))"
            ]
          },
          "metadata": {
            "tags": []
          }
        },
        {
          "output_type": "stream",
          "text": [
            "Extracting ./MNIST/raw/t10k-labels-idx1-ubyte.gz to ./MNIST/raw\n",
            "Processing...\n",
            "Done!\n"
          ],
          "name": "stdout"
        },
        {
          "output_type": "stream",
          "text": [
            "/pytorch/torch/csrc/utils/tensor_numpy.cpp:141: UserWarning: The given NumPy array is not writeable, and PyTorch does not support non-writeable tensors. This means you can write to the underlying (supposedly non-writeable) NumPy array using the tensor. You may want to copy the array to protect its data or make it writeable before converting it to a tensor. This type of warning will be suppressed for the rest of this program.\n"
          ],
          "name": "stderr"
        }
      ]
    },
    {
      "cell_type": "code",
      "metadata": {
        "id": "1krnkYKE7Q2M",
        "colab_type": "code",
        "colab": {}
      },
      "source": [
        "lr0 = 10e-4\n",
        "beta1 = 0.5\n",
        "beta2 = 0.999\n",
        "lr_decay = 0.97\n",
        "decay_rate = 2\n",
        "nEpochs = 200"
      ],
      "execution_count": 0,
      "outputs": []
    },
    {
      "cell_type": "code",
      "metadata": {
        "id": "d9LbbDEgZgz_",
        "colab_type": "code",
        "colab": {}
      },
      "source": [
        "class DeepIB(nn.Module):\n",
        "  '''Variational Autoencoder model with Gaussian Encoder and Decoder'''\n",
        "  def __init__(self, zDim, sampling = 1):\n",
        "    super(DeepIB, self).__init__()\n",
        "    self.sampling = sampling\n",
        "    hDim = 1024\n",
        "\n",
        "    ## Encoder\n",
        "    self.fc1 = nn.Sequential(nn.Linear(784, hDim), nn.ReLU())             ## Nonlinear layer\n",
        "    self.fc2 = nn.Sequential(nn.Linear(hDim, hDim), nn.ReLU())             ## Nonlinear layer\n",
        "    \n",
        "\n",
        "\n",
        "    self.encoder_mu = nn.Linear(hDim, zDim)         ## Encoder for mu\n",
        "    self.encoder_sigma = nn.Linear(hDim, zDim)     ## Encoder for log-variance                              \n",
        "\n",
        "    ## Decoder\n",
        "    self.fc3 = nn.Sequential(nn.Linear(2 * zDim, 10), nn.ReLU())         ## Nonlinear layer\n",
        "    \n",
        "    # self.decoder_mu = nn.Linear(hDim, 784)          ## Decoder for mu\n",
        "    # self.decoder_logvar = nn.Linear(hDim, 784)      ## Decoder for log-variance\n",
        "\n",
        "\n",
        "  def encode(self, x):\n",
        "    '''Make inferece of the latent variables Z for X'''\n",
        "    x = self.fc1(x)\n",
        "    x = self.fc2(x)\n",
        "    mu = self.encoder_mu(x)\n",
        "    sigma = self.encoder_sigma(x)\n",
        "    return mu, sigma\n",
        "\n",
        "  def reparametrize(self, mu, logvar):\n",
        "    '''Reparametrization is required for aproximating expectations during\n",
        "    training'''\n",
        "    # aplicar el ajuste a los sigmas\n",
        "    # se retorna la distribucion de z sobre x\n",
        "\n",
        "    L = self.sampling\n",
        "    sigma = torch.exp(0.5 * logvar)\n",
        "    if not self.training:\n",
        "      L = 1\n",
        "    epsilon = torch.randn(list(mu.shape)+[L]).cuda()\n",
        "    mu = mu.view(list(mu.shape)+[1])\n",
        "    sigma = sigma.view(list(sigma.shape)+[1])\n",
        "    z = mu + sigma * epsilon \n",
        "    z_ = z.permute(0,2,1)\n",
        "    return z_\n",
        "\n",
        "  def decode(self, z):\n",
        "    '''Reconstruct X from the latent space variables'''\n",
        "    z = self.fc3(z)\n",
        "    return z\n",
        "\n",
        "  def forward(self, x):\n",
        "    mu_z, logvar_z = self.encode(x)\n",
        "    z = self.reparametrize(mu_z, logvar_z)\n",
        "\n",
        "    y = self.decode(torch.cat((mu_z, logvar_z), 1))\n",
        "\n",
        "    return mu_z, logvar_z, z, y\n",
        "\n",
        "\n",
        "def fVAELoss(y_true, y_pred, mu_z, logvar_z):\n",
        "  '''Caculate the loss for VAE with Gaussian Encoder and Decoder'''\n",
        "\n",
        "  var_z = torch.exp(0.5 * logvar_z)\n",
        "  \n",
        "  ## Sum over J\n",
        "  Jterm = 1 + torch.log(var_z) - (mu_z ** 2) - var_z\n",
        "  Jterm = 0.5 * Jterm.sum(axis = 1).reshape(-1)\n",
        "\n",
        "  # classification loss\n",
        "  Lterm = F.cross_entropy(y_true, y_pred)\n",
        "\n",
        "  ## Sum over M\n",
        "  Mterm = Lterm + Jterm\n",
        "  loss = Mterm.sum()\n",
        "\n",
        "  return loss"
      ],
      "execution_count": 0,
      "outputs": []
    },
    {
      "cell_type": "code",
      "metadata": {
        "id": "MaSuj2ZvafWo",
        "colab_type": "code",
        "colab": {}
      },
      "source": [
        "\n",
        "zDim = 2\n",
        "model = DeepIB(zDim = zDim, sampling = 50).cuda()\n",
        "\n",
        "optimizer = torch.optim.Adam(model.parameters(), lr0, (beta1, beta2))"
      ],
      "execution_count": 0,
      "outputs": []
    },
    {
      "cell_type": "code",
      "metadata": {
        "id": "ceLRK1GwZk2b",
        "colab_type": "code",
        "outputId": "68b1fb7b-47fa-4106-9601-a7c5ab0bab98",
        "colab": {
          "base_uri": "https://localhost:8080/",
          "height": 1000
        }
      },
      "source": [
        "print('Reference images:')\n",
        "img1 = test_loader_mnist.dataset[15][0].numpy()[0]\n",
        "img2 = test_loader_mnist.dataset[29][0].numpy()[0]\n",
        "img3 = test_loader_mnist.dataset[54][0].numpy()[0]\n",
        "img = np.hstack((img1, np.hstack((img2, img3))))\n",
        "plt.figure()\n",
        "plt.imshow(img,cmap=cm.gray)\n",
        "plt.show()\n",
        "print('Max value: {}, Min value: {}\\n'.format(np.amax(img), np.amin(img)))\n",
        "img1 = torch.from_numpy(img1).reshape(-1,1,784).cuda()\n",
        "img2 = torch.from_numpy(img2).reshape(-1,1,784).cuda()\n",
        "img3 = torch.from_numpy(img3).reshape(-1,1,784).cuda()\n",
        "\n",
        "model.train()\n",
        "for epoch in range(nEpochs):\n",
        "  for i, (x_b, y_b) in enumerate(train_loader_mnist):\n",
        "    x_b = x_b.reshape(train_batch_size, -1).cuda()\n",
        "    y_b = y_b.reshape(train_batch_size, -1).cuda()\n",
        "\n",
        "    optimizer.zero_grad()           ## No olvidar resetear los gradientes\n",
        "\n",
        "    mu_z, logvar_z, z, y_pred = model.forward(x_b)\n",
        "    \n",
        "    print(y_pred.shape, y_b.shape)\n",
        "\n",
        "    #loss = -1 *  model.VAELoss(x_b, mu_z, logvar_z, mu_x, logvar_x)\n",
        "    loss = -1 *  fVAELoss(y_b, y_pred, mu_z, logvar_z)\n",
        "\n",
        "    loss.backward()\n",
        "\n",
        "    optimizer.step()\n",
        "\n",
        "    #print('Epoch : {} , Step : {}|| Loss : {:.3f}'.format(epoch + 1, i + 1, loss))\n",
        "\n",
        "  print('Epoch : {} || Loss : {:.3f}'.format(epoch + 1, loss))\n",
        "\n",
        "  if epoch % decay_rate == 1:\n",
        "    optimizer.param_groups[0]['lr'] *= lr_decay\n",
        "\n",
        "  if epoch % 10 == 0:\n",
        "    example = model.fc1[0].weight.grad\n",
        "    #print(model.fc1[0].weight.grad)\n",
        "    #print(model.encoder_mu.weight.grad)\n",
        "    #print(model.fc2[0].weight)\n",
        "    model.eval()\n",
        "    print('Reconstructions:')\n",
        "    c_img1 = img1.view(1,-1)\n",
        "    _, _, rec1, _ = model.forward(c_img1)\n",
        "    rec1 = rec1.cpu().detach().numpy().reshape(28,28)\n",
        "    c_img2 = img2.view(1,-1)\n",
        "    _, _, rec2, _ = model.forward(c_img2)\n",
        "    rec2 = rec2.cpu().detach().numpy().reshape(28,28)\n",
        "    c_img3 = img3.view(1,-1)\n",
        "    _, _, rec3, _ = model.forward(c_img3)\n",
        "    rec3 = rec3.cpu().detach().numpy().reshape(28,28)\n",
        "    img = np.hstack((rec1, np.hstack((rec2, rec3))))\n",
        "    plt.figure()\n",
        "    plt.imshow(img,cmap=cm.gray)\n",
        "    plt.show()\n",
        "    print('Max value: {}, Min value: {}\\n'.format(np.amax(img), np.amin(img)))\n",
        "    model.train()\n",
        "\n",
        "model.eval()\n",
        "print('Reconstructions:')\n",
        "c_img1 = img1.view(1,-1)\n",
        "_, _, rec1, _ = model.forward(c_img1)\n",
        "rec1 = rec1.cpu().detach().numpy().reshape(28,28)\n",
        "c_img2 = img2.view(1,-1)\n",
        "_, _, rec2, _ = model.forward(c_img2)\n",
        "rec2 = rec2.cpu().detach().numpy().reshape(28,28)\n",
        "c_img3 = img3.view(1,-1)\n",
        "_, _, rec3, _ = model.forward(c_img3)\n",
        "rec3 = rec3.cpu().detach().numpy().reshape(28,28)\n",
        "img = np.hstack((rec1, np.hstack((rec2, rec3))))\n",
        "plt.figure()\n",
        "plt.imshow(img,cmap=cm.gray)\n",
        "plt.show()\n",
        "print('Max value: {}, Min value: {}\\n'.format(np.amax(img), np.amin(img)))"
      ],
      "execution_count": 48,
      "outputs": [
        {
          "output_type": "stream",
          "text": [
            "Reference images:\n"
          ],
          "name": "stdout"
        },
        {
          "output_type": "display_data",
          "data": {
            "image/png": "[encoded data removed]",
            "text/plain": [
              "<Figure size 432x288 with 1 Axes>"
            ]
          },
          "metadata": {
            "tags": [],
            "needs_background": "light"
          }
        },
        {
          "output_type": "stream",
          "text": [
            "Max value: 1.0, Min value: 0.0\n",
            "\n",
            "tensor([[0.0000e+00, 1.6513e-01, 3.1564e-01, 2.1138e-01, 3.4827e-01, 2.1563e-01,\n",
            "         0.0000e+00, 1.7542e-01, 7.0914e-03, 4.5555e-01],\n",
            "        [0.0000e+00, 1.8161e-01, 3.1463e-01, 2.0975e-01, 3.2808e-01, 2.2954e-01,\n",
            "         0.0000e+00, 1.6067e-01, 2.1530e-02, 4.3747e-01],\n",
            "        [0.0000e+00, 1.5546e-01, 3.0602e-01, 2.1758e-01, 3.5114e-01, 2.0232e-01,\n",
            "         0.0000e+00, 1.6142e-01, 2.1086e-02, 4.4560e-01],\n",
            "        [0.0000e+00, 1.4760e-01, 2.8689e-01, 1.9030e-01, 3.4154e-01, 1.9483e-01,\n",
            "         0.0000e+00, 1.6235e-01, 0.0000e+00, 4.2926e-01],\n",
            "        [0.0000e+00, 1.5175e-01, 2.8540e-01, 1.7987e-01, 3.3234e-01, 1.9494e-01,\n",
            "         0.0000e+00, 1.7100e-01, 0.0000e+00, 4.2130e-01],\n",
            "        [0.0000e+00, 1.5047e-01, 2.9072e-01, 1.8839e-01, 3.3578e-01, 1.8674e-01,\n",
            "         0.0000e+00, 1.7920e-01, 0.0000e+00, 4.2235e-01],\n",
            "        [0.0000e+00, 1.4270e-01, 2.8551e-01, 2.0077e-01, 3.4272e-01, 1.7944e-01,\n",
            "         0.0000e+00, 1.6134e-01, 8.6713e-03, 4.2006e-01],\n",
            "        [0.0000e+00, 1.6325e-01, 2.9527e-01, 1.7965e-01, 3.3168e-01, 2.1664e-01,\n",
            "         0.0000e+00, 1.7075e-01, 0.0000e+00, 4.3522e-01],\n",
            "        [0.0000e+00, 1.4483e-01, 2.8626e-01, 1.9595e-01, 3.4266e-01, 1.8695e-01,\n",
            "         0.0000e+00, 1.6167e-01, 4.0997e-03, 4.2509e-01],\n",
            "        [0.0000e+00, 1.5608e-01, 3.0265e-01, 2.0259e-01, 3.5321e-01, 2.1935e-01,\n",
            "         0.0000e+00, 1.5721e-01, 9.6523e-03, 4.5790e-01],\n",
            "        [0.0000e+00, 1.5416e-01, 2.8667e-01, 1.8364e-01, 3.2987e-01, 1.9435e-01,\n",
            "         0.0000e+00, 1.6932e-01, 0.0000e+00, 4.1764e-01],\n",
            "        [0.0000e+00, 1.5935e-01, 2.8642e-01, 1.8321e-01, 3.2558e-01, 2.0304e-01,\n",
            "         0.0000e+00, 1.6089e-01, 0.0000e+00, 4.1607e-01],\n",
            "        [0.0000e+00, 1.6421e-01, 3.1479e-01, 2.2264e-01, 3.4634e-01, 2.0577e-01,\n",
            "         0.0000e+00, 1.6911e-01, 2.2035e-02, 4.4497e-01],\n",
            "        [0.0000e+00, 1.6624e-01, 3.0731e-01, 2.0881e-01, 3.3725e-01, 2.0957e-01,\n",
            "         0.0000e+00, 1.6658e-01, 1.4030e-02, 4.3612e-01],\n",
            "        [0.0000e+00, 1.5354e-01, 2.8459e-01, 1.8801e-01, 3.2951e-01, 1.9324e-01,\n",
            "         0.0000e+00, 1.6090e-01, 1.4896e-03, 4.1399e-01],\n",
            "        [0.0000e+00, 1.5671e-01, 2.8945e-01, 1.8161e-01, 3.3573e-01, 2.1186e-01,\n",
            "         0.0000e+00, 1.6161e-01, 0.0000e+00, 4.3380e-01],\n",
            "        [0.0000e+00, 1.5379e-01, 3.0593e-01, 2.0532e-01, 3.5434e-01, 2.0804e-01,\n",
            "         0.0000e+00, 1.7102e-01, 2.6910e-03, 4.5581e-01],\n",
            "        [0.0000e+00, 1.5377e-01, 2.9315e-01, 1.8537e-01, 3.4551e-01, 2.1592e-01,\n",
            "         0.0000e+00, 1.6158e-01, 0.0000e+00, 4.4776e-01],\n",
            "        [0.0000e+00, 1.5164e-01, 2.9336e-01, 1.9796e-01, 3.3649e-01, 1.8471e-01,\n",
            "         0.0000e+00, 1.7485e-01, 0.0000e+00, 4.2066e-01],\n",
            "        [0.0000e+00, 1.4875e-01, 2.9490e-01, 1.9355e-01, 3.4445e-01, 1.9127e-01,\n",
            "         0.0000e+00, 1.7789e-01, 0.0000e+00, 4.3500e-01],\n",
            "        [0.0000e+00, 1.6254e-01, 3.1786e-01, 2.2070e-01, 3.5992e-01, 2.2526e-01,\n",
            "         0.0000e+00, 1.6076e-01, 2.1539e-02, 4.7105e-01],\n",
            "        [0.0000e+00, 1.8283e-01, 3.2032e-01, 2.1457e-01, 3.2948e-01, 2.2604e-01,\n",
            "         0.0000e+00, 1.6954e-01, 1.9594e-02, 4.3951e-01],\n",
            "        [0.0000e+00, 1.5778e-01, 2.9456e-01, 1.9190e-01, 3.3805e-01, 2.0884e-01,\n",
            "         0.0000e+00, 1.6237e-01, 1.3315e-03, 4.3486e-01],\n",
            "        [0.0000e+00, 1.4881e-01, 2.8285e-01, 1.8524e-01, 3.3505e-01, 1.9302e-01,\n",
            "         0.0000e+00, 1.6148e-01, 0.0000e+00, 4.2027e-01],\n",
            "        [0.0000e+00, 1.6287e-01, 2.9223e-01, 1.8678e-01, 3.2217e-01, 1.9720e-01,\n",
            "         0.0000e+00, 1.7322e-01, 0.0000e+00, 4.1209e-01],\n",
            "        [0.0000e+00, 1.6115e-01, 3.0408e-01, 2.0058e-01, 3.4221e-01, 2.1112e-01,\n",
            "         0.0000e+00, 1.6909e-01, 3.4249e-03, 4.4340e-01],\n",
            "        [0.0000e+00, 1.5261e-01, 2.8266e-01, 1.8310e-01, 3.2430e-01, 1.8367e-01,\n",
            "         0.0000e+00, 1.7136e-01, 0.0000e+00, 4.0467e-01],\n",
            "        [0.0000e+00, 1.5536e-01, 2.9438e-01, 1.8626e-01, 3.4500e-01, 2.1792e-01,\n",
            "         0.0000e+00, 1.6104e-01, 0.0000e+00, 4.4840e-01],\n",
            "        [0.0000e+00, 1.6511e-01, 3.1062e-01, 2.1513e-01, 3.4071e-01, 2.0585e-01,\n",
            "         0.0000e+00, 1.6930e-01, 1.6874e-02, 4.3850e-01],\n",
            "        [0.0000e+00, 1.4823e-01, 2.7405e-01, 1.7198e-01, 3.2805e-01, 1.9444e-01,\n",
            "         0.0000e+00, 1.5803e-01, 0.0000e+00, 4.1191e-01],\n",
            "        [0.0000e+00, 1.5035e-01, 2.9295e-01, 1.9516e-01, 3.4330e-01, 1.9663e-01,\n",
            "         0.0000e+00, 1.6702e-01, 0.0000e+00, 4.3404e-01],\n",
            "        [0.0000e+00, 1.5199e-01, 2.8823e-01, 1.7497e-01, 3.4611e-01, 2.2260e-01,\n",
            "         0.0000e+00, 1.5820e-01, 0.0000e+00, 4.5172e-01],\n",
            "        [0.0000e+00, 1.5781e-01, 3.0817e-01, 2.1407e-01, 3.4560e-01, 1.9613e-01,\n",
            "         0.0000e+00, 1.7513e-01, 1.0603e-02, 4.3923e-01],\n",
            "        [0.0000e+00, 1.5367e-01, 2.9544e-01, 1.9481e-01, 3.4478e-01, 2.0715e-01,\n",
            "         0.0000e+00, 1.6280e-01, 1.6025e-03, 4.4155e-01],\n",
            "        [0.0000e+00, 1.6052e-01, 3.1416e-01, 2.1171e-01, 3.4663e-01, 1.9891e-01,\n",
            "         0.0000e+00, 1.8740e-01, 5.3978e-05, 4.4601e-01],\n",
            "        [0.0000e+00, 1.6109e-01, 2.8742e-01, 1.7891e-01, 3.2198e-01, 2.0110e-01,\n",
            "         0.0000e+00, 1.6954e-01, 0.0000e+00, 4.1322e-01],\n",
            "        [0.0000e+00, 1.5618e-01, 3.1029e-01, 2.1142e-01, 3.4773e-01, 1.9288e-01,\n",
            "         0.0000e+00, 1.8574e-01, 5.6555e-04, 4.4264e-01],\n",
            "        [0.0000e+00, 1.8009e-01, 3.2834e-01, 2.2573e-01, 3.3878e-01, 2.2042e-01,\n",
            "         0.0000e+00, 1.7807e-01, 2.1181e-02, 4.4915e-01],\n",
            "        [0.0000e+00, 1.3884e-01, 2.9327e-01, 2.0149e-01, 3.5330e-01, 1.7690e-01,\n",
            "         0.0000e+00, 1.7918e-01, 0.0000e+00, 4.3588e-01],\n",
            "        [0.0000e+00, 1.5764e-01, 3.0978e-01, 2.1652e-01, 3.4850e-01, 1.9844e-01,\n",
            "         0.0000e+00, 1.7352e-01, 1.2971e-02, 4.4366e-01],\n",
            "        [0.0000e+00, 1.4983e-01, 2.7430e-01, 1.7298e-01, 3.2639e-01, 1.9547e-01,\n",
            "         0.0000e+00, 1.5622e-01, 0.0000e+00, 4.1019e-01],\n",
            "        [0.0000e+00, 1.4916e-01, 2.9326e-01, 1.9374e-01, 3.4233e-01, 1.9058e-01,\n",
            "         0.0000e+00, 1.7486e-01, 0.0000e+00, 4.3119e-01],\n",
            "        [0.0000e+00, 1.4608e-01, 2.9275e-01, 2.0289e-01, 3.4379e-01, 1.8100e-01,\n",
            "         0.0000e+00, 1.7181e-01, 3.3359e-03, 4.2561e-01],\n",
            "        [0.0000e+00, 1.4620e-01, 2.8519e-01, 1.8871e-01, 3.3860e-01, 1.8703e-01,\n",
            "         0.0000e+00, 1.6781e-01, 0.0000e+00, 4.2225e-01],\n",
            "        [0.0000e+00, 1.5175e-01, 3.0086e-01, 2.0670e-01, 3.4840e-01, 1.9590e-01,\n",
            "         0.0000e+00, 1.6996e-01, 6.5100e-03, 4.4050e-01],\n",
            "        [0.0000e+00, 1.4616e-01, 2.8075e-01, 1.7583e-01, 3.3809e-01, 1.9724e-01,\n",
            "         0.0000e+00, 1.6504e-01, 0.0000e+00, 4.2747e-01],\n",
            "        [0.0000e+00, 1.4748e-01, 2.8183e-01, 1.8003e-01, 3.3128e-01, 1.8388e-01,\n",
            "         0.0000e+00, 1.7385e-01, 0.0000e+00, 4.1345e-01],\n",
            "        [0.0000e+00, 1.6574e-01, 3.0863e-01, 1.9803e-01, 3.4489e-01, 2.2604e-01,\n",
            "         0.0000e+00, 1.6765e-01, 1.1932e-03, 4.5609e-01],\n",
            "        [0.0000e+00, 1.5370e-01, 2.8887e-01, 1.9373e-01, 3.3146e-01, 1.8930e-01,\n",
            "         0.0000e+00, 1.6634e-01, 2.4608e-03, 4.1533e-01],\n",
            "        [0.0000e+00, 1.5665e-01, 2.8293e-01, 1.7356e-01, 3.2145e-01, 1.9400e-01,\n",
            "         0.0000e+00, 1.7358e-01, 0.0000e+00, 4.0891e-01],\n",
            "        [0.0000e+00, 1.5999e-01, 2.9220e-01, 1.9758e-01, 3.2711e-01, 1.9442e-01,\n",
            "         0.0000e+00, 1.6319e-01, 9.3288e-03, 4.1299e-01],\n",
            "        [0.0000e+00, 1.8827e-01, 3.2125e-01, 2.0590e-01, 3.2925e-01, 2.4534e-01,\n",
            "         0.0000e+00, 1.6396e-01, 1.5466e-02, 4.5046e-01],\n",
            "        [0.0000e+00, 1.5723e-01, 3.1222e-01, 2.1732e-01, 3.5101e-01, 1.9838e-01,\n",
            "         0.0000e+00, 1.7767e-01, 1.0175e-02, 4.4777e-01],\n",
            "        [0.0000e+00, 1.6011e-01, 2.9614e-01, 1.9528e-01, 3.3443e-01, 2.0520e-01,\n",
            "         0.0000e+00, 1.6448e-01, 4.1056e-03, 4.2898e-01],\n",
            "        [0.0000e+00, 1.5309e-01, 2.9928e-01, 1.9775e-01, 3.4965e-01, 2.0865e-01,\n",
            "         0.0000e+00, 1.6594e-01, 6.6534e-04, 4.4915e-01],\n",
            "        [0.0000e+00, 1.3648e-01, 2.7806e-01, 1.7715e-01, 3.4395e-01, 1.8123e-01,\n",
            "         0.0000e+00, 1.7343e-01, 0.0000e+00, 4.2587e-01],\n",
            "        [0.0000e+00, 1.7624e-01, 3.1696e-01, 2.1400e-01, 3.3541e-01, 2.2217e-01,\n",
            "         0.0000e+00, 1.6767e-01, 1.8509e-02, 4.4304e-01],\n",
            "        [0.0000e+00, 1.5832e-01, 2.8945e-01, 1.8180e-01, 3.2886e-01, 2.0243e-01,\n",
            "         0.0000e+00, 1.6949e-01, 0.0000e+00, 4.2201e-01],\n",
            "        [0.0000e+00, 1.6490e-01, 3.0827e-01, 2.0739e-01, 3.3649e-01, 2.0246e-01,\n",
            "         0.0000e+00, 1.7670e-01, 6.3293e-03, 4.3350e-01],\n",
            "        [0.0000e+00, 1.5210e-01, 2.8965e-01, 1.9160e-01, 3.3478e-01, 1.9060e-01,\n",
            "         0.0000e+00, 1.6955e-01, 0.0000e+00, 4.2093e-01],\n",
            "        [0.0000e+00, 1.5980e-01, 3.1769e-01, 2.2287e-01, 3.6195e-01, 2.1996e-01,\n",
            "         0.0000e+00, 1.6289e-01, 2.1484e-02, 4.7047e-01],\n",
            "        [0.0000e+00, 1.6032e-01, 2.9135e-01, 1.9125e-01, 3.2790e-01, 2.0078e-01,\n",
            "         0.0000e+00, 1.6330e-01, 3.2842e-03, 4.1810e-01],\n",
            "        [0.0000e+00, 1.5232e-01, 2.9185e-01, 1.9404e-01, 3.3384e-01, 1.8500e-01,\n",
            "         0.0000e+00, 1.7608e-01, 0.0000e+00, 4.1812e-01],\n",
            "        [0.0000e+00, 1.7422e-01, 2.9296e-01, 1.7503e-01, 3.1434e-01, 2.2131e-01,\n",
            "         0.0000e+00, 1.6582e-01, 0.0000e+00, 4.1704e-01],\n",
            "        [0.0000e+00, 1.6024e-01, 3.1306e-01, 2.2179e-01, 3.4998e-01, 2.0333e-01,\n",
            "         0.0000e+00, 1.6929e-01, 2.0035e-02, 4.4749e-01],\n",
            "        [0.0000e+00, 1.5973e-01, 2.8259e-01, 1.8239e-01, 3.2285e-01, 2.0471e-01,\n",
            "         0.0000e+00, 1.5250e-01, 3.9714e-03, 4.1150e-01],\n",
            "        [0.0000e+00, 1.5452e-01, 2.9769e-01, 2.0007e-01, 3.4432e-01, 2.0365e-01,\n",
            "         0.0000e+00, 1.6412e-01, 5.6245e-03, 4.3918e-01],\n",
            "        [0.0000e+00, 1.4609e-01, 2.8007e-01, 1.8095e-01, 3.3492e-01, 1.8946e-01,\n",
            "         0.0000e+00, 1.6443e-01, 0.0000e+00, 4.1850e-01],\n",
            "        [0.0000e+00, 1.7878e-01, 3.0909e-01, 2.0214e-01, 3.2876e-01, 2.3282e-01,\n",
            "         0.0000e+00, 1.5588e-01, 1.7606e-02, 4.3882e-01],\n",
            "        [0.0000e+00, 1.5628e-01, 3.0324e-01, 2.0788e-01, 3.4335e-01, 1.9605e-01,\n",
            "         0.0000e+00, 1.7267e-01, 7.3440e-03, 4.3572e-01],\n",
            "        [0.0000e+00, 1.6083e-01, 3.0509e-01, 2.0712e-01, 3.3567e-01, 1.9217e-01,\n",
            "         0.0000e+00, 1.8016e-01, 4.0932e-03, 4.2663e-01],\n",
            "        [0.0000e+00, 1.5617e-01, 2.8627e-01, 1.8214e-01, 3.3055e-01, 2.0372e-01,\n",
            "         0.0000e+00, 1.6172e-01, 0.0000e+00, 4.2242e-01],\n",
            "        [0.0000e+00, 1.5227e-01, 2.7651e-01, 1.7817e-01, 3.2607e-01, 1.9767e-01,\n",
            "         0.0000e+00, 1.5230e-01, 0.0000e+00, 4.1022e-01],\n",
            "        [0.0000e+00, 1.6246e-01, 3.1785e-01, 2.2295e-01, 3.4611e-01, 1.9459e-01,\n",
            "         0.0000e+00, 1.8514e-01, 1.1844e-02, 4.4204e-01],\n",
            "        [0.0000e+00, 1.5173e-01, 2.9229e-01, 1.9835e-01, 3.3653e-01, 1.8663e-01,\n",
            "         0.0000e+00, 1.7048e-01, 2.3429e-03, 4.2067e-01],\n",
            "        [0.0000e+00, 1.6996e-01, 3.0881e-01, 2.0716e-01, 3.3042e-01, 2.0557e-01,\n",
            "         0.0000e+00, 1.7462e-01, 9.3532e-03, 4.2806e-01],\n",
            "        [0.0000e+00, 1.5679e-01, 3.0436e-01, 2.0897e-01, 3.4629e-01, 2.0193e-01,\n",
            "         0.0000e+00, 1.6841e-01, 1.0206e-02, 4.4178e-01],\n",
            "        [0.0000e+00, 1.4555e-01, 2.8460e-01, 1.9127e-01, 3.3490e-01, 1.7694e-01,\n",
            "         0.0000e+00, 1.7256e-01, 0.0000e+00, 4.1271e-01],\n",
            "        [0.0000e+00, 1.5275e-01, 2.7924e-01, 1.7241e-01, 3.2490e-01, 1.9450e-01,\n",
            "         0.0000e+00, 1.6748e-01, 0.0000e+00, 4.1127e-01],\n",
            "        [0.0000e+00, 1.5231e-01, 2.8080e-01, 1.7337e-01, 3.3089e-01, 2.0314e-01,\n",
            "         0.0000e+00, 1.6198e-01, 0.0000e+00, 4.2230e-01],\n",
            "        [0.0000e+00, 1.5569e-01, 2.9915e-01, 2.0770e-01, 3.3959e-01, 1.9243e-01,\n",
            "         0.0000e+00, 1.6777e-01, 1.1590e-02, 4.2747e-01],\n",
            "        [0.0000e+00, 1.7318e-01, 3.1865e-01, 2.2109e-01, 3.3503e-01, 2.0603e-01,\n",
            "         0.0000e+00, 1.7737e-01, 1.8665e-02, 4.3478e-01],\n",
            "        [0.0000e+00, 1.7568e-01, 3.2940e-01, 2.2647e-01, 3.4453e-01, 2.1614e-01,\n",
            "         0.0000e+00, 1.8377e-01, 1.6325e-02, 4.5455e-01],\n",
            "        [0.0000e+00, 1.6687e-01, 3.0722e-01, 2.0542e-01, 3.3369e-01, 2.0539e-01,\n",
            "         0.0000e+00, 1.7401e-01, 7.1819e-03, 4.3144e-01],\n",
            "        [0.0000e+00, 1.5586e-01, 3.1023e-01, 2.1626e-01, 3.5403e-01, 2.0373e-01,\n",
            "         0.0000e+00, 1.7032e-01, 1.3123e-02, 4.5256e-01],\n",
            "        [0.0000e+00, 1.4815e-01, 2.6732e-01, 1.5777e-01, 3.2105e-01, 1.9460e-01,\n",
            "         0.0000e+00, 1.6100e-01, 0.0000e+00, 4.0464e-01],\n",
            "        [0.0000e+00, 1.4590e-01, 2.9972e-01, 2.1074e-01, 3.5902e-01, 1.9951e-01,\n",
            "         0.0000e+00, 1.6046e-01, 1.3141e-02, 4.5221e-01],\n",
            "        [0.0000e+00, 1.5705e-01, 2.9201e-01, 1.8280e-01, 3.3994e-01, 2.1763e-01,\n",
            "         0.0000e+00, 1.6031e-01, 0.0000e+00, 4.4214e-01],\n",
            "        [0.0000e+00, 1.7490e-01, 3.0760e-01, 2.0078e-01, 3.3088e-01, 2.2720e-01,\n",
            "         0.0000e+00, 1.5995e-01, 1.3064e-02, 4.3863e-01],\n",
            "        [0.0000e+00, 1.5773e-01, 3.0423e-01, 2.0156e-01, 3.5092e-01, 2.1784e-01,\n",
            "         0.0000e+00, 1.6279e-01, 5.7508e-03, 4.5596e-01],\n",
            "        [0.0000e+00, 1.5992e-01, 3.0409e-01, 2.1133e-01, 3.3890e-01, 1.9614e-01,\n",
            "         0.0000e+00, 1.6971e-01, 1.3780e-02, 4.2988e-01],\n",
            "        [0.0000e+00, 1.6462e-01, 2.9139e-01, 1.8456e-01, 3.2773e-01, 2.1706e-01,\n",
            "         0.0000e+00, 1.5637e-01, 1.8256e-03, 4.2669e-01],\n",
            "        [0.0000e+00, 1.5618e-01, 2.8852e-01, 1.9325e-01, 3.2668e-01, 1.8801e-01,\n",
            "         0.0000e+00, 1.6698e-01, 3.0817e-03, 4.0921e-01],\n",
            "        [0.0000e+00, 1.5728e-01, 3.1132e-01, 2.1902e-01, 3.5267e-01, 2.0288e-01,\n",
            "         0.0000e+00, 1.6983e-01, 1.6361e-02, 4.5034e-01],\n",
            "        [0.0000e+00, 1.4774e-01, 2.7794e-01, 1.7077e-01, 3.3144e-01, 1.9440e-01,\n",
            "         0.0000e+00, 1.6757e-01, 0.0000e+00, 4.1864e-01],\n",
            "        [0.0000e+00, 1.7275e-01, 3.1067e-01, 2.1335e-01, 3.2915e-01, 2.0712e-01,\n",
            "         0.0000e+00, 1.6931e-01, 1.8821e-02, 4.2618e-01],\n",
            "        [0.0000e+00, 1.4985e-01, 2.8241e-01, 1.8066e-01, 3.2988e-01, 1.8768e-01,\n",
            "         0.0000e+00, 1.7061e-01, 0.0000e+00, 4.1346e-01],\n",
            "        [0.0000e+00, 1.5183e-01, 2.9437e-01, 1.9145e-01, 3.4712e-01, 2.0885e-01,\n",
            "         0.0000e+00, 1.6336e-01, 0.0000e+00, 4.4547e-01],\n",
            "        [0.0000e+00, 1.4861e-01, 2.9163e-01, 1.9656e-01, 3.4221e-01, 1.9003e-01,\n",
            "         0.0000e+00, 1.6873e-01, 1.2186e-04, 4.2886e-01],\n",
            "        [0.0000e+00, 1.5491e-01, 2.9400e-01, 1.9756e-01, 3.3476e-01, 1.9107e-01,\n",
            "         0.0000e+00, 1.7057e-01, 2.1012e-03, 4.2168e-01]], device='cuda:0',\n",
            "       grad_fn=<ReluBackward0>) torch.Size([100, 1])\n"
          ],
          "name": "stdout"
        },
        {
          "output_type": "error",
          "ename": "RuntimeError",
          "evalue": "ignored",
          "traceback": [
            "\u001b[0;31m---------------------------------------------------------------------------\u001b[0m",
            "\u001b[0;31mRuntimeError\u001b[0m                              Traceback (most recent call last)",
            "\u001b[0;32m<ipython-input-48-c2ea1b1e29eb>\u001b[0m in \u001b[0;36m<module>\u001b[0;34m()\u001b[0m\n\u001b[1;32m     25\u001b[0m \u001b[0;34m\u001b[0m\u001b[0m\n\u001b[1;32m     26\u001b[0m     \u001b[0;31m#loss = -1 *  model.VAELoss(x_b, mu_z, logvar_z, mu_x, logvar_x)\u001b[0m\u001b[0;34m\u001b[0m\u001b[0;34m\u001b[0m\u001b[0;34m\u001b[0m\u001b[0m\n\u001b[0;32m---> 27\u001b[0;31m     \u001b[0mloss\u001b[0m \u001b[0;34m=\u001b[0m \u001b[0;34m-\u001b[0m\u001b[0;36m1\u001b[0m \u001b[0;34m*\u001b[0m  \u001b[0mfVAELoss\u001b[0m\u001b[0;34m(\u001b[0m\u001b[0my_b\u001b[0m\u001b[0;34m,\u001b[0m \u001b[0my_pred\u001b[0m\u001b[0;34m,\u001b[0m \u001b[0mmu_z\u001b[0m\u001b[0;34m,\u001b[0m \u001b[0mlogvar_z\u001b[0m\u001b[0;34m)\u001b[0m\u001b[0;34m\u001b[0m\u001b[0;34m\u001b[0m\u001b[0m\n\u001b[0m\u001b[1;32m     28\u001b[0m \u001b[0;34m\u001b[0m\u001b[0m\n\u001b[1;32m     29\u001b[0m     \u001b[0mloss\u001b[0m\u001b[0;34m.\u001b[0m\u001b[0mbackward\u001b[0m\u001b[0;34m(\u001b[0m\u001b[0;34m)\u001b[0m\u001b[0;34m\u001b[0m\u001b[0;34m\u001b[0m\u001b[0m\n",
            "\u001b[0;32m<ipython-input-40-d8d8db7de49f>\u001b[0m in \u001b[0;36mfVAELoss\u001b[0;34m(y_true, y_pred, mu_z, logvar_z)\u001b[0m\n\u001b[1;32m     71\u001b[0m \u001b[0;34m\u001b[0m\u001b[0m\n\u001b[1;32m     72\u001b[0m   \u001b[0;31m# classification loss\u001b[0m\u001b[0;34m\u001b[0m\u001b[0;34m\u001b[0m\u001b[0;34m\u001b[0m\u001b[0m\n\u001b[0;32m---> 73\u001b[0;31m   \u001b[0mLterm\u001b[0m \u001b[0;34m=\u001b[0m \u001b[0mF\u001b[0m\u001b[0;34m.\u001b[0m\u001b[0mcross_entropy\u001b[0m\u001b[0;34m(\u001b[0m\u001b[0my_true\u001b[0m\u001b[0;34m,\u001b[0m \u001b[0my_pred\u001b[0m\u001b[0;34m)\u001b[0m\u001b[0;34m\u001b[0m\u001b[0;34m\u001b[0m\u001b[0m\n\u001b[0m\u001b[1;32m     74\u001b[0m \u001b[0;34m\u001b[0m\u001b[0m\n\u001b[1;32m     75\u001b[0m   \u001b[0;31m## Sum over M\u001b[0m\u001b[0;34m\u001b[0m\u001b[0;34m\u001b[0m\u001b[0;34m\u001b[0m\u001b[0m\n",
            "\u001b[0;32m/usr/local/lib/python3.6/dist-packages/torch/nn/functional.py\u001b[0m in \u001b[0;36mcross_entropy\u001b[0;34m(input, target, weight, size_average, ignore_index, reduce, reduction)\u001b[0m\n\u001b[1;32m   2315\u001b[0m     \u001b[0;32mif\u001b[0m \u001b[0msize_average\u001b[0m \u001b[0;32mis\u001b[0m \u001b[0;32mnot\u001b[0m \u001b[0;32mNone\u001b[0m \u001b[0;32mor\u001b[0m \u001b[0mreduce\u001b[0m \u001b[0;32mis\u001b[0m \u001b[0;32mnot\u001b[0m \u001b[0;32mNone\u001b[0m\u001b[0;34m:\u001b[0m\u001b[0;34m\u001b[0m\u001b[0;34m\u001b[0m\u001b[0m\n\u001b[1;32m   2316\u001b[0m         \u001b[0mreduction\u001b[0m \u001b[0;34m=\u001b[0m \u001b[0m_Reduction\u001b[0m\u001b[0;34m.\u001b[0m\u001b[0mlegacy_get_string\u001b[0m\u001b[0;34m(\u001b[0m\u001b[0msize_average\u001b[0m\u001b[0;34m,\u001b[0m \u001b[0mreduce\u001b[0m\u001b[0;34m)\u001b[0m\u001b[0;34m\u001b[0m\u001b[0;34m\u001b[0m\u001b[0m\n\u001b[0;32m-> 2317\u001b[0;31m     \u001b[0;32mreturn\u001b[0m \u001b[0mnll_loss\u001b[0m\u001b[0;34m(\u001b[0m\u001b[0mlog_softmax\u001b[0m\u001b[0;34m(\u001b[0m\u001b[0minput\u001b[0m\u001b[0;34m,\u001b[0m \u001b[0;36m1\u001b[0m\u001b[0;34m)\u001b[0m\u001b[0;34m,\u001b[0m \u001b[0mtarget\u001b[0m\u001b[0;34m,\u001b[0m \u001b[0mweight\u001b[0m\u001b[0;34m,\u001b[0m \u001b[0;32mNone\u001b[0m\u001b[0;34m,\u001b[0m \u001b[0mignore_index\u001b[0m\u001b[0;34m,\u001b[0m \u001b[0;32mNone\u001b[0m\u001b[0;34m,\u001b[0m \u001b[0mreduction\u001b[0m\u001b[0;34m)\u001b[0m\u001b[0;34m\u001b[0m\u001b[0;34m\u001b[0m\u001b[0m\n\u001b[0m\u001b[1;32m   2318\u001b[0m \u001b[0;34m\u001b[0m\u001b[0m\n\u001b[1;32m   2319\u001b[0m \u001b[0;34m\u001b[0m\u001b[0m\n",
            "\u001b[0;32m/usr/local/lib/python3.6/dist-packages/torch/nn/functional.py\u001b[0m in \u001b[0;36mlog_softmax\u001b[0;34m(input, dim, _stacklevel, dtype)\u001b[0m\n\u001b[1;32m   1533\u001b[0m         \u001b[0mdim\u001b[0m \u001b[0;34m=\u001b[0m \u001b[0m_get_softmax_dim\u001b[0m\u001b[0;34m(\u001b[0m\u001b[0;34m'log_softmax'\u001b[0m\u001b[0;34m,\u001b[0m \u001b[0minput\u001b[0m\u001b[0;34m.\u001b[0m\u001b[0mdim\u001b[0m\u001b[0;34m(\u001b[0m\u001b[0;34m)\u001b[0m\u001b[0;34m,\u001b[0m \u001b[0m_stacklevel\u001b[0m\u001b[0;34m)\u001b[0m\u001b[0;34m\u001b[0m\u001b[0;34m\u001b[0m\u001b[0m\n\u001b[1;32m   1534\u001b[0m     \u001b[0;32mif\u001b[0m \u001b[0mdtype\u001b[0m \u001b[0;32mis\u001b[0m \u001b[0;32mNone\u001b[0m\u001b[0;34m:\u001b[0m\u001b[0;34m\u001b[0m\u001b[0;34m\u001b[0m\u001b[0m\n\u001b[0;32m-> 1535\u001b[0;31m         \u001b[0mret\u001b[0m \u001b[0;34m=\u001b[0m \u001b[0minput\u001b[0m\u001b[0;34m.\u001b[0m\u001b[0mlog_softmax\u001b[0m\u001b[0;34m(\u001b[0m\u001b[0mdim\u001b[0m\u001b[0;34m)\u001b[0m\u001b[0;34m\u001b[0m\u001b[0;34m\u001b[0m\u001b[0m\n\u001b[0m\u001b[1;32m   1536\u001b[0m     \u001b[0;32melse\u001b[0m\u001b[0;34m:\u001b[0m\u001b[0;34m\u001b[0m\u001b[0;34m\u001b[0m\u001b[0m\n\u001b[1;32m   1537\u001b[0m         \u001b[0mret\u001b[0m \u001b[0;34m=\u001b[0m \u001b[0minput\u001b[0m\u001b[0;34m.\u001b[0m\u001b[0mlog_softmax\u001b[0m\u001b[0;34m(\u001b[0m\u001b[0mdim\u001b[0m\u001b[0;34m,\u001b[0m \u001b[0mdtype\u001b[0m\u001b[0;34m=\u001b[0m\u001b[0mdtype\u001b[0m\u001b[0;34m)\u001b[0m\u001b[0;34m\u001b[0m\u001b[0;34m\u001b[0m\u001b[0m\n",
            "\u001b[0;31mRuntimeError\u001b[0m: \"host_softmax\" not implemented for 'Long'"
          ]
        }
      ]
    },
    {
      "cell_type": "code",
      "metadata": {
        "id": "kHToYEtjZ-lU",
        "colab_type": "code",
        "colab": {}
      },
      "source": [
        ""
      ],
      "execution_count": 0,
      "outputs": []
    }
  ]
}