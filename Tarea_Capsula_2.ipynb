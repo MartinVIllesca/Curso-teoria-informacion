{
  "nbformat": 4,
  "nbformat_minor": 0,
  "metadata": {
    "kernelspec": {
      "display_name": "Python 3",
      "language": "python",
      "name": "python3"
    },
    "language_info": {
      "codemirror_mode": {
        "name": "ipython",
        "version": 3
      },
      "file_extension": ".py",
      "mimetype": "text/x-python",
      "name": "python",
      "nbconvert_exporter": "python",
      "pygments_lexer": "ipython3",
      "version": "3.7.4"
    },
    "colab": {
      "name": "Tarea_Capsula_2.ipynb",
      "provenance": [],
      "include_colab_link": true
    },
    "accelerator": "GPU"
  },
  "cells": [
    {
      "cell_type": "markdown",
      "metadata": {
        "id": "view-in-github",
        "colab_type": "text"
      },
      "source": [
        "<a href=\"https://colab.research.google.com/github/MartinVIllesca/Curso-teoria-informacion/blob/master/Tarea_Capsula_2.ipynb\" target=\"_parent\"><img src=\"https://colab.research.google.com/assets/colab-badge.svg\" alt=\"Open In Colab\"/></a>"
      ]
    },
    {
      "cell_type": "markdown",
      "metadata": {
        "id": "zZvs96ka7Q0z",
        "colab_type": "text"
      },
      "source": [
        "# Tarea Cápsula #2: *Representation Learning*\n",
        "\n",
        "### EL7024 - Teoría de la Información: Fundamentos y Aplicaciones \n",
        "### Information and Decision Systems Group"
      ]
    },
    {
      "cell_type": "markdown",
      "metadata": {
        "id": "LHLXeBud7Q03",
        "colab_type": "text"
      },
      "source": [
        "Nombre: Martín Valderrama Illesca"
      ]
    },
    {
      "cell_type": "markdown",
      "metadata": {
        "id": "xi7iblhW7Q07",
        "colab_type": "text"
      },
      "source": [
        "## Preguntas Teóricas:"
      ]
    },
    {
      "cell_type": "markdown",
      "metadata": {
        "id": "MwXXm2SS7Q0-",
        "colab_type": "text"
      },
      "source": [
        "### P1) Inferencia Variacional"
      ]
    },
    {
      "cell_type": "markdown",
      "metadata": {
        "id": "qDb-dSYt7Q1A",
        "colab_type": "text"
      },
      "source": [
        "a) A partir del funcional objetivo de Inferencia Variacional $KL(q(\\mathbf{z})||p(\\mathbf{z}|\\mathbf{x}))$ encuentre una cota inferior para el logaritmo de la **evidencia** $log p(x)$ y muestre que esta se puede escribir como:\n",
        "\n",
        "\\begin{equation}\n",
        "\\begin{split}\n",
        "ELBO(q) &= \\mathbb{E}_{\\mathbf{Z} \\sim q(\\mathbf{z})}\\{\\log{p(\\mathbf{x},\\mathbf{z})}\\} - \\mathbb{E}_{\\mathbf{Z} \\sim q(\\mathbf{z})}\\{\\log{q(\\mathbf{z})}\\} \\\\\n",
        "&= \\mathbb{E}_{\\mathbf{Z} \\sim q(\\mathbf{z})}\\{\\log{p(\\mathbf{x}|\\mathbf{z})}\\} - KL(q(\\mathbf{z})||p(\\mathbf{z}))\n",
        "\\end{split}\n",
        "\\end{equation}"
      ]
    },
    {
      "cell_type": "markdown",
      "metadata": {
        "id": "h9jwBqlu7Q1C",
        "colab_type": "text"
      },
      "source": [
        "b) Explique e interprete la forma de la *Evidence Lower Bound*. En este sentido puede resultarle más fácil considerar la segunda expresión $ELBO(q) = \\mathbb{E}_{\\mathbf{Z} \\sim q(\\mathbf{z})}\\{\\log{p(\\mathbf{x}|\\mathbf{z})}\\} - KL(q(\\mathbf{z})||p(\\mathbf{z}))$.\n",
        "\n",
        "**Hint**: Puede resultarle útil pensar en lo siguiente: ¿Para qué valores de $\\mathbf{z}$ o bajo qué criterio cada término de este funcional propicia la asignación de masa en $q(\\mathbf{z})$?"
      ]
    },
    {
      "cell_type": "markdown",
      "metadata": {
        "id": "WdSfNazB7Q1F",
        "colab_type": "text"
      },
      "source": [
        "c) Explique brevemente por qué los problemas de optimización $\\underset{q(\\mathbf{z}) \\in \\mathcal{Q}}{\\operatorname{arg min}} KL(q(\\mathbf{z})||p(\\mathbf{z}|\\mathbf{x}))$ y $\\underset{q(\\mathbf{z}) \\in \\mathcal{Q}}{\\operatorname{arg max}} ELBO(q)$ son equivalentes."
      ]
    },
    {
      "cell_type": "markdown",
      "metadata": {
        "id": "ML0kgbM17Q1H",
        "colab_type": "text"
      },
      "source": [
        "### P2) Information Bottleneck Profundo"
      ]
    },
    {
      "cell_type": "markdown",
      "metadata": {
        "id": "EN3EVwCH7Q1K",
        "colab_type": "text"
      },
      "source": [
        "En el mismo estilo que estudiamos para los *Autoencoders* Variacionales deduciremos la forma de definir una función de pérdida adecuada para abordar el problema del *Information Bottleneck* por medio de redes neuronales. Para esto, primero reescribimos el problema de la siguiente manera:\n",
        "\n",
        "\\begin{equation}\n",
        "    \\underset{p(\\mathbf{z}|\\mathbf{x}), p(\\mathbf{y}|\\mathbf{z})}{\\operatorname{max}} R_{IB} = I(\\mathbf{Y};\\mathbf{Z}) - \\beta I(\\mathbf{X};\\mathbf{Z})\n",
        "\\end{equation}\n",
        "\n",
        "de modo tal que deduciremos una cota inferior del funcional, siendo $\\mathbf{Z}$ la variable latente que comprime la señal de entrada $\\mathbf{X}$ y se utiliza en la predicción de $\\mathbf{Y}$, y es tal que $\\mathbf{Z} - \\mathbf{X} - \\mathbf{Y}$."
      ]
    },
    {
      "cell_type": "markdown",
      "metadata": {
        "id": "K3a7rKCI7Q1O",
        "colab_type": "text"
      },
      "source": [
        "a) Consideremos primero una cota inferior para $I(\\mathbf{Y};\\mathbf{Z})$. Considerando que $q(\\mathbf{y}|\\mathbf{z})$ es una aproximación variacional del *decoder* $p(\\mathbf{y}|\\mathbf{z})$ y el supuesto de Markovianidad demuestre que:\n",
        "\n",
        "\\begin{equation}\n",
        "    I(\\mathbf{Y};\\mathbf{Z}) \\geq \\int_{\\mathcal{X}}\\int_{\\mathcal{Z}}\\int_{\\mathcal{Y}}p(z|x)p(y|x)p(x)\\log q(y|z) dydzdx = \\tilde{I}(\\mathbf{Y};\\mathbf{Z})\n",
        "\\end{equation}"
      ]
    },
    {
      "cell_type": "markdown",
      "metadata": {
        "id": "R_HE4ypl7Q1Q",
        "colab_type": "text"
      },
      "source": [
        "b) Para el término $I(\\mathbf{X};\\mathbf{Z})$ es necesaria una cota superior. Demuestre que una aproximación variacional $r(\\mathbf{z})$ del *prior* $p(\\mathbf{z})$ satisface que:\n",
        "\n",
        "\\begin{equation}\n",
        "    I(\\mathbf{X};\\mathbf{Z}) \\leq \\int_{\\mathcal{X}}\\int_{\\mathcal{Z}}\\int_{\\mathcal{Y}}p(z|x)p(y|x)p(x)\\log \\frac{p(z|x)}{r(z)} dydzdx = \\tilde{I}(\\mathbf{X};\\mathbf{Z})\n",
        "\\end{equation}"
      ]
    },
    {
      "cell_type": "markdown",
      "metadata": {
        "id": "MZFeoLNv7Q1R",
        "colab_type": "text"
      },
      "source": [
        "Definamos la cota resultante para $R_{IB}$ por\n",
        "\n",
        "\\begin{equation}\n",
        "    \\mathcal{L}_{IB} = \\tilde{I}(\\mathbf{Y};\\mathbf{Z}) - \\beta \\tilde{I}(\\mathbf{X};\\mathbf{Z})\n",
        "\\end{equation}"
      ]
    },
    {
      "cell_type": "markdown",
      "metadata": {
        "id": "BKrswFxk7Q1U",
        "colab_type": "text"
      },
      "source": [
        "c) Empleando la distribución conjunta empírica $\\tilde{p}(x,y) = \\frac{1}{N}\\sum_{i=1}^{N}\\delta_{x^{(i)}}(x)\\delta_{y^{(i)}}(y)$ deduzca que\n",
        "\n",
        "\\begin{equation}\n",
        "    \\mathcal{L}_{IB} \\approx \\frac{1}{N}\\sum_{i=1}^{N}\\left[ \\mathbb{E}_{\\mathbf{Z} \\sim p(\\mathbf{z}|\\mathbf{x})} \\left\\{ \\log q(\\mathbf{y}^{(i)}|\\mathbf{z}) \\right\\} - \\beta KL\\left( p(\\mathbf{z}|\\mathbf{x}^{(i)}) || r(\\mathbf{z}) \\right)\\right]\n",
        "\\end{equation}"
      ]
    },
    {
      "cell_type": "markdown",
      "metadata": {
        "id": "_iNr1Epi7Q1X",
        "colab_type": "text"
      },
      "source": [
        "## Preguntas de Simulación:"
      ]
    },
    {
      "cell_type": "markdown",
      "metadata": {
        "id": "E2dhwpYx7Q1Z",
        "colab_type": "text"
      },
      "source": [
        "En esta parte de la tarea deberán implementar y probar el modelo deducido en la pregunta 2 mediante redes neuronales, donde se considera que las aproximaciones variacionales están parametrizadas por una red correspondiente al *encoder* $p_{\\theta}(\\mathbf{z}|\\mathbf{x})$ y otra para el *decoder* $q_{\\phi}(\\mathbf{y}|\\mathbf{z})$, es decir que el funcional a **minimizar** corresponde a:\n",
        "\n",
        "\\begin{equation}\n",
        "    \\begin{split}\n",
        "        \\mathcal{L}'_{IB}(\\phi, \\theta) &= -\\frac{1}{N}\\sum_{i=1}^{N}\\left[ \\mathbb{E}_{\\mathbf{Z} \\sim p_{\\theta}(\\mathbf{z}|\\mathbf{x})} \\left\\{ \\log q_{\\phi}(\\mathbf{y}^{(i)}|\\mathbf{z}) \\right\\} - \\beta KL\\left( p_\\theta(\\mathbf{z}|\\mathbf{x}^{(i)}) || r(\\mathbf{z}) \\right)\\right] \\\\\n",
        "        &= \\frac{1}{N}\\sum_{i=1}^{N}\\left[ \\mathbb{E}_{\\mathbf{Z} \\sim p_{\\theta}(\\mathbf{z}|\\mathbf{x})} \\left\\{ -\\log q_{\\phi}(\\mathbf{y}^{(i)}|\\mathbf{z}) \\right\\} + \\beta KL\\left( p_\\theta(\\mathbf{z}|\\mathbf{x}^{(i)}) || r(\\mathbf{z}) \\right)\\right]\n",
        "    \\end{split}\n",
        "\\end{equation}\n",
        "\n",
        "Los experimentos se realizarán sobre el *dataset* MNIST en el problema de **clasificación**."
      ]
    },
    {
      "cell_type": "markdown",
      "metadata": {
        "id": "SmeHdj5s7Q1d",
        "colab_type": "text"
      },
      "source": [
        "i) Implemente una clase $\\texttt{DeepIB}$ que corresponda a la siguiente arquitectura:\n",
        "\n",
        "* *Encoder* Gaussiano: Red *fully-connected* $784\\to1024\\to1024\\to2K$, donde K es la dimensionalidad de la variable latente. Los primeros $K$ valores de dicha capa corresponderán a $\\mu_{\\mathbf{z}}(\\mathbf{x})$ y las siguientes $K$ componentes comprenden las desviaciones estándar $\\sigma_{\\mathbf{z}}(\\mathbf{x})$. Entre cada capa debe usar la función de activación $\\texttt{ReLU}$.\n",
        "**Hint**: Para asegurar que las desviaciones estándar $\\sigma_{\\mathbf{z}}(\\mathbf{x})$ sean positivas se recomienda aplicarles la siguiente transformación: \n",
        "\n",
        "\\begin{equation}\n",
        "    \\sigma_{\\mathbf{z}}(\\mathbf{x}) = \\log (1 + \\exp (\\sigma_{\\mathbf{z}}^{raw}(\\mathbf{x}) - 5.0)),\n",
        "\\end{equation}\n",
        "\n",
        "$\\hspace{7mm}$ donde $\\sigma_{\\mathbf{z}}^{raw}(\\mathbf{x})$ denota a la desviación estándar antes de aplicar esta transformación.\n",
        "\n",
        "* *Decoder*: Red *fully-connected* $K\\to10$. Considere que este decoder es determinístico.\n",
        "\n",
        "Para la Función de Costo considere $r(\\mathbf{z}) = \\mathcal{N}(\\mathbf{z};0,I)$ (es decir que requiere una expresión cerrada para el término de divergencia).\n",
        "\n",
        "**Hint**: Dado que el *decoder* es determinístico, puede usar la función de *Cross-Entropy* para el primer término, en forma astuta."
      ]
    },
    {
      "cell_type": "markdown",
      "metadata": {
        "id": "ZTt5S8A97Q1h",
        "colab_type": "text"
      },
      "source": [
        "ii) Implemente una clase $\\texttt{MLP}$ correspondiente a la arquitectura $784\\to1024\\to1024\\to K\\to10$ para un mismo valor de $K$ que en el caso de $\\texttt{DeepIB}$. Al ser un problema de clasificación puede entrenar con *Cross-Entropy*."
      ]
    },
    {
      "cell_type": "markdown",
      "metadata": {
        "id": "CC-h8bO67Q1k",
        "colab_type": "text"
      },
      "source": [
        "iii) Para $K=2$ y $\\beta \\in \\{10^{-3}, 10^{-1},1\\}$, entrene ambos modelos considerando un *loop* de entrenamiento similar al de la Cápsula 2, de tal modo que el *learning rate* del optimizador Adam decaiga en $97\\%$ cada $2$ épocas:\n",
        "\n",
        "$\\texttt{lr0 = 10e-4}$\n",
        "\n",
        "$\\texttt{beta1 = 0.5}$\n",
        "\n",
        "$\\texttt{beta2 = 0.999}$\n",
        "\n",
        "$\\texttt{lr_decay = 0.97}$\n",
        "\n",
        "$\\texttt{decay_rate = 2}$\n",
        "\n",
        "$\\texttt{nEpochs = 200}$"
      ]
    },
    {
      "cell_type": "markdown",
      "metadata": {
        "id": "ijBDAN7u7Q1p",
        "colab_type": "text"
      },
      "source": [
        "Como parámetro $L$ de muestreo para aplicar el *Reparametrization Trick* puede utilizar $L=12$. Si usa la función de Pytorch [$\\texttt{torch.nn.CrossEntropyLoss}$](https://pytorch.org/docs/master/generated/torch.nn.CrossEntropyLoss.html#torch.nn.CrossEntropyLoss) se recomienda revisar el efecto de usar $\\texttt{reduction='none'}$."
      ]
    },
    {
      "cell_type": "markdown",
      "metadata": {
        "id": "GTKVhNZa7Q1r",
        "colab_type": "text"
      },
      "source": [
        "Compare y analice la *accuracy* obtenida por los modelos estocásticos obtenidos entre sí y con el modelo $\\texttt{MLP}$ clásico.\n",
        "\n",
        "Además, para los modelos estocásticos, obtenga la proyección de los datos de prueba en el espacio latente $K$-dimensional y analice el efecto de $\\beta$ en este resultado."
      ]
    },
    {
      "cell_type": "code",
      "metadata": {
        "id": "k0URp_cl7Q1v",
        "colab_type": "code",
        "colab": {
          "base_uri": "https://localhost:8080/",
          "height": 35
        },
        "outputId": "be8d11f7-4b64-4642-95fb-fa6f289a0689"
      },
      "source": [
        "#%tensorflow_version 1.x\n",
        "#%load_ext tensorboard\n",
        "\n",
        "%matplotlib inline\n",
        "import matplotlib.pyplot as plt\n",
        "import numpy as np\n",
        "\n",
        "import torch\n",
        "import torch.distributions as D\n",
        "import torch.nn as nn\n",
        "import torch.nn.functional as F\n",
        "\n",
        "import torchvision\n",
        "import torchvision.transforms as transforms\n",
        "import torchvision.datasets as datasets\n",
        "\n",
        "from copy import deepcopy\n",
        "from matplotlib import cm\n",
        "from mpl_toolkits import mplot3d\n",
        "from torch.utils.data import Dataset, DataLoader, Subset\n",
        "\n",
        "print(torch.__version__)"
      ],
      "execution_count": 1,
      "outputs": [
        {
          "output_type": "stream",
          "text": [
            "1.5.0+cu101\n"
          ],
          "name": "stdout"
        }
      ]
    },
    {
      "cell_type": "code",
      "metadata": {
        "id": "aYm0rdZ77Q1-",
        "colab_type": "code",
        "colab": {}
      },
      "source": [
        "## Batch Sizes\n",
        "train_batch_size = 100\n",
        "test_batch_size = 1000\n",
        "\n",
        "## Train-Val Split\n",
        "train_dataset_mnist = datasets.MNIST(root='./', train=True, download=True,\n",
        "                                     transform=transforms.Compose([\n",
        "                                         transforms.ToTensor()]))\n",
        "\n",
        "test_dataset_mnist = datasets.MNIST(root='./', train=False, \n",
        "                                    transform=transforms.Compose([\n",
        "                                        transforms.ToTensor()]))\n",
        "\n",
        "## DataLoaders\n",
        "train_loader_mnist = torch.utils.data.DataLoader(train_dataset_mnist,\n",
        "                                                 batch_size = train_batch_size)\n",
        "test_loader_mnist = torch.utils.data.DataLoader(test_dataset_mnist,\n",
        "                                                batch_size = test_batch_size)"
      ],
      "execution_count": 2,
      "outputs": []
    },
    {
      "cell_type": "code",
      "metadata": {
        "id": "1krnkYKE7Q2M",
        "colab_type": "code",
        "colab": {}
      },
      "source": [
        "lr0 = 10e-4\n",
        "beta1 = 0.5\n",
        "beta2 = 0.999\n",
        "lr_decay = 0.97\n",
        "decay_rate = 2\n",
        "nEpochs = 200\n",
        "\n",
        "zDim = 2\n"
      ],
      "execution_count": 3,
      "outputs": []
    },
    {
      "cell_type": "code",
      "metadata": {
        "id": "d9LbbDEgZgz_",
        "colab_type": "code",
        "colab": {}
      },
      "source": [
        "class DeepIB(nn.Module):\n",
        "  '''Variational Autoencoder model with Gaussian Encoder and Decoder'''\n",
        "  def __init__(self, zDim, sampling = 1):\n",
        "    super(DeepIB, self).__init__()\n",
        "    self.sampling = sampling\n",
        "    hDim = 1024\n",
        "\n",
        "    ## Encoder\n",
        "    self.fc1 = nn.Sequential(nn.Linear(784, hDim), nn.ReLU())             ## Nonlinear layer\n",
        "    self.fc2 = nn.Sequential(nn.Linear(hDim, hDim), nn.ReLU())             ## Nonlinear layer\n",
        "    self.encoder_mu = nn.Linear(hDim, zDim)         ## Encoder for mu\n",
        "    self.encoder_sigma = nn.Linear(hDim, zDim)     ## Encoder for log-variance                              \n",
        "\n",
        "    ## Decoder\n",
        "    self.fc3 = nn.Sequential(nn.Linear(zDim, 10), nn.ReLU())         ## Nonlinear layer\n",
        "\n",
        "\n",
        "  def encode(self, x):\n",
        "    '''Make inferece of the latent variables Z for X'''\n",
        "    x = self.fc1(x)\n",
        "    x = self.fc2(x)\n",
        "    mu = self.encoder_mu(x)\n",
        "    sigma = self.encoder_sigma(x)-5)\n",
        "    sigma = F.softplus(sigma - 5)\n",
        "    return mu, sigma\n",
        "\n",
        "  def reparametrize(self, mu, logvar):\n",
        "    '''Reparametrization is required for aproximating expectations during\n",
        "    training'''\n",
        "    L = self.sampling\n",
        "    sigma = torch.exp(0.5 * logvar)\n",
        "    if not self.training:\n",
        "      L = 1\n",
        "    epsilon = torch.randn(list(mu.shape)+[L]).cuda()\n",
        "    mu = mu.view(list(mu.shape)+[1])\n",
        "    sigma = sigma.view(list(sigma.shape)+[1])\n",
        "    z = mu + sigma * epsilon \n",
        "    z_ = z.permute(0,2,1)\n",
        "    return z_\n",
        "\n",
        "  def decode(self, z):\n",
        "    '''Reconstruct X from the latent space variables'''\n",
        "    z = self.fc3(z)\n",
        "    return z\n",
        "\n",
        "  def forward(self, x):\n",
        "    mu_z, logvar_z = self.encode(x)\n",
        "    z = self.reparametrize(mu_z, logvar_z)\n",
        "    y = torch.mean(self.decode(z), dim=1)\n",
        "    return mu_z, logvar_z, y\n",
        "\n",
        "def fVAELoss(y_true, y_pred, mu_z, logvar_z, beta):\n",
        "  '''Caculate the loss for VAE with Gaussian Encoder and Decoder'''\n",
        "  var_z = torch.exp(0.5 * logvar_z)\n",
        "  Jterm = 1 + torch.log(var_z) - (mu_z ** 2) - var_z\n",
        "  Jterm = 0.5 * Jterm.sum(axis = 1).reshape(-1)\n",
        "\n",
        "  # classification loss\n",
        "  Lterm = nn.CrossEntropyLoss()(y_pred, y_true.cuda())\n",
        "\n",
        "  loss = - Lterm + beta*Jterm.sum()\n",
        "\n",
        "  return loss"
      ],
      "execution_count": 4,
      "outputs": []
    },
    {
      "cell_type": "code",
      "metadata": {
        "id": "dfdHPIdDNy-Z",
        "colab_type": "code",
        "colab": {}
      },
      "source": [
        "class MLP(nn.Module):\n",
        "    def __init__(self,K = 2):\n",
        "        super(MLP, self).__init__()\n",
        "        self.fc1 = nn.Sequential(nn.Linear(784, 1024),nn.ReLU())\n",
        "        self.fc2 = nn.Sequential(nn.Linear(1024, 1024),nn.ReLU())\n",
        "        self.fc3 = nn.Sequential(nn.Linear(1024, K),nn.ReLU())\n",
        "        self.fc4 = nn.Linear(K,10)\n",
        "    def forward(self,x):\n",
        "        x = self.fc1(x)\n",
        "        x = self.fc2(x)\n",
        "        x = self.fc3(x)\n",
        "        out = self.fc4(x)\n",
        "        return out"
      ],
      "execution_count": 18,
      "outputs": []
    },
    {
      "cell_type": "code",
      "metadata": {
        "id": "ceLRK1GwZk2b",
        "colab_type": "code",
        "colab": {
          "base_uri": "https://localhost:8080/",
          "height": 780
        },
        "outputId": "783e20e2-ea2c-45fc-87a3-70f23ad1ec84"
      },
      "source": [
        "model.train()\n",
        "model = DeepIB(zDim = zDim, sampling = 50).cuda()\n",
        "optimizer = torch.optim.Adam(model.parameters(), lr0, (beta1, beta2))\n",
        "for epoch in range(nEpochs):\n",
        "  for i, (x_b, y_b) in enumerate(train_loader_mnist):\n",
        "    x_b = x_b.reshape(train_batch_size, -1).cuda()\n",
        "\n",
        "    optimizer.zero_grad()           ## No olvidar resetear los gradientes\n",
        "    mu_z, logvar_z, y_pred = model.forward(x_b)\n",
        "    loss = -1 *  fVAELoss(y_b, y_pred, mu_z, logvar_z, beta=0.001)\n",
        "    loss.backward()\n",
        "    optimizer.step()\n",
        "\n",
        "  if epoch % 10 == 0 or epoch < 10:\n",
        "    correct = 0\n",
        "    total = 0\n",
        "    loss_test = 0\n",
        "    with torch.no_grad():\n",
        "      for inputs, labels in test_loader_mnist:\n",
        "        labels = labels.cuda()\n",
        "        total += labels.size(0)\n",
        "        inputs = inputs.reshape(test_batch_size, -1).cuda()\n",
        "        mu_z, logvar_z, y_pred = model.forward(inputs)\n",
        "        loss_test += nn.CrossEntropyLoss()(y_pred, labels.cuda())\n",
        "        y_pred = y_pred.max(1)[1]\n",
        "        correct += torch.eq(y_pred, labels).float().sum()\n",
        "    template = 'Epoch : {} || Loss : {:.3f} || Test --- Acc : {:.3f} || Loss : {:.3f}'\n",
        "    print(template.format(epoch + 1, loss, correct.cpu().numpy()/total, loss_test))\n",
        "\n",
        "  if epoch % decay_rate == 1:\n",
        "    optimizer.param_groups[0]['lr'] *= lr_decay\n"
      ],
      "execution_count": 7,
      "outputs": [
        {
          "output_type": "stream",
          "text": [
            "Reference images:\n"
          ],
          "name": "stdout"
        },
        {
          "output_type": "display_data",
          "data": {
            "image/png": "[encoded data removed]",
            "text/plain": [
              "<Figure size 432x288 with 1 Axes>"
            ]
          },
          "metadata": {
            "tags": [],
            "needs_background": "light"
          }
        },
        {
          "output_type": "stream",
          "text": [
            "Max value: 1.0, Min value: 0.0\n",
            "\n",
            "Epoch : 1 || Loss : 1.497 || Test --- Acc : 0.704 || Loss : 11.768\n",
            "Epoch : 2 || Loss : 1.289 || Test --- Acc : 0.773 || Loss : 10.003\n",
            "Epoch : 3 || Loss : 1.159 || Test --- Acc : 0.814 || Loss : 8.854\n",
            "Epoch : 4 || Loss : 1.074 || Test --- Acc : 0.877 || Loss : 8.288\n",
            "Epoch : 5 || Loss : 1.018 || Test --- Acc : 0.881 || Loss : 7.523\n",
            "Epoch : 6 || Loss : 0.948 || Test --- Acc : 0.884 || Loss : 7.117\n",
            "Epoch : 7 || Loss : 0.891 || Test --- Acc : 0.887 || Loss : 6.779\n",
            "Epoch : 8 || Loss : 0.874 || Test --- Acc : 0.883 || Loss : 6.481\n",
            "Epoch : 9 || Loss : 0.824 || Test --- Acc : 0.888 || Loss : 6.348\n",
            "Epoch : 10 || Loss : 0.790 || Test --- Acc : 0.884 || Loss : 6.284\n",
            "Epoch : 11 || Loss : 0.786 || Test --- Acc : 0.883 || Loss : 6.117\n",
            "Epoch : 21 || Loss : 0.644 || Test --- Acc : 0.889 || Loss : 5.090\n",
            "Epoch : 31 || Loss : 0.577 || Test --- Acc : 0.884 || Loss : 4.754\n",
            "Epoch : 41 || Loss : 0.522 || Test --- Acc : 0.886 || Loss : 4.551\n",
            "Epoch : 51 || Loss : 0.515 || Test --- Acc : 0.887 || Loss : 4.531\n",
            "Epoch : 61 || Loss : 0.521 || Test --- Acc : 0.886 || Loss : 4.409\n",
            "Epoch : 71 || Loss : 0.485 || Test --- Acc : 0.884 || Loss : 4.505\n",
            "Epoch : 81 || Loss : 0.476 || Test --- Acc : 0.885 || Loss : 4.430\n",
            "Epoch : 91 || Loss : 0.465 || Test --- Acc : 0.885 || Loss : 4.378\n",
            "Epoch : 101 || Loss : 0.462 || Test --- Acc : 0.885 || Loss : 4.376\n",
            "Epoch : 111 || Loss : 0.456 || Test --- Acc : 0.883 || Loss : 4.340\n",
            "Epoch : 121 || Loss : 0.464 || Test --- Acc : 0.882 || Loss : 4.326\n",
            "Epoch : 131 || Loss : 0.462 || Test --- Acc : 0.883 || Loss : 4.331\n",
            "Epoch : 141 || Loss : 0.454 || Test --- Acc : 0.882 || Loss : 4.230\n",
            "Epoch : 151 || Loss : 0.447 || Test --- Acc : 0.882 || Loss : 4.215\n",
            "Epoch : 161 || Loss : 0.449 || Test --- Acc : 0.882 || Loss : 4.203\n",
            "Epoch : 171 || Loss : 0.441 || Test --- Acc : 0.881 || Loss : 4.263\n",
            "Epoch : 181 || Loss : 0.436 || Test --- Acc : 0.882 || Loss : 4.246\n",
            "Epoch : 191 || Loss : 0.464 || Test --- Acc : 0.882 || Loss : 4.260\n",
            "Max value: 1.0, Min value: 0.0\n",
            "\n"
          ],
          "name": "stdout"
        }
      ]
    },
    {
      "cell_type": "code",
      "metadata": {
        "id": "kHToYEtjZ-lU",
        "colab_type": "code",
        "colab": {
          "base_uri": "https://localhost:8080/",
          "height": 217
        },
        "outputId": "6f0b46d4-4aad-42f1-ffeb-c9db448929a6"
      },
      "source": [
        "model = MLP().cuda()\n",
        "model.train()\n",
        "optimizer = torch.optim.Adam(model.parameters(), lr0, (beta1, beta2))\n",
        "for epoch in range(nEpochs):\n",
        "  for i, (x_b, y_b) in enumerate(train_loader_mnist):\n",
        "    x_b = x_b.reshape(train_batch_size, -1).cuda()\n",
        "\n",
        "    optimizer.zero_grad()           ## No olvidar resetear los gradientes\n",
        "    y_pred = model.forward(x_b)\n",
        "    loss = nn.CrossEntropyLoss()(y_pred, y_b.cuda())\n",
        "    loss.backward()\n",
        "    optimizer.step()\n",
        "\n",
        "  if epoch % 10 == 0 or epoch < 10:\n",
        "    correct = 0\n",
        "    total = 0\n",
        "    loss_test = 0\n",
        "    with torch.no_grad():\n",
        "      for inputs, labels in test_loader_mnist:\n",
        "        labels = labels.cuda()\n",
        "        total += labels.size(0)\n",
        "        inputs = inputs.reshape(test_batch_size, -1).cuda()\n",
        "        y_pred = model.forward(inputs)\n",
        "        loss_test += nn.CrossEntropyLoss()(y_pred, labels.cuda())\n",
        "        y_pred = y_pred.max(1)[1]\n",
        "        correct += torch.eq(y_pred, labels).float().sum()\n",
        "    template = 'Epoch : {} || Loss : {:.3f} || Test --- Acc : {:.3f} || Loss : {:.3f}'\n",
        "    print(template.format(epoch + 1, loss, correct.cpu().numpy()/total, loss_test))\n",
        "\n",
        "  if epoch % decay_rate == 1:\n",
        "    optimizer.param_groups[0]['lr'] *= lr_decay\n"
      ],
      "execution_count": null,
      "outputs": [
        {
          "output_type": "stream",
          "text": [
            "Epoch : 1 || Loss : 0.696 || Test --- Acc : 0.774 || Loss : 7.543\n",
            "Epoch : 2 || Loss : 0.432 || Test --- Acc : 0.851 || Loss : 5.449\n",
            "Epoch : 3 || Loss : 0.267 || Test --- Acc : 0.941 || Loss : 4.289\n",
            "Epoch : 4 || Loss : 0.218 || Test --- Acc : 0.950 || Loss : 3.867\n",
            "Epoch : 5 || Loss : 0.114 || Test --- Acc : 0.958 || Loss : 3.624\n",
            "Epoch : 6 || Loss : 0.178 || Test --- Acc : 0.960 || Loss : 3.892\n",
            "Epoch : 7 || Loss : 0.083 || Test --- Acc : 0.959 || Loss : 3.788\n",
            "Epoch : 8 || Loss : 0.119 || Test --- Acc : 0.964 || Loss : 3.739\n",
            "Epoch : 9 || Loss : 0.082 || Test --- Acc : 0.967 || Loss : 4.129\n",
            "Epoch : 10 || Loss : 0.090 || Test --- Acc : 0.965 || Loss : 4.043\n",
            "Epoch : 11 || Loss : 0.029 || Test --- Acc : 0.966 || Loss : 4.004\n"
          ],
          "name": "stdout"
        }
      ]
    },
    {
      "cell_type": "code",
      "metadata": {
        "id": "LwcUAHeKWRPK",
        "colab_type": "code",
        "colab": {}
      },
      "source": [
        ""
      ],
      "execution_count": null,
      "outputs": []
    }
  ]
}