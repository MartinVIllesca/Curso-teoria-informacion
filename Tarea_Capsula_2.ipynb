{
  "nbformat": 4,
  "nbformat_minor": 0,
  "metadata": {
    "kernelspec": {
      "display_name": "Python 3",
      "language": "python",
      "name": "python3"
    },
    "language_info": {
      "codemirror_mode": {
        "name": "ipython",
        "version": 3
      },
      "file_extension": ".py",
      "mimetype": "text/x-python",
      "name": "python",
      "nbconvert_exporter": "python",
      "pygments_lexer": "ipython3",
      "version": "3.7.4"
    },
    "colab": {
      "name": "Tarea_Capsula_2.ipynb",
      "provenance": [],
      "include_colab_link": true
    },
    "accelerator": "GPU",
    "widgets": {
      "application/vnd.jupyter.widget-state+json": {
        "3ac2afc5f67d47ccaea745d05484ca45": {
          "model_module": "@jupyter-widgets/controls",
          "model_name": "HBoxModel",
          "state": {
            "_view_name": "HBoxView",
            "_dom_classes": [],
            "_model_name": "HBoxModel",
            "_view_module": "@jupyter-widgets/controls",
            "_model_module_version": "1.5.0",
            "_view_count": null,
            "_view_module_version": "1.5.0",
            "box_style": "",
            "layout": "IPY_MODEL_4d231b56483b49ec98df10b689f84809",
            "_model_module": "@jupyter-widgets/controls",
            "children": [
              "IPY_MODEL_da8b14bc3d78478ea11c738c3d99ee77",
              "IPY_MODEL_b9948552deef47ca95236cbdb8e3bb4c"
            ]
          }
        },
        "4d231b56483b49ec98df10b689f84809": {
          "model_module": "@jupyter-widgets/base",
          "model_name": "LayoutModel",
          "state": {
            "_view_name": "LayoutView",
            "grid_template_rows": null,
            "right": null,
            "justify_content": null,
            "_view_module": "@jupyter-widgets/base",
            "overflow": null,
            "_model_module_version": "1.2.0",
            "_view_count": null,
            "flex_flow": null,
            "width": null,
            "min_width": null,
            "border": null,
            "align_items": null,
            "bottom": null,
            "_model_module": "@jupyter-widgets/base",
            "top": null,
            "grid_column": null,
            "overflow_y": null,
            "overflow_x": null,
            "grid_auto_flow": null,
            "grid_area": null,
            "grid_template_columns": null,
            "flex": null,
            "_model_name": "LayoutModel",
            "justify_items": null,
            "grid_row": null,
            "max_height": null,
            "align_content": null,
            "visibility": null,
            "align_self": null,
            "height": null,
            "min_height": null,
            "padding": null,
            "grid_auto_rows": null,
            "grid_gap": null,
            "max_width": null,
            "order": null,
            "_view_module_version": "1.2.0",
            "grid_template_areas": null,
            "object_position": null,
            "object_fit": null,
            "grid_auto_columns": null,
            "margin": null,
            "display": null,
            "left": null
          }
        },
        "da8b14bc3d78478ea11c738c3d99ee77": {
          "model_module": "@jupyter-widgets/controls",
          "model_name": "FloatProgressModel",
          "state": {
            "_view_name": "ProgressView",
            "style": "IPY_MODEL_f441fe7363de46c8972cc963d15a95a5",
            "_dom_classes": [],
            "description": "",
            "_model_name": "FloatProgressModel",
            "bar_style": "info",
            "max": 1,
            "_view_module": "@jupyter-widgets/controls",
            "_model_module_version": "1.5.0",
            "value": 1,
            "_view_count": null,
            "_view_module_version": "1.5.0",
            "orientation": "horizontal",
            "min": 0,
            "description_tooltip": null,
            "_model_module": "@jupyter-widgets/controls",
            "layout": "IPY_MODEL_c37383402cc6496ea27ee0a4cfe053e4"
          }
        },
        "b9948552deef47ca95236cbdb8e3bb4c": {
          "model_module": "@jupyter-widgets/controls",
          "model_name": "HTMLModel",
          "state": {
            "_view_name": "HTMLView",
            "style": "IPY_MODEL_0b18c20c7b4149189c9fe099fe0df3e4",
            "_dom_classes": [],
            "description": "",
            "_model_name": "HTMLModel",
            "placeholder": "​",
            "_view_module": "@jupyter-widgets/controls",
            "_model_module_version": "1.5.0",
            "value": " 9920512/? [00:20&lt;00:00, 1458106.36it/s]",
            "_view_count": null,
            "_view_module_version": "1.5.0",
            "description_tooltip": null,
            "_model_module": "@jupyter-widgets/controls",
            "layout": "IPY_MODEL_0ee5a904ba8d4283a0bf8c119ca714cd"
          }
        },
        "f441fe7363de46c8972cc963d15a95a5": {
          "model_module": "@jupyter-widgets/controls",
          "model_name": "ProgressStyleModel",
          "state": {
            "_view_name": "StyleView",
            "_model_name": "ProgressStyleModel",
            "description_width": "initial",
            "_view_module": "@jupyter-widgets/base",
            "_model_module_version": "1.5.0",
            "_view_count": null,
            "_view_module_version": "1.2.0",
            "bar_color": null,
            "_model_module": "@jupyter-widgets/controls"
          }
        },
        "c37383402cc6496ea27ee0a4cfe053e4": {
          "model_module": "@jupyter-widgets/base",
          "model_name": "LayoutModel",
          "state": {
            "_view_name": "LayoutView",
            "grid_template_rows": null,
            "right": null,
            "justify_content": null,
            "_view_module": "@jupyter-widgets/base",
            "overflow": null,
            "_model_module_version": "1.2.0",
            "_view_count": null,
            "flex_flow": null,
            "width": null,
            "min_width": null,
            "border": null,
            "align_items": null,
            "bottom": null,
            "_model_module": "@jupyter-widgets/base",
            "top": null,
            "grid_column": null,
            "overflow_y": null,
            "overflow_x": null,
            "grid_auto_flow": null,
            "grid_area": null,
            "grid_template_columns": null,
            "flex": null,
            "_model_name": "LayoutModel",
            "justify_items": null,
            "grid_row": null,
            "max_height": null,
            "align_content": null,
            "visibility": null,
            "align_self": null,
            "height": null,
            "min_height": null,
            "padding": null,
            "grid_auto_rows": null,
            "grid_gap": null,
            "max_width": null,
            "order": null,
            "_view_module_version": "1.2.0",
            "grid_template_areas": null,
            "object_position": null,
            "object_fit": null,
            "grid_auto_columns": null,
            "margin": null,
            "display": null,
            "left": null
          }
        },
        "0b18c20c7b4149189c9fe099fe0df3e4": {
          "model_module": "@jupyter-widgets/controls",
          "model_name": "DescriptionStyleModel",
          "state": {
            "_view_name": "StyleView",
            "_model_name": "DescriptionStyleModel",
            "description_width": "",
            "_view_module": "@jupyter-widgets/base",
            "_model_module_version": "1.5.0",
            "_view_count": null,
            "_view_module_version": "1.2.0",
            "_model_module": "@jupyter-widgets/controls"
          }
        },
        "0ee5a904ba8d4283a0bf8c119ca714cd": {
          "model_module": "@jupyter-widgets/base",
          "model_name": "LayoutModel",
          "state": {
            "_view_name": "LayoutView",
            "grid_template_rows": null,
            "right": null,
            "justify_content": null,
            "_view_module": "@jupyter-widgets/base",
            "overflow": null,
            "_model_module_version": "1.2.0",
            "_view_count": null,
            "flex_flow": null,
            "width": null,
            "min_width": null,
            "border": null,
            "align_items": null,
            "bottom": null,
            "_model_module": "@jupyter-widgets/base",
            "top": null,
            "grid_column": null,
            "overflow_y": null,
            "overflow_x": null,
            "grid_auto_flow": null,
            "grid_area": null,
            "grid_template_columns": null,
            "flex": null,
            "_model_name": "LayoutModel",
            "justify_items": null,
            "grid_row": null,
            "max_height": null,
            "align_content": null,
            "visibility": null,
            "align_self": null,
            "height": null,
            "min_height": null,
            "padding": null,
            "grid_auto_rows": null,
            "grid_gap": null,
            "max_width": null,
            "order": null,
            "_view_module_version": "1.2.0",
            "grid_template_areas": null,
            "object_position": null,
            "object_fit": null,
            "grid_auto_columns": null,
            "margin": null,
            "display": null,
            "left": null
          }
        },
        "85c1cc6ff617431196a6426983ec66c3": {
          "model_module": "@jupyter-widgets/controls",
          "model_name": "HBoxModel",
          "state": {
            "_view_name": "HBoxView",
            "_dom_classes": [],
            "_model_name": "HBoxModel",
            "_view_module": "@jupyter-widgets/controls",
            "_model_module_version": "1.5.0",
            "_view_count": null,
            "_view_module_version": "1.5.0",
            "box_style": "",
            "layout": "IPY_MODEL_ea9650b3f0de41a9b1395f5dc3b7a2eb",
            "_model_module": "@jupyter-widgets/controls",
            "children": [
              "IPY_MODEL_52ce59dad9c345aba6d02d89ef321a17",
              "IPY_MODEL_6a70444c54ca44789d4fd2ac897a7e25"
            ]
          }
        },
        "ea9650b3f0de41a9b1395f5dc3b7a2eb": {
          "model_module": "@jupyter-widgets/base",
          "model_name": "LayoutModel",
          "state": {
            "_view_name": "LayoutView",
            "grid_template_rows": null,
            "right": null,
            "justify_content": null,
            "_view_module": "@jupyter-widgets/base",
            "overflow": null,
            "_model_module_version": "1.2.0",
            "_view_count": null,
            "flex_flow": null,
            "width": null,
            "min_width": null,
            "border": null,
            "align_items": null,
            "bottom": null,
            "_model_module": "@jupyter-widgets/base",
            "top": null,
            "grid_column": null,
            "overflow_y": null,
            "overflow_x": null,
            "grid_auto_flow": null,
            "grid_area": null,
            "grid_template_columns": null,
            "flex": null,
            "_model_name": "LayoutModel",
            "justify_items": null,
            "grid_row": null,
            "max_height": null,
            "align_content": null,
            "visibility": null,
            "align_self": null,
            "height": null,
            "min_height": null,
            "padding": null,
            "grid_auto_rows": null,
            "grid_gap": null,
            "max_width": null,
            "order": null,
            "_view_module_version": "1.2.0",
            "grid_template_areas": null,
            "object_position": null,
            "object_fit": null,
            "grid_auto_columns": null,
            "margin": null,
            "display": null,
            "left": null
          }
        },
        "52ce59dad9c345aba6d02d89ef321a17": {
          "model_module": "@jupyter-widgets/controls",
          "model_name": "FloatProgressModel",
          "state": {
            "_view_name": "ProgressView",
            "style": "IPY_MODEL_39694d1ec2d446318f5bd8528ce1afe1",
            "_dom_classes": [],
            "description": "  0%",
            "_model_name": "FloatProgressModel",
            "bar_style": "info",
            "max": 1,
            "_view_module": "@jupyter-widgets/controls",
            "_model_module_version": "1.5.0",
            "value": 0,
            "_view_count": null,
            "_view_module_version": "1.5.0",
            "orientation": "horizontal",
            "min": 0,
            "description_tooltip": null,
            "_model_module": "@jupyter-widgets/controls",
            "layout": "IPY_MODEL_e6ad3d33186a4c06bdd021a25524bba0"
          }
        },
        "6a70444c54ca44789d4fd2ac897a7e25": {
          "model_module": "@jupyter-widgets/controls",
          "model_name": "HTMLModel",
          "state": {
            "_view_name": "HTMLView",
            "style": "IPY_MODEL_c9314ba88b974e4597d80a1e7a12f7fe",
            "_dom_classes": [],
            "description": "",
            "_model_name": "HTMLModel",
            "placeholder": "​",
            "_view_module": "@jupyter-widgets/controls",
            "_model_module_version": "1.5.0",
            "value": " 0/28881 [00:00&lt;?, ?it/s]",
            "_view_count": null,
            "_view_module_version": "1.5.0",
            "description_tooltip": null,
            "_model_module": "@jupyter-widgets/controls",
            "layout": "IPY_MODEL_85301f42fca148cba268a603b610be02"
          }
        },
        "39694d1ec2d446318f5bd8528ce1afe1": {
          "model_module": "@jupyter-widgets/controls",
          "model_name": "ProgressStyleModel",
          "state": {
            "_view_name": "StyleView",
            "_model_name": "ProgressStyleModel",
            "description_width": "initial",
            "_view_module": "@jupyter-widgets/base",
            "_model_module_version": "1.5.0",
            "_view_count": null,
            "_view_module_version": "1.2.0",
            "bar_color": null,
            "_model_module": "@jupyter-widgets/controls"
          }
        },
        "e6ad3d33186a4c06bdd021a25524bba0": {
          "model_module": "@jupyter-widgets/base",
          "model_name": "LayoutModel",
          "state": {
            "_view_name": "LayoutView",
            "grid_template_rows": null,
            "right": null,
            "justify_content": null,
            "_view_module": "@jupyter-widgets/base",
            "overflow": null,
            "_model_module_version": "1.2.0",
            "_view_count": null,
            "flex_flow": null,
            "width": null,
            "min_width": null,
            "border": null,
            "align_items": null,
            "bottom": null,
            "_model_module": "@jupyter-widgets/base",
            "top": null,
            "grid_column": null,
            "overflow_y": null,
            "overflow_x": null,
            "grid_auto_flow": null,
            "grid_area": null,
            "grid_template_columns": null,
            "flex": null,
            "_model_name": "LayoutModel",
            "justify_items": null,
            "grid_row": null,
            "max_height": null,
            "align_content": null,
            "visibility": null,
            "align_self": null,
            "height": null,
            "min_height": null,
            "padding": null,
            "grid_auto_rows": null,
            "grid_gap": null,
            "max_width": null,
            "order": null,
            "_view_module_version": "1.2.0",
            "grid_template_areas": null,
            "object_position": null,
            "object_fit": null,
            "grid_auto_columns": null,
            "margin": null,
            "display": null,
            "left": null
          }
        },
        "c9314ba88b974e4597d80a1e7a12f7fe": {
          "model_module": "@jupyter-widgets/controls",
          "model_name": "DescriptionStyleModel",
          "state": {
            "_view_name": "StyleView",
            "_model_name": "DescriptionStyleModel",
            "description_width": "",
            "_view_module": "@jupyter-widgets/base",
            "_model_module_version": "1.5.0",
            "_view_count": null,
            "_view_module_version": "1.2.0",
            "_model_module": "@jupyter-widgets/controls"
          }
        },
        "85301f42fca148cba268a603b610be02": {
          "model_module": "@jupyter-widgets/base",
          "model_name": "LayoutModel",
          "state": {
            "_view_name": "LayoutView",
            "grid_template_rows": null,
            "right": null,
            "justify_content": null,
            "_view_module": "@jupyter-widgets/base",
            "overflow": null,
            "_model_module_version": "1.2.0",
            "_view_count": null,
            "flex_flow": null,
            "width": null,
            "min_width": null,
            "border": null,
            "align_items": null,
            "bottom": null,
            "_model_module": "@jupyter-widgets/base",
            "top": null,
            "grid_column": null,
            "overflow_y": null,
            "overflow_x": null,
            "grid_auto_flow": null,
            "grid_area": null,
            "grid_template_columns": null,
            "flex": null,
            "_model_name": "LayoutModel",
            "justify_items": null,
            "grid_row": null,
            "max_height": null,
            "align_content": null,
            "visibility": null,
            "align_self": null,
            "height": null,
            "min_height": null,
            "padding": null,
            "grid_auto_rows": null,
            "grid_gap": null,
            "max_width": null,
            "order": null,
            "_view_module_version": "1.2.0",
            "grid_template_areas": null,
            "object_position": null,
            "object_fit": null,
            "grid_auto_columns": null,
            "margin": null,
            "display": null,
            "left": null
          }
        },
        "672fb10c17b44ca9a996021764356d59": {
          "model_module": "@jupyter-widgets/controls",
          "model_name": "HBoxModel",
          "state": {
            "_view_name": "HBoxView",
            "_dom_classes": [],
            "_model_name": "HBoxModel",
            "_view_module": "@jupyter-widgets/controls",
            "_model_module_version": "1.5.0",
            "_view_count": null,
            "_view_module_version": "1.5.0",
            "box_style": "",
            "layout": "IPY_MODEL_1b5ca6471bd54672b87496c65da959aa",
            "_model_module": "@jupyter-widgets/controls",
            "children": [
              "IPY_MODEL_a83887dda1ab4ba3acea606faab67894",
              "IPY_MODEL_bde70aa2fb934cc0b4fadd118cc427b0"
            ]
          }
        },
        "1b5ca6471bd54672b87496c65da959aa": {
          "model_module": "@jupyter-widgets/base",
          "model_name": "LayoutModel",
          "state": {
            "_view_name": "LayoutView",
            "grid_template_rows": null,
            "right": null,
            "justify_content": null,
            "_view_module": "@jupyter-widgets/base",
            "overflow": null,
            "_model_module_version": "1.2.0",
            "_view_count": null,
            "flex_flow": null,
            "width": null,
            "min_width": null,
            "border": null,
            "align_items": null,
            "bottom": null,
            "_model_module": "@jupyter-widgets/base",
            "top": null,
            "grid_column": null,
            "overflow_y": null,
            "overflow_x": null,
            "grid_auto_flow": null,
            "grid_area": null,
            "grid_template_columns": null,
            "flex": null,
            "_model_name": "LayoutModel",
            "justify_items": null,
            "grid_row": null,
            "max_height": null,
            "align_content": null,
            "visibility": null,
            "align_self": null,
            "height": null,
            "min_height": null,
            "padding": null,
            "grid_auto_rows": null,
            "grid_gap": null,
            "max_width": null,
            "order": null,
            "_view_module_version": "1.2.0",
            "grid_template_areas": null,
            "object_position": null,
            "object_fit": null,
            "grid_auto_columns": null,
            "margin": null,
            "display": null,
            "left": null
          }
        },
        "a83887dda1ab4ba3acea606faab67894": {
          "model_module": "@jupyter-widgets/controls",
          "model_name": "FloatProgressModel",
          "state": {
            "_view_name": "ProgressView",
            "style": "IPY_MODEL_1bf1e09761de47428e2e77c84edadcdd",
            "_dom_classes": [],
            "description": "",
            "_model_name": "FloatProgressModel",
            "bar_style": "info",
            "max": 1,
            "_view_module": "@jupyter-widgets/controls",
            "_model_module_version": "1.5.0",
            "value": 1,
            "_view_count": null,
            "_view_module_version": "1.5.0",
            "orientation": "horizontal",
            "min": 0,
            "description_tooltip": null,
            "_model_module": "@jupyter-widgets/controls",
            "layout": "IPY_MODEL_75ec599346ef422e88e5ec40a14be053"
          }
        },
        "bde70aa2fb934cc0b4fadd118cc427b0": {
          "model_module": "@jupyter-widgets/controls",
          "model_name": "HTMLModel",
          "state": {
            "_view_name": "HTMLView",
            "style": "IPY_MODEL_bb100a9f7e714d0ebd1cae9452de4cf9",
            "_dom_classes": [],
            "description": "",
            "_model_name": "HTMLModel",
            "placeholder": "​",
            "_view_module": "@jupyter-widgets/controls",
            "_model_module_version": "1.5.0",
            "value": " 1654784/? [00:10&lt;00:00, 1874019.40it/s]",
            "_view_count": null,
            "_view_module_version": "1.5.0",
            "description_tooltip": null,
            "_model_module": "@jupyter-widgets/controls",
            "layout": "IPY_MODEL_4b74739dc9b54d669b43e21fdeca2b78"
          }
        },
        "1bf1e09761de47428e2e77c84edadcdd": {
          "model_module": "@jupyter-widgets/controls",
          "model_name": "ProgressStyleModel",
          "state": {
            "_view_name": "StyleView",
            "_model_name": "ProgressStyleModel",
            "description_width": "initial",
            "_view_module": "@jupyter-widgets/base",
            "_model_module_version": "1.5.0",
            "_view_count": null,
            "_view_module_version": "1.2.0",
            "bar_color": null,
            "_model_module": "@jupyter-widgets/controls"
          }
        },
        "75ec599346ef422e88e5ec40a14be053": {
          "model_module": "@jupyter-widgets/base",
          "model_name": "LayoutModel",
          "state": {
            "_view_name": "LayoutView",
            "grid_template_rows": null,
            "right": null,
            "justify_content": null,
            "_view_module": "@jupyter-widgets/base",
            "overflow": null,
            "_model_module_version": "1.2.0",
            "_view_count": null,
            "flex_flow": null,
            "width": null,
            "min_width": null,
            "border": null,
            "align_items": null,
            "bottom": null,
            "_model_module": "@jupyter-widgets/base",
            "top": null,
            "grid_column": null,
            "overflow_y": null,
            "overflow_x": null,
            "grid_auto_flow": null,
            "grid_area": null,
            "grid_template_columns": null,
            "flex": null,
            "_model_name": "LayoutModel",
            "justify_items": null,
            "grid_row": null,
            "max_height": null,
            "align_content": null,
            "visibility": null,
            "align_self": null,
            "height": null,
            "min_height": null,
            "padding": null,
            "grid_auto_rows": null,
            "grid_gap": null,
            "max_width": null,
            "order": null,
            "_view_module_version": "1.2.0",
            "grid_template_areas": null,
            "object_position": null,
            "object_fit": null,
            "grid_auto_columns": null,
            "margin": null,
            "display": null,
            "left": null
          }
        },
        "bb100a9f7e714d0ebd1cae9452de4cf9": {
          "model_module": "@jupyter-widgets/controls",
          "model_name": "DescriptionStyleModel",
          "state": {
            "_view_name": "StyleView",
            "_model_name": "DescriptionStyleModel",
            "description_width": "",
            "_view_module": "@jupyter-widgets/base",
            "_model_module_version": "1.5.0",
            "_view_count": null,
            "_view_module_version": "1.2.0",
            "_model_module": "@jupyter-widgets/controls"
          }
        },
        "4b74739dc9b54d669b43e21fdeca2b78": {
          "model_module": "@jupyter-widgets/base",
          "model_name": "LayoutModel",
          "state": {
            "_view_name": "LayoutView",
            "grid_template_rows": null,
            "right": null,
            "justify_content": null,
            "_view_module": "@jupyter-widgets/base",
            "overflow": null,
            "_model_module_version": "1.2.0",
            "_view_count": null,
            "flex_flow": null,
            "width": null,
            "min_width": null,
            "border": null,
            "align_items": null,
            "bottom": null,
            "_model_module": "@jupyter-widgets/base",
            "top": null,
            "grid_column": null,
            "overflow_y": null,
            "overflow_x": null,
            "grid_auto_flow": null,
            "grid_area": null,
            "grid_template_columns": null,
            "flex": null,
            "_model_name": "LayoutModel",
            "justify_items": null,
            "grid_row": null,
            "max_height": null,
            "align_content": null,
            "visibility": null,
            "align_self": null,
            "height": null,
            "min_height": null,
            "padding": null,
            "grid_auto_rows": null,
            "grid_gap": null,
            "max_width": null,
            "order": null,
            "_view_module_version": "1.2.0",
            "grid_template_areas": null,
            "object_position": null,
            "object_fit": null,
            "grid_auto_columns": null,
            "margin": null,
            "display": null,
            "left": null
          }
        },
        "54632497ccb0456590aaa3cc523bfa29": {
          "model_module": "@jupyter-widgets/controls",
          "model_name": "HBoxModel",
          "state": {
            "_view_name": "HBoxView",
            "_dom_classes": [],
            "_model_name": "HBoxModel",
            "_view_module": "@jupyter-widgets/controls",
            "_model_module_version": "1.5.0",
            "_view_count": null,
            "_view_module_version": "1.5.0",
            "box_style": "",
            "layout": "IPY_MODEL_c4e4825c1b284bd2bd06661c4f719e4a",
            "_model_module": "@jupyter-widgets/controls",
            "children": [
              "IPY_MODEL_406894d1c8bd4329bf1fcd9ebbf1073a",
              "IPY_MODEL_ba11f97c3e85424aa9c20c2aabf04f6f"
            ]
          }
        },
        "c4e4825c1b284bd2bd06661c4f719e4a": {
          "model_module": "@jupyter-widgets/base",
          "model_name": "LayoutModel",
          "state": {
            "_view_name": "LayoutView",
            "grid_template_rows": null,
            "right": null,
            "justify_content": null,
            "_view_module": "@jupyter-widgets/base",
            "overflow": null,
            "_model_module_version": "1.2.0",
            "_view_count": null,
            "flex_flow": null,
            "width": null,
            "min_width": null,
            "border": null,
            "align_items": null,
            "bottom": null,
            "_model_module": "@jupyter-widgets/base",
            "top": null,
            "grid_column": null,
            "overflow_y": null,
            "overflow_x": null,
            "grid_auto_flow": null,
            "grid_area": null,
            "grid_template_columns": null,
            "flex": null,
            "_model_name": "LayoutModel",
            "justify_items": null,
            "grid_row": null,
            "max_height": null,
            "align_content": null,
            "visibility": null,
            "align_self": null,
            "height": null,
            "min_height": null,
            "padding": null,
            "grid_auto_rows": null,
            "grid_gap": null,
            "max_width": null,
            "order": null,
            "_view_module_version": "1.2.0",
            "grid_template_areas": null,
            "object_position": null,
            "object_fit": null,
            "grid_auto_columns": null,
            "margin": null,
            "display": null,
            "left": null
          }
        },
        "406894d1c8bd4329bf1fcd9ebbf1073a": {
          "model_module": "@jupyter-widgets/controls",
          "model_name": "FloatProgressModel",
          "state": {
            "_view_name": "ProgressView",
            "style": "IPY_MODEL_751698b4a8ce4befa5a83c0df957ec61",
            "_dom_classes": [],
            "description": "  0%",
            "_model_name": "FloatProgressModel",
            "bar_style": "info",
            "max": 1,
            "_view_module": "@jupyter-widgets/controls",
            "_model_module_version": "1.5.0",
            "value": 0,
            "_view_count": null,
            "_view_module_version": "1.5.0",
            "orientation": "horizontal",
            "min": 0,
            "description_tooltip": null,
            "_model_module": "@jupyter-widgets/controls",
            "layout": "IPY_MODEL_9084b74dfd0f433fad540682165465fc"
          }
        },
        "ba11f97c3e85424aa9c20c2aabf04f6f": {
          "model_module": "@jupyter-widgets/controls",
          "model_name": "HTMLModel",
          "state": {
            "_view_name": "HTMLView",
            "style": "IPY_MODEL_862ee24899ee48d5ada8df0a8c0ed978",
            "_dom_classes": [],
            "description": "",
            "_model_name": "HTMLModel",
            "placeholder": "​",
            "_view_module": "@jupyter-widgets/controls",
            "_model_module_version": "1.5.0",
            "value": " 0/4542 [00:00&lt;?, ?it/s]",
            "_view_count": null,
            "_view_module_version": "1.5.0",
            "description_tooltip": null,
            "_model_module": "@jupyter-widgets/controls",
            "layout": "IPY_MODEL_ead7d574d5b242ad8088115080f41674"
          }
        },
        "751698b4a8ce4befa5a83c0df957ec61": {
          "model_module": "@jupyter-widgets/controls",
          "model_name": "ProgressStyleModel",
          "state": {
            "_view_name": "StyleView",
            "_model_name": "ProgressStyleModel",
            "description_width": "initial",
            "_view_module": "@jupyter-widgets/base",
            "_model_module_version": "1.5.0",
            "_view_count": null,
            "_view_module_version": "1.2.0",
            "bar_color": null,
            "_model_module": "@jupyter-widgets/controls"
          }
        },
        "9084b74dfd0f433fad540682165465fc": {
          "model_module": "@jupyter-widgets/base",
          "model_name": "LayoutModel",
          "state": {
            "_view_name": "LayoutView",
            "grid_template_rows": null,
            "right": null,
            "justify_content": null,
            "_view_module": "@jupyter-widgets/base",
            "overflow": null,
            "_model_module_version": "1.2.0",
            "_view_count": null,
            "flex_flow": null,
            "width": null,
            "min_width": null,
            "border": null,
            "align_items": null,
            "bottom": null,
            "_model_module": "@jupyter-widgets/base",
            "top": null,
            "grid_column": null,
            "overflow_y": null,
            "overflow_x": null,
            "grid_auto_flow": null,
            "grid_area": null,
            "grid_template_columns": null,
            "flex": null,
            "_model_name": "LayoutModel",
            "justify_items": null,
            "grid_row": null,
            "max_height": null,
            "align_content": null,
            "visibility": null,
            "align_self": null,
            "height": null,
            "min_height": null,
            "padding": null,
            "grid_auto_rows": null,
            "grid_gap": null,
            "max_width": null,
            "order": null,
            "_view_module_version": "1.2.0",
            "grid_template_areas": null,
            "object_position": null,
            "object_fit": null,
            "grid_auto_columns": null,
            "margin": null,
            "display": null,
            "left": null
          }
        },
        "862ee24899ee48d5ada8df0a8c0ed978": {
          "model_module": "@jupyter-widgets/controls",
          "model_name": "DescriptionStyleModel",
          "state": {
            "_view_name": "StyleView",
            "_model_name": "DescriptionStyleModel",
            "description_width": "",
            "_view_module": "@jupyter-widgets/base",
            "_model_module_version": "1.5.0",
            "_view_count": null,
            "_view_module_version": "1.2.0",
            "_model_module": "@jupyter-widgets/controls"
          }
        },
        "ead7d574d5b242ad8088115080f41674": {
          "model_module": "@jupyter-widgets/base",
          "model_name": "LayoutModel",
          "state": {
            "_view_name": "LayoutView",
            "grid_template_rows": null,
            "right": null,
            "justify_content": null,
            "_view_module": "@jupyter-widgets/base",
            "overflow": null,
            "_model_module_version": "1.2.0",
            "_view_count": null,
            "flex_flow": null,
            "width": null,
            "min_width": null,
            "border": null,
            "align_items": null,
            "bottom": null,
            "_model_module": "@jupyter-widgets/base",
            "top": null,
            "grid_column": null,
            "overflow_y": null,
            "overflow_x": null,
            "grid_auto_flow": null,
            "grid_area": null,
            "grid_template_columns": null,
            "flex": null,
            "_model_name": "LayoutModel",
            "justify_items": null,
            "grid_row": null,
            "max_height": null,
            "align_content": null,
            "visibility": null,
            "align_self": null,
            "height": null,
            "min_height": null,
            "padding": null,
            "grid_auto_rows": null,
            "grid_gap": null,
            "max_width": null,
            "order": null,
            "_view_module_version": "1.2.0",
            "grid_template_areas": null,
            "object_position": null,
            "object_fit": null,
            "grid_auto_columns": null,
            "margin": null,
            "display": null,
            "left": null
          }
        }
      }
    }
  },
  "cells": [
    {
      "cell_type": "markdown",
      "metadata": {
        "id": "view-in-github",
        "colab_type": "text"
      },
      "source": [
        "<a href=\"https://colab.research.google.com/github/MartinVIllesca/Curso-teoria-informacion/blob/master/Tarea_Capsula_2.ipynb\" target=\"_parent\"><img src=\"https://colab.research.google.com/assets/colab-badge.svg\" alt=\"Open In Colab\"/></a>"
      ]
    },
    {
      "cell_type": "markdown",
      "metadata": {
        "id": "zZvs96ka7Q0z",
        "colab_type": "text"
      },
      "source": [
        "# Tarea Cápsula #2: *Representation Learning*\n",
        "\n",
        "### EL7024 - Teoría de la Información: Fundamentos y Aplicaciones \n",
        "### Information and Decision Systems Group"
      ]
    },
    {
      "cell_type": "markdown",
      "metadata": {
        "id": "LHLXeBud7Q03",
        "colab_type": "text"
      },
      "source": [
        "Nombre: Martín Valderrama Illesca"
      ]
    },
    {
      "cell_type": "markdown",
      "metadata": {
        "id": "xi7iblhW7Q07",
        "colab_type": "text"
      },
      "source": [
        "## Preguntas Teóricas:"
      ]
    },
    {
      "cell_type": "markdown",
      "metadata": {
        "id": "MwXXm2SS7Q0-",
        "colab_type": "text"
      },
      "source": [
        "### P1) Inferencia Variacional"
      ]
    },
    {
      "cell_type": "markdown",
      "metadata": {
        "id": "qDb-dSYt7Q1A",
        "colab_type": "text"
      },
      "source": [
        "a) A partir del funcional objetivo de Inferencia Variacional $KL(q(\\mathbf{z})||p(\\mathbf{z}|\\mathbf{x}))$ encuentre una cota inferior para el logaritmo de la **evidencia** $log p(x)$ y muestre que esta se puede escribir como:\n",
        "\n",
        "\\begin{equation}\n",
        "\\begin{split}\n",
        "ELBO(q) &= \\mathbb{E}_{\\mathbf{Z} \\sim q(\\mathbf{z})}\\{\\log{p(\\mathbf{x},\\mathbf{z})}\\} - \\mathbb{E}_{\\mathbf{Z} \\sim q(\\mathbf{z})}\\{\\log{q(\\mathbf{z})}\\} \\\\\n",
        "&= \\mathbb{E}_{\\mathbf{Z} \\sim q(\\mathbf{z})}\\{\\log{p(\\mathbf{x}|\\mathbf{z})}\\} - KL(q(\\mathbf{z})||p(\\mathbf{z}))\n",
        "\\end{split}\n",
        "\\end{equation}"
      ]
    },
    {
      "cell_type": "markdown",
      "metadata": {
        "id": "h9jwBqlu7Q1C",
        "colab_type": "text"
      },
      "source": [
        "b) Explique e interprete la forma de la *Evidence Lower Bound*. En este sentido puede resultarle más fácil considerar la segunda expresión $ELBO(q) = \\mathbb{E}_{\\mathbf{Z} \\sim q(\\mathbf{z})}\\{\\log{p(\\mathbf{x}|\\mathbf{z})}\\} - KL(q(\\mathbf{z})||p(\\mathbf{z}))$.\n",
        "\n",
        "**Hint**: Puede resultarle útil pensar en lo siguiente: ¿Para qué valores de $\\mathbf{z}$ o bajo qué criterio cada término de este funcional propicia la asignación de masa en $q(\\mathbf{z})$?"
      ]
    },
    {
      "cell_type": "markdown",
      "metadata": {
        "id": "WdSfNazB7Q1F",
        "colab_type": "text"
      },
      "source": [
        "c) Explique brevemente por qué los problemas de optimización $\\underset{q(\\mathbf{z}) \\in \\mathcal{Q}}{\\operatorname{arg min}} KL(q(\\mathbf{z})||p(\\mathbf{z}|\\mathbf{x}))$ y $\\underset{q(\\mathbf{z}) \\in \\mathcal{Q}}{\\operatorname{arg max}} ELBO(q)$ son equivalentes."
      ]
    },
    {
      "cell_type": "markdown",
      "metadata": {
        "id": "ML0kgbM17Q1H",
        "colab_type": "text"
      },
      "source": [
        "### P2) Information Bottleneck Profundo"
      ]
    },
    {
      "cell_type": "markdown",
      "metadata": {
        "id": "EN3EVwCH7Q1K",
        "colab_type": "text"
      },
      "source": [
        "En el mismo estilo que estudiamos para los *Autoencoders* Variacionales deduciremos la forma de definir una función de pérdida adecuada para abordar el problema del *Information Bottleneck* por medio de redes neuronales. Para esto, primero reescribimos el problema de la siguiente manera:\n",
        "\n",
        "\\begin{equation}\n",
        "    \\underset{p(\\mathbf{z}|\\mathbf{x}), p(\\mathbf{y}|\\mathbf{z})}{\\operatorname{max}} R_{IB} = I(\\mathbf{Y};\\mathbf{Z}) - \\beta I(\\mathbf{X};\\mathbf{Z})\n",
        "\\end{equation}\n",
        "\n",
        "de modo tal que deduciremos una cota inferior del funcional, siendo $\\mathbf{Z}$ la variable latente que comprime la señal de entrada $\\mathbf{X}$ y se utiliza en la predicción de $\\mathbf{Y}$, y es tal que $\\mathbf{Z} - \\mathbf{X} - \\mathbf{Y}$."
      ]
    },
    {
      "cell_type": "markdown",
      "metadata": {
        "id": "K3a7rKCI7Q1O",
        "colab_type": "text"
      },
      "source": [
        "a) Consideremos primero una cota inferior para $I(\\mathbf{Y};\\mathbf{Z})$. Considerando que $q(\\mathbf{y}|\\mathbf{z})$ es una aproximación variacional del *decoder* $p(\\mathbf{y}|\\mathbf{z})$ y el supuesto de Markovianidad demuestre que:\n",
        "\n",
        "\\begin{equation}\n",
        "    I(\\mathbf{Y};\\mathbf{Z}) \\geq \\int_{\\mathcal{X}}\\int_{\\mathcal{Z}}\\int_{\\mathcal{Y}}p(z|x)p(y|x)p(x)\\log q(y|z) dydzdx = \\tilde{I}(\\mathbf{Y};\\mathbf{Z})\n",
        "\\end{equation}"
      ]
    },
    {
      "cell_type": "markdown",
      "metadata": {
        "id": "R_HE4ypl7Q1Q",
        "colab_type": "text"
      },
      "source": [
        "b) Para el término $I(\\mathbf{X};\\mathbf{Z})$ es necesaria una cota superior. Demuestre que una aproximación variacional $r(\\mathbf{z})$ del *prior* $p(\\mathbf{z})$ satisface que:\n",
        "\n",
        "\\begin{equation}\n",
        "    I(\\mathbf{X};\\mathbf{Z}) \\leq \\int_{\\mathcal{X}}\\int_{\\mathcal{Z}}\\int_{\\mathcal{Y}}p(z|x)p(y|x)p(x)\\log \\frac{p(z|x)}{r(z)} dydzdx = \\tilde{I}(\\mathbf{X};\\mathbf{Z})\n",
        "\\end{equation}"
      ]
    },
    {
      "cell_type": "markdown",
      "metadata": {
        "id": "MZFeoLNv7Q1R",
        "colab_type": "text"
      },
      "source": [
        "Definamos la cota resultante para $R_{IB}$ por\n",
        "\n",
        "\\begin{equation}\n",
        "    \\mathcal{L}_{IB} = \\tilde{I}(\\mathbf{Y};\\mathbf{Z}) - \\beta \\tilde{I}(\\mathbf{X};\\mathbf{Z})\n",
        "\\end{equation}"
      ]
    },
    {
      "cell_type": "markdown",
      "metadata": {
        "id": "BKrswFxk7Q1U",
        "colab_type": "text"
      },
      "source": [
        "c) Empleando la distribución conjunta empírica $\\tilde{p}(x,y) = \\frac{1}{N}\\sum_{i=1}^{N}\\delta_{x^{(i)}}(x)\\delta_{y^{(i)}}(y)$ deduzca que\n",
        "\n",
        "\\begin{equation}\n",
        "    \\mathcal{L}_{IB} \\approx \\frac{1}{N}\\sum_{i=1}^{N}\\left[ \\mathbb{E}_{\\mathbf{Z} \\sim p(\\mathbf{z}|\\mathbf{x})} \\left\\{ \\log q(\\mathbf{y}^{(i)}|\\mathbf{z}) \\right\\} - \\beta KL\\left( p(\\mathbf{z}|\\mathbf{x}^{(i)}) || r(\\mathbf{z}) \\right)\\right]\n",
        "\\end{equation}"
      ]
    },
    {
      "cell_type": "markdown",
      "metadata": {
        "id": "_iNr1Epi7Q1X",
        "colab_type": "text"
      },
      "source": [
        "## Preguntas de Simulación:"
      ]
    },
    {
      "cell_type": "markdown",
      "metadata": {
        "id": "E2dhwpYx7Q1Z",
        "colab_type": "text"
      },
      "source": [
        "En esta parte de la tarea deberán implementar y probar el modelo deducido en la pregunta 2 mediante redes neuronales, donde se considera que las aproximaciones variacionales están parametrizadas por una red correspondiente al *encoder* $p_{\\theta}(\\mathbf{z}|\\mathbf{x})$ y otra para el *decoder* $q_{\\phi}(\\mathbf{y}|\\mathbf{z})$, es decir que el funcional a **minimizar** corresponde a:\n",
        "\n",
        "\\begin{equation}\n",
        "    \\begin{split}\n",
        "        \\mathcal{L}'_{IB}(\\phi, \\theta) &= -\\frac{1}{N}\\sum_{i=1}^{N}\\left[ \\mathbb{E}_{\\mathbf{Z} \\sim p_{\\theta}(\\mathbf{z}|\\mathbf{x})} \\left\\{ \\log q_{\\phi}(\\mathbf{y}^{(i)}|\\mathbf{z}) \\right\\} - \\beta KL\\left( p_\\theta(\\mathbf{z}|\\mathbf{x}^{(i)}) || r(\\mathbf{z}) \\right)\\right] \\\\\n",
        "        &= \\frac{1}{N}\\sum_{i=1}^{N}\\left[ \\mathbb{E}_{\\mathbf{Z} \\sim p_{\\theta}(\\mathbf{z}|\\mathbf{x})} \\left\\{ -\\log q_{\\phi}(\\mathbf{y}^{(i)}|\\mathbf{z}) \\right\\} + \\beta KL\\left( p_\\theta(\\mathbf{z}|\\mathbf{x}^{(i)}) || r(\\mathbf{z}) \\right)\\right]\n",
        "    \\end{split}\n",
        "\\end{equation}\n",
        "\n",
        "Los experimentos se realizarán sobre el *dataset* MNIST en el problema de **clasificación**."
      ]
    },
    {
      "cell_type": "markdown",
      "metadata": {
        "id": "SmeHdj5s7Q1d",
        "colab_type": "text"
      },
      "source": [
        "i) Implemente una clase $\\texttt{DeepIB}$ que corresponda a la siguiente arquitectura:\n",
        "\n",
        "* *Encoder* Gaussiano: Red *fully-connected* $784\\to1024\\to1024\\to2K$, donde K es la dimensionalidad de la variable latente. Los primeros $K$ valores de dicha capa corresponderán a $\\mu_{\\mathbf{z}}(\\mathbf{x})$ y las siguientes $K$ componentes comprenden las desviaciones estándar $\\sigma_{\\mathbf{z}}(\\mathbf{x})$. Entre cada capa debe usar la función de activación $\\texttt{ReLU}$.\n",
        "**Hint**: Para asegurar que las desviaciones estándar $\\sigma_{\\mathbf{z}}(\\mathbf{x})$ sean positivas se recomienda aplicarles la siguiente transformación: \n",
        "\n",
        "\\begin{equation}\n",
        "    \\sigma_{\\mathbf{z}}(\\mathbf{x}) = \\log (1 + \\exp (\\sigma_{\\mathbf{z}}^{raw}(\\mathbf{x}) - 5.0)),\n",
        "\\end{equation}\n",
        "\n",
        "$\\hspace{7mm}$ donde $\\sigma_{\\mathbf{z}}^{raw}(\\mathbf{x})$ denota a la desviación estándar antes de aplicar esta transformación.\n",
        "\n",
        "* *Decoder*: Red *fully-connected* $K\\to10$. Considere que este decoder es determinístico.\n",
        "\n",
        "Para la Función de Costo considere $r(\\mathbf{z}) = \\mathcal{N}(\\mathbf{z};0,I)$ (es decir que requiere una expresión cerrada para el término de divergencia).\n",
        "\n",
        "**Hint**: Dado que el *decoder* es determinístico, puede usar la función de *Cross-Entropy* para el primer término, en forma astuta."
      ]
    },
    {
      "cell_type": "markdown",
      "metadata": {
        "id": "ZTt5S8A97Q1h",
        "colab_type": "text"
      },
      "source": [
        "ii) Implemente una clase $\\texttt{MLP}$ correspondiente a la arquitectura $784\\to1024\\to1024\\to K\\to10$ para un mismo valor de $K$ que en el caso de $\\texttt{DeepIB}$. Al ser un problema de clasificación puede entrenar con *Cross-Entropy*."
      ]
    },
    {
      "cell_type": "markdown",
      "metadata": {
        "id": "CC-h8bO67Q1k",
        "colab_type": "text"
      },
      "source": [
        "iii) Para $K=2$ y $\\beta \\in \\{10^{-3}, 10^{-1},1\\}$, entrene ambos modelos considerando un *loop* de entrenamiento similar al de la Cápsula 2, de tal modo que el *learning rate* del optimizador Adam decaiga en $97\\%$ cada $2$ épocas:\n",
        "\n",
        "$\\texttt{lr0 = 10e-4}$\n",
        "\n",
        "$\\texttt{beta1 = 0.5}$\n",
        "\n",
        "$\\texttt{beta2 = 0.999}$\n",
        "\n",
        "$\\texttt{lr_decay = 0.97}$\n",
        "\n",
        "$\\texttt{decay_rate = 2}$\n",
        "\n",
        "$\\texttt{nEpochs = 200}$"
      ]
    },
    {
      "cell_type": "markdown",
      "metadata": {
        "id": "ijBDAN7u7Q1p",
        "colab_type": "text"
      },
      "source": [
        "Como parámetro $L$ de muestreo para aplicar el *Reparametrization Trick* puede utilizar $L=12$. Si usa la función de Pytorch [$\\texttt{torch.nn.CrossEntropyLoss}$](https://pytorch.org/docs/master/generated/torch.nn.CrossEntropyLoss.html#torch.nn.CrossEntropyLoss) se recomienda revisar el efecto de usar $\\texttt{reduction='none'}$."
      ]
    },
    {
      "cell_type": "markdown",
      "metadata": {
        "id": "GTKVhNZa7Q1r",
        "colab_type": "text"
      },
      "source": [
        "Compare y analice la *accuracy* obtenida por los modelos estocásticos obtenidos entre sí y con el modelo $\\texttt{MLP}$ clásico.\n",
        "\n",
        "Además, para los modelos estocásticos, obtenga la proyección de los datos de prueba en el espacio latente $K$-dimensional y analice el efecto de $\\beta$ en este resultado."
      ]
    },
    {
      "cell_type": "code",
      "metadata": {
        "id": "k0URp_cl7Q1v",
        "colab_type": "code",
        "colab": {
          "base_uri": "https://localhost:8080/",
          "height": 35
        },
        "outputId": "2efabcb4-9d3c-4381-b9cb-7855f2fffcbc"
      },
      "source": [
        "#%tensorflow_version 1.x\n",
        "#%load_ext tensorboard\n",
        "\n",
        "%matplotlib inline\n",
        "import matplotlib.pyplot as plt\n",
        "import numpy as np\n",
        "\n",
        "import torch\n",
        "import torch.distributions as D\n",
        "import torch.nn as nn\n",
        "import torch.nn.functional as F\n",
        "\n",
        "import torchvision\n",
        "import torchvision.transforms as transforms\n",
        "import torchvision.datasets as datasets\n",
        "\n",
        "from copy import deepcopy\n",
        "from matplotlib import cm\n",
        "from mpl_toolkits import mplot3d\n",
        "from torch.utils.data import Dataset, DataLoader, Subset\n",
        "\n",
        "print(torch.__version__)"
      ],
      "execution_count": 1,
      "outputs": [
        {
          "output_type": "stream",
          "text": [
            "1.5.0+cu101\n"
          ],
          "name": "stdout"
        }
      ]
    },
    {
      "cell_type": "code",
      "metadata": {
        "id": "aYm0rdZ77Q1-",
        "colab_type": "code",
        "colab": {
          "base_uri": "https://localhost:8080/",
          "height": 365,
          "referenced_widgets": [
            "3ac2afc5f67d47ccaea745d05484ca45",
            "4d231b56483b49ec98df10b689f84809",
            "da8b14bc3d78478ea11c738c3d99ee77",
            "b9948552deef47ca95236cbdb8e3bb4c",
            "f441fe7363de46c8972cc963d15a95a5",
            "c37383402cc6496ea27ee0a4cfe053e4",
            "0b18c20c7b4149189c9fe099fe0df3e4",
            "0ee5a904ba8d4283a0bf8c119ca714cd",
            "85c1cc6ff617431196a6426983ec66c3",
            "ea9650b3f0de41a9b1395f5dc3b7a2eb",
            "52ce59dad9c345aba6d02d89ef321a17",
            "6a70444c54ca44789d4fd2ac897a7e25",
            "39694d1ec2d446318f5bd8528ce1afe1",
            "e6ad3d33186a4c06bdd021a25524bba0",
            "c9314ba88b974e4597d80a1e7a12f7fe",
            "85301f42fca148cba268a603b610be02",
            "672fb10c17b44ca9a996021764356d59",
            "1b5ca6471bd54672b87496c65da959aa",
            "a83887dda1ab4ba3acea606faab67894",
            "bde70aa2fb934cc0b4fadd118cc427b0",
            "1bf1e09761de47428e2e77c84edadcdd",
            "75ec599346ef422e88e5ec40a14be053",
            "bb100a9f7e714d0ebd1cae9452de4cf9",
            "4b74739dc9b54d669b43e21fdeca2b78",
            "54632497ccb0456590aaa3cc523bfa29",
            "c4e4825c1b284bd2bd06661c4f719e4a",
            "406894d1c8bd4329bf1fcd9ebbf1073a",
            "ba11f97c3e85424aa9c20c2aabf04f6f",
            "751698b4a8ce4befa5a83c0df957ec61",
            "9084b74dfd0f433fad540682165465fc",
            "862ee24899ee48d5ada8df0a8c0ed978",
            "ead7d574d5b242ad8088115080f41674"
          ]
        },
        "outputId": "b128e085-e34f-436e-8726-6c2db2315d09"
      },
      "source": [
        "## Batch Sizes\n",
        "train_batch_size = 100\n",
        "test_batch_size = 1000\n",
        "\n",
        "## Train-Val Split\n",
        "train_dataset_mnist = datasets.MNIST(root='./', train=True, download=True,\n",
        "                                     transform=transforms.Compose([\n",
        "                                         transforms.ToTensor()]))\n",
        "\n",
        "test_dataset_mnist = datasets.MNIST(root='./', train=False, \n",
        "                                    transform=transforms.Compose([\n",
        "                                        transforms.ToTensor()]))\n",
        "\n",
        "## DataLoaders\n",
        "train_loader_mnist = torch.utils.data.DataLoader(train_dataset_mnist,\n",
        "                                                 batch_size = train_batch_size)\n",
        "test_loader_mnist = torch.utils.data.DataLoader(test_dataset_mnist,\n",
        "                                                batch_size = test_batch_size)"
      ],
      "execution_count": 2,
      "outputs": [
        {
          "output_type": "stream",
          "text": [
            "Downloading http://yann.lecun.com/exdb/mnist/train-images-idx3-ubyte.gz to ./MNIST/raw/train-images-idx3-ubyte.gz\n"
          ],
          "name": "stdout"
        },
        {
          "output_type": "display_data",
          "data": {
            "application/vnd.jupyter.widget-view+json": {
              "model_id": "3ac2afc5f67d47ccaea745d05484ca45",
              "version_minor": 0,
              "version_major": 2
            },
            "text/plain": [
              "HBox(children=(FloatProgress(value=1.0, bar_style='info', max=1.0), HTML(value='')))"
            ]
          },
          "metadata": {
            "tags": []
          }
        },
        {
          "output_type": "stream",
          "text": [
            "Extracting ./MNIST/raw/train-images-idx3-ubyte.gz to ./MNIST/raw\n",
            "Downloading http://yann.lecun.com/exdb/mnist/train-labels-idx1-ubyte.gz to ./MNIST/raw/train-labels-idx1-ubyte.gz\n"
          ],
          "name": "stdout"
        },
        {
          "output_type": "display_data",
          "data": {
            "application/vnd.jupyter.widget-view+json": {
              "model_id": "85c1cc6ff617431196a6426983ec66c3",
              "version_minor": 0,
              "version_major": 2
            },
            "text/plain": [
              "HBox(children=(FloatProgress(value=1.0, bar_style='info', max=1.0), HTML(value='')))"
            ]
          },
          "metadata": {
            "tags": []
          }
        },
        {
          "output_type": "stream",
          "text": [
            "Extracting ./MNIST/raw/train-labels-idx1-ubyte.gz to ./MNIST/raw\n",
            "Downloading http://yann.lecun.com/exdb/mnist/t10k-images-idx3-ubyte.gz to ./MNIST/raw/t10k-images-idx3-ubyte.gz\n"
          ],
          "name": "stdout"
        },
        {
          "output_type": "display_data",
          "data": {
            "application/vnd.jupyter.widget-view+json": {
              "model_id": "672fb10c17b44ca9a996021764356d59",
              "version_minor": 0,
              "version_major": 2
            },
            "text/plain": [
              "HBox(children=(FloatProgress(value=1.0, bar_style='info', max=1.0), HTML(value='')))"
            ]
          },
          "metadata": {
            "tags": []
          }
        },
        {
          "output_type": "stream",
          "text": [
            "Extracting ./MNIST/raw/t10k-images-idx3-ubyte.gz to ./MNIST/raw\n",
            "Downloading http://yann.lecun.com/exdb/mnist/t10k-labels-idx1-ubyte.gz to ./MNIST/raw/t10k-labels-idx1-ubyte.gz\n"
          ],
          "name": "stdout"
        },
        {
          "output_type": "display_data",
          "data": {
            "application/vnd.jupyter.widget-view+json": {
              "model_id": "54632497ccb0456590aaa3cc523bfa29",
              "version_minor": 0,
              "version_major": 2
            },
            "text/plain": [
              "HBox(children=(FloatProgress(value=1.0, bar_style='info', max=1.0), HTML(value='')))"
            ]
          },
          "metadata": {
            "tags": []
          }
        },
        {
          "output_type": "stream",
          "text": [
            "Extracting ./MNIST/raw/t10k-labels-idx1-ubyte.gz to ./MNIST/raw\n",
            "Processing...\n",
            "Done!\n"
          ],
          "name": "stdout"
        },
        {
          "output_type": "stream",
          "text": [
            "/pytorch/torch/csrc/utils/tensor_numpy.cpp:141: UserWarning: The given NumPy array is not writeable, and PyTorch does not support non-writeable tensors. This means you can write to the underlying (supposedly non-writeable) NumPy array using the tensor. You may want to copy the array to protect its data or make it writeable before converting it to a tensor. This type of warning will be suppressed for the rest of this program.\n"
          ],
          "name": "stderr"
        }
      ]
    },
    {
      "cell_type": "code",
      "metadata": {
        "id": "1krnkYKE7Q2M",
        "colab_type": "code",
        "colab": {}
      },
      "source": [
        "lr0 = 10e-4\n",
        "beta1 = 0.5\n",
        "beta2 = 0.999\n",
        "lr_decay = 0.97\n",
        "decay_rate = 2\n",
        "nEpochs = 200"
      ],
      "execution_count": 0,
      "outputs": []
    },
    {
      "cell_type": "code",
      "metadata": {
        "id": "d9LbbDEgZgz_",
        "colab_type": "code",
        "colab": {}
      },
      "source": [
        "class VAE(nn.Module):\n",
        "  '''Variational Autoencoder model with Gaussian Encoder and Decoder'''\n",
        "  def __init__(self, zDim, sampling = 1):\n",
        "    super(VAE, self).__init__()\n",
        "    self.sampling = sampling\n",
        "    hDim = 1024\n",
        "\n",
        "    ## Encoder\n",
        "    self.fc1 = nn.Sequential(nn.Linear(784, hDim),\n",
        "                             nn.ReLU())             ## Nonlinear layer\n",
        "    self.fc2 = nn.Sequential(nn.Linear(hDim, hDim)),\n",
        "                             nn.ReLU())             ## Nonlinear layer\n",
        "    \n",
        "\n",
        "\n",
        "    self.encoder_mu = nn.Linear(hDim, zDim)         ## Encoder for mu\n",
        "    self.encoder_logvar = nn.Linear(hDim, zDim)     ## Encoder for log-variance                              \n",
        "\n",
        "    ## Decoder\n",
        "    self.fc3 = nn.Sequential(nn.Linear(2 * zDim, 10),\n",
        "                             nn.ReLU())         ## Nonlinear layer\n",
        "    \n",
        "    # self.decoder_mu = nn.Linear(hDim, 784)          ## Decoder for mu\n",
        "    # self.decoder_logvar = nn.Linear(hDim, 784)      ## Decoder for log-variance\n",
        "\n",
        "\n",
        "  def encode(self, x):\n",
        "    '''Make inferece of the latent variables Z for X'''\n",
        "    x = self.fc1(x)\n",
        "    x = self.fc2(x)\n",
        "    mu = self.encoder_mu(x)\n",
        "    sigma = self.encoder_sigma(x)\n",
        "    return mu, sigma\n",
        "\n",
        "  def reparametrize(self, mu, logvar):\n",
        "    '''Reparametrization is required for aproximating expectations during\n",
        "    training'''\n",
        "    # aplicar el ajuste a los sigmas\n",
        "    # se retorna la distribucion de z sobre x\n",
        "\n",
        "    L = self.sampling\n",
        "    sigma = torch.exp(0.5 * logvar)\n",
        "    if not self.training:\n",
        "      L = 1\n",
        "    epsilon = torch.randn(list(mu.shape)+[L]).cuda()\n",
        "    mu = mu.view(list(mu.shape)+[1])\n",
        "    sigma = sigma.view(list(sigma.shape)+[1])\n",
        "    z = mu + sigma * epsilon \n",
        "    z_ = z.permute(0,2,1)\n",
        "    return z_\n",
        "\n",
        "  def decode(self, z):\n",
        "    '''Reconstruct X from the latent space variables'''\n",
        "    z = self.fc3(z)\n",
        "    return z\n",
        "\n",
        "  def forward(self, x):\n",
        "    mu_z, sigma_z = self.encode(x)\n",
        "    z = self.reparametrize(mu_z, sigma_z)\n",
        "\n",
        "    y = self.decode(z)\n",
        "\n",
        "    return mu_z, sigma_z, z, y\n",
        "\n",
        "\n",
        "def fVAELoss(x, mu_z, sigma_z, mu_x, logvar_x, sampling = 1):\n",
        "  '''Caculate the loss for VAE with Gaussian Encoder and Decoder'''\n",
        "  K = x.shape[-1]           ## Get dimensionality of X (since it's flattened)\n",
        "  L = sampling              ## Number of samples to take for each value x\n",
        "  \n",
        "  var_z = torch.exp(0.5 * logvar_z)\n",
        "  var_x = torch.exp(0.5 * logvar_x)\n",
        "  \n",
        "  ## Sum over J\n",
        "  Jterm = 1 + torch.log(var_z) - (mu_z ** 2) - var_z\n",
        "  Jterm = 0.5 * Jterm.sum(axis = 1).reshape(-1)\n",
        "                       \n",
        "  ## Sum over K\n",
        "  Kterm = torch.log(var_x) + (((x.view([x.shape[0],1,x.shape[1]]) - mu_x) ** 2) / var_x)\n",
        "  Kterm = 0.5 * Kterm.sum(axis = 1)\n",
        "  \n",
        "  ## Sum over L\n",
        "  Kterm =  -0.5 * K * np.log(2 * np.pi) - Kterm\n",
        "  Lterm =  Kterm.sum(axis = -1) / L\n",
        "\n",
        "  ## Sum over M\n",
        "  Mterm = Lterm + Jterm\n",
        "  loss = Mterm.sum()\n",
        "\n",
        "  return loss"
      ],
      "execution_count": 0,
      "outputs": []
    },
    {
      "cell_type": "code",
      "metadata": {
        "id": "MaSuj2ZvafWo",
        "colab_type": "code",
        "colab": {}
      },
      "source": [
        "\n",
        "zDim = 50\n",
        "model = VAE(zDim = zDim, sampling = 50).cuda()\n",
        "\n",
        "optimizer = torch.optim.Adam(model.parameters(), lr0, (beta1, beta2))"
      ],
      "execution_count": 0,
      "outputs": []
    },
    {
      "cell_type": "code",
      "metadata": {
        "id": "ceLRK1GwZk2b",
        "colab_type": "code",
        "colab": {
          "base_uri": "https://localhost:8080/",
          "height": 1000
        },
        "outputId": "4f749af9-a2e6-413b-889b-e50012c6da10"
      },
      "source": [
        "print('Reference images:')\n",
        "img1 = test_loader_mnist.dataset[15][0].numpy()[0]\n",
        "img2 = test_loader_mnist.dataset[29][0].numpy()[0]\n",
        "img3 = test_loader_mnist.dataset[54][0].numpy()[0]\n",
        "img = np.hstack((img1, np.hstack((img2, img3))))\n",
        "plt.figure()\n",
        "plt.imshow(img,cmap=cm.gray)\n",
        "plt.show()\n",
        "print('Max value: {}, Min value: {}\\n'.format(np.amax(img), np.amin(img)))\n",
        "img1 = torch.from_numpy(img1).reshape(-1,1,784).cuda()\n",
        "img2 = torch.from_numpy(img2).reshape(-1,1,784).cuda()\n",
        "img3 = torch.from_numpy(img3).reshape(-1,1,784).cuda()\n",
        "\n",
        "model.train()\n",
        "for epoch in range(nEpochs):\n",
        "  for i, (x_b, y_b) in enumerate(train_loader_mnist):\n",
        "    x_b = x_b.reshape(train_batch_size, -1).cuda()\n",
        "    \n",
        "    optimizer.zero_grad()           ## No olvidar resetear los gradientes\n",
        "\n",
        "    mu_z, logvar_z, mu_x, logvar_x = model.forward(x_b)\n",
        "\n",
        "    #loss = -1 *  model.VAELoss(x_b, mu_z, logvar_z, mu_x, logvar_x)\n",
        "    loss = -1 *  fVAELoss(x_b, mu_z, logvar_z, mu_x, logvar_x, sampling = model.sampling)\n",
        "\n",
        "    loss.backward()\n",
        "\n",
        "    optimizer.step()\n",
        "\n",
        "    #print('Epoch : {} , Step : {}|| Loss : {:.3f}'.format(epoch + 1, i + 1, loss))\n",
        "\n",
        "  print('Epoch : {} || Loss : {:.3f}'.format(epoch + 1, loss))\n",
        "\n",
        "  if epoch % decay_rate == 1:\n",
        "    optimizer.param_groups[0]['lr'] *= lr_decay\n",
        "\n",
        "  if epoch % 10 == 0:\n",
        "    example = model.fc1[0].weight.grad\n",
        "    #print(model.fc1[0].weight.grad)\n",
        "    #print(model.encoder_mu.weight.grad)\n",
        "    #print(model.fc2[0].weight)\n",
        "    model.eval()\n",
        "    print('Reconstructions:')\n",
        "    c_img1 = img1.view(1,-1)\n",
        "    _, _, rec1, _ = model.forward(c_img1)\n",
        "    rec1 = rec1.cpu().detach().numpy().reshape(28,28)\n",
        "    c_img2 = img2.view(1,-1)\n",
        "    _, _, rec2, _ = model.forward(c_img2)\n",
        "    rec2 = rec2.cpu().detach().numpy().reshape(28,28)\n",
        "    c_img3 = img3.view(1,-1)\n",
        "    _, _, rec3, _ = model.forward(c_img3)\n",
        "    rec3 = rec3.cpu().detach().numpy().reshape(28,28)\n",
        "    img = np.hstack((rec1, np.hstack((rec2, rec3))))\n",
        "    plt.figure()\n",
        "    plt.imshow(img,cmap=cm.gray)\n",
        "    plt.show()\n",
        "    print('Max value: {}, Min value: {}\\n'.format(np.amax(img), np.amin(img)))\n",
        "    model.train()\n",
        "\n",
        "model.eval()\n",
        "print('Reconstructions:')\n",
        "c_img1 = img1.view(1,-1)\n",
        "_, _, rec1, _ = model.forward(c_img1)\n",
        "rec1 = rec1.cpu().detach().numpy().reshape(28,28)\n",
        "c_img2 = img2.view(1,-1)\n",
        "_, _, rec2, _ = model.forward(c_img2)\n",
        "rec2 = rec2.cpu().detach().numpy().reshape(28,28)\n",
        "c_img3 = img3.view(1,-1)\n",
        "_, _, rec3, _ = model.forward(c_img3)\n",
        "rec3 = rec3.cpu().detach().numpy().reshape(28,28)\n",
        "img = np.hstack((rec1, np.hstack((rec2, rec3))))\n",
        "plt.figure()\n",
        "plt.imshow(img,cmap=cm.gray)\n",
        "plt.show()\n",
        "print('Max value: {}, Min value: {}\\n'.format(np.amax(img), np.amin(img)))"
      ],
      "execution_count": 0,
      "outputs": [
        {
          "output_type": "stream",
          "text": [
            "Reference images:\n"
          ],
          "name": "stdout"
        },
        {
          "output_type": "display_data",
          "data": {
            "image/png": "[encoded data removed]",
            "text/plain": [
              "<Figure size 432x288 with 1 Axes>"
            ]
          },
          "metadata": {
            "tags": [],
            "needs_background": "light"
          }
        },
        {
          "output_type": "stream",
          "text": [
            "Max value: 1.0, Min value: 0.0\n",
            "\n",
            "Epoch : 1 || Loss : 1019485.375\n",
            "Reconstructions:\n"
          ],
          "name": "stdout"
        },
        {
          "output_type": "display_data",
          "data": {
            "image/png": "[encoded data removed]",
            "text/plain": [
              "<Figure size 432x288 with 1 Axes>"
            ]
          },
          "metadata": {
            "tags": [],
            "needs_background": "light"
          }
        },
        {
          "output_type": "stream",
          "text": [
            "Max value: 0.9607711434364319, Min value: -0.3270176351070404\n",
            "\n",
            "Epoch : 2 || Loss : 1052166.250\n",
            "Epoch : 3 || Loss : 1007122.875\n",
            "Epoch : 4 || Loss : 1111493.875\n",
            "Epoch : 5 || Loss : 984066.875\n",
            "Epoch : 6 || Loss : 970655.125\n",
            "Epoch : 7 || Loss : 976532.500\n",
            "Epoch : 8 || Loss : 957005.125\n",
            "Epoch : 9 || Loss : 953528.000\n",
            "Epoch : 10 || Loss : 945878.875\n",
            "Epoch : 11 || Loss : 948640.250\n",
            "Reconstructions:\n"
          ],
          "name": "stdout"
        },
        {
          "output_type": "display_data",
          "data": {
            "image/png": "[encoded data removed]",
            "text/plain": [
              "<Figure size 432x288 with 1 Axes>"
            ]
          },
          "metadata": {
            "tags": [],
            "needs_background": "light"
          }
        },
        {
          "output_type": "stream",
          "text": [
            "Max value: 1.0329153537750244, Min value: -0.11564560234546661\n",
            "\n",
            "Epoch : 12 || Loss : 956514.000\n",
            "Epoch : 13 || Loss : 977582.312\n",
            "Epoch : 14 || Loss : 971777.938\n",
            "Epoch : 15 || Loss : 915681.438\n",
            "Epoch : 16 || Loss : 968856.812\n",
            "Epoch : 17 || Loss : 982040.750\n",
            "Epoch : 18 || Loss : 914763.000\n",
            "Epoch : 19 || Loss : 1020426.125\n",
            "Epoch : 20 || Loss : 916404.875\n",
            "Epoch : 21 || Loss : 898781.125\n",
            "Reconstructions:\n"
          ],
          "name": "stdout"
        },
        {
          "output_type": "display_data",
          "data": {
            "image/png": "[encoded data removed]",
            "text/plain": [
              "<Figure size 432x288 with 1 Axes>"
            ]
          },
          "metadata": {
            "tags": [],
            "needs_background": "light"
          }
        },
        {
          "output_type": "stream",
          "text": [
            "Max value: 1.2017830610275269, Min value: -0.3081307113170624\n",
            "\n",
            "Epoch : 22 || Loss : 913968.875\n",
            "Epoch : 23 || Loss : 917009.500\n",
            "Epoch : 24 || Loss : 924057.250\n",
            "Epoch : 25 || Loss : 888543.000\n",
            "Epoch : 26 || Loss : 919176.125\n",
            "Epoch : 27 || Loss : 891316.562\n",
            "Epoch : 28 || Loss : 892605.062\n",
            "Epoch : 29 || Loss : 890001.250\n",
            "Epoch : 30 || Loss : 938255.000\n",
            "Epoch : 31 || Loss : 892482.500\n",
            "Reconstructions:\n"
          ],
          "name": "stdout"
        },
        {
          "output_type": "display_data",
          "data": {
            "image/png": "[encoded data removed]",
            "text/plain": [
              "<Figure size 432x288 with 1 Axes>"
            ]
          },
          "metadata": {
            "tags": [],
            "needs_background": "light"
          }
        },
        {
          "output_type": "stream",
          "text": [
            "Max value: 1.7490955591201782, Min value: -0.5103996396064758\n",
            "\n",
            "Epoch : 32 || Loss : 934467.000\n",
            "Epoch : 33 || Loss : 993945.500\n",
            "Epoch : 34 || Loss : 879736.250\n",
            "Epoch : 35 || Loss : 884404.625\n",
            "Epoch : 36 || Loss : 877972.812\n",
            "Epoch : 37 || Loss : 877123.625\n",
            "Epoch : 38 || Loss : 949394.250\n",
            "Epoch : 39 || Loss : 1082579.000\n",
            "Epoch : 40 || Loss : 904626.375\n",
            "Epoch : 41 || Loss : 862943.000\n",
            "Reconstructions:\n"
          ],
          "name": "stdout"
        },
        {
          "output_type": "display_data",
          "data": {
            "image/png": "[encoded data removed]",
            "text/plain": [
              "<Figure size 432x288 with 1 Axes>"
            ]
          },
          "metadata": {
            "tags": [],
            "needs_background": "light"
          }
        },
        {
          "output_type": "stream",
          "text": [
            "Max value: 1.1757594347000122, Min value: -0.2351149469614029\n",
            "\n",
            "Epoch : 42 || Loss : 863385.000\n",
            "Epoch : 43 || Loss : 862127.312\n",
            "Epoch : 44 || Loss : 892841.625\n",
            "Epoch : 45 || Loss : 892926.688\n",
            "Epoch : 46 || Loss : 863063.062\n",
            "Epoch : 47 || Loss : 1054227.500\n",
            "Epoch : 48 || Loss : 857171.000\n",
            "Epoch : 49 || Loss : 855275.625\n",
            "Epoch : 50 || Loss : 891491.688\n",
            "Epoch : 51 || Loss : 872377.312\n",
            "Reconstructions:\n"
          ],
          "name": "stdout"
        },
        {
          "output_type": "display_data",
          "data": {
            "image/png": "[encoded data removed]",
            "text/plain": [
              "<Figure size 432x288 with 1 Axes>"
            ]
          },
          "metadata": {
            "tags": [],
            "needs_background": "light"
          }
        },
        {
          "output_type": "stream",
          "text": [
            "Max value: 1.2991582155227661, Min value: -0.1792653501033783\n",
            "\n",
            "Epoch : 52 || Loss : 846573.438\n",
            "Epoch : 53 || Loss : 848487.938\n",
            "Epoch : 54 || Loss : 870617.250\n",
            "Epoch : 55 || Loss : 866494.875\n",
            "Epoch : 56 || Loss : 853987.875\n",
            "Epoch : 57 || Loss : 853279.562\n",
            "Epoch : 58 || Loss : 849667.500\n",
            "Epoch : 59 || Loss : 840338.250\n",
            "Epoch : 60 || Loss : 885145.000\n",
            "Epoch : 61 || Loss : 896779.375\n",
            "Reconstructions:\n"
          ],
          "name": "stdout"
        },
        {
          "output_type": "display_data",
          "data": {
            "image/png": "[encoded data removed]",
            "text/plain": [
              "<Figure size 432x288 with 1 Axes>"
            ]
          },
          "metadata": {
            "tags": [],
            "needs_background": "light"
          }
        },
        {
          "output_type": "stream",
          "text": [
            "Max value: 1.1984890699386597, Min value: -0.24705347418785095\n",
            "\n",
            "Epoch : 62 || Loss : 840122.062\n",
            "Epoch : 63 || Loss : 843107.250\n",
            "Epoch : 64 || Loss : 835281.812\n",
            "Epoch : 65 || Loss : 831824.750\n",
            "Epoch : 66 || Loss : 832910.812\n",
            "Epoch : 67 || Loss : 836199.625\n",
            "Epoch : 68 || Loss : 831685.312\n",
            "Epoch : 69 || Loss : 830341.312\n",
            "Epoch : 70 || Loss : 845210.625\n",
            "Epoch : 71 || Loss : 827907.500\n",
            "Reconstructions:\n"
          ],
          "name": "stdout"
        },
        {
          "output_type": "display_data",
          "data": {
            "image/png": "[encoded data removed]",
            "text/plain": [
              "<Figure size 432x288 with 1 Axes>"
            ]
          },
          "metadata": {
            "tags": [],
            "needs_background": "light"
          }
        },
        {
          "output_type": "stream",
          "text": [
            "Max value: 1.193582534790039, Min value: -0.19592992961406708\n",
            "\n",
            "Epoch : 72 || Loss : 851467.750\n",
            "Epoch : 73 || Loss : 835316.625\n",
            "Epoch : 74 || Loss : 826477.125\n",
            "Epoch : 75 || Loss : 839199.875\n",
            "Epoch : 76 || Loss : 818996.938\n",
            "Epoch : 77 || Loss : 828095.875\n",
            "Epoch : 78 || Loss : 886794.625\n",
            "Epoch : 79 || Loss : 819722.000\n",
            "Epoch : 80 || Loss : 823576.625\n",
            "Epoch : 81 || Loss : 818847.312\n",
            "Reconstructions:\n"
          ],
          "name": "stdout"
        },
        {
          "output_type": "display_data",
          "data": {
            "image/png": "[encoded data removed]",
            "text/plain": [
              "<Figure size 432x288 with 1 Axes>"
            ]
          },
          "metadata": {
            "tags": [],
            "needs_background": "light"
          }
        },
        {
          "output_type": "stream",
          "text": [
            "Max value: 1.1175330877304077, Min value: -0.19777970016002655\n",
            "\n",
            "Epoch : 82 || Loss : 824383.250\n",
            "Epoch : 83 || Loss : 862401.438\n",
            "Epoch : 84 || Loss : 828655.000\n",
            "Epoch : 85 || Loss : 825278.500\n",
            "Epoch : 86 || Loss : 874094.688\n",
            "Epoch : 87 || Loss : 821813.875\n",
            "Epoch : 88 || Loss : 814141.375\n",
            "Epoch : 89 || Loss : 923935.688\n",
            "Epoch : 90 || Loss : 812000.125\n",
            "Epoch : 91 || Loss : 819719.375\n",
            "Reconstructions:\n"
          ],
          "name": "stdout"
        },
        {
          "output_type": "display_data",
          "data": {
            "image/png": "[encoded data removed]",
            "text/plain": [
              "<Figure size 432x288 with 1 Axes>"
            ]
          },
          "metadata": {
            "tags": [],
            "needs_background": "light"
          }
        },
        {
          "output_type": "stream",
          "text": [
            "Max value: 1.0304652452468872, Min value: -0.2631964385509491\n",
            "\n",
            "Epoch : 92 || Loss : 848322.000\n",
            "Epoch : 93 || Loss : 839781.875\n",
            "Epoch : 94 || Loss : 808094.938\n",
            "Epoch : 95 || Loss : 812670.250\n",
            "Epoch : 96 || Loss : 811273.312\n",
            "Epoch : 97 || Loss : 824363.375\n",
            "Epoch : 98 || Loss : 955865.500\n",
            "Epoch : 99 || Loss : 802921.250\n",
            "Epoch : 100 || Loss : 816163.812\n",
            "Epoch : 101 || Loss : 907169.500\n",
            "Reconstructions:\n"
          ],
          "name": "stdout"
        },
        {
          "output_type": "display_data",
          "data": {
            "image/png": "[encoded data removed]",
            "text/plain": [
              "<Figure size 432x288 with 1 Axes>"
            ]
          },
          "metadata": {
            "tags": [],
            "needs_background": "light"
          }
        },
        {
          "output_type": "stream",
          "text": [
            "Max value: 1.1354697942733765, Min value: -0.25138965249061584\n",
            "\n",
            "Epoch : 102 || Loss : 806395.750\n",
            "Epoch : 103 || Loss : 800915.312\n",
            "Epoch : 104 || Loss : 825941.875\n",
            "Epoch : 105 || Loss : 789409.750\n",
            "Epoch : 106 || Loss : 789993.438\n",
            "Epoch : 107 || Loss : 805011.938\n",
            "Epoch : 108 || Loss : 799002.500\n"
          ],
          "name": "stdout"
        }
      ]
    },
    {
      "cell_type": "code",
      "metadata": {
        "id": "kHToYEtjZ-lU",
        "colab_type": "code",
        "colab": {}
      },
      "source": [
        ""
      ],
      "execution_count": 0,
      "outputs": []
    }
  ]
}