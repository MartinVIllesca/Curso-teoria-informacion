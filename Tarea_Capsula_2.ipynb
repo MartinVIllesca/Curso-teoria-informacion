{
  "nbformat": 4,
  "nbformat_minor": 0,
  "metadata": {
    "kernelspec": {
      "display_name": "Python 3",
      "language": "python",
      "name": "python3"
    },
    "language_info": {
      "codemirror_mode": {
        "name": "ipython",
        "version": 3
      },
      "file_extension": ".py",
      "mimetype": "text/x-python",
      "name": "python",
      "nbconvert_exporter": "python",
      "pygments_lexer": "ipython3",
      "version": "3.7.4"
    },
    "colab": {
      "name": "Tarea_Capsula_2.ipynb",
      "provenance": [],
      "include_colab_link": true
    },
    "accelerator": "GPU",
    "widgets": {
      "application/vnd.jupyter.widget-state+json": {
        "e36fddc87b404031a35dfeaaf67dd697": {
          "model_module": "@jupyter-widgets/controls",
          "model_name": "HBoxModel",
          "state": {
            "_view_name": "HBoxView",
            "_dom_classes": [],
            "_model_name": "HBoxModel",
            "_view_module": "@jupyter-widgets/controls",
            "_model_module_version": "1.5.0",
            "_view_count": null,
            "_view_module_version": "1.5.0",
            "box_style": "",
            "layout": "IPY_MODEL_e127fc67146842c1b897638487842164",
            "_model_module": "@jupyter-widgets/controls",
            "children": [
              "IPY_MODEL_3272603e7d114bae90f076cc13f6a75d",
              "IPY_MODEL_2f052e354d2348afa5010da981445df0"
            ]
          }
        },
        "e127fc67146842c1b897638487842164": {
          "model_module": "@jupyter-widgets/base",
          "model_name": "LayoutModel",
          "state": {
            "_view_name": "LayoutView",
            "grid_template_rows": null,
            "right": null,
            "justify_content": null,
            "_view_module": "@jupyter-widgets/base",
            "overflow": null,
            "_model_module_version": "1.2.0",
            "_view_count": null,
            "flex_flow": null,
            "width": null,
            "min_width": null,
            "border": null,
            "align_items": null,
            "bottom": null,
            "_model_module": "@jupyter-widgets/base",
            "top": null,
            "grid_column": null,
            "overflow_y": null,
            "overflow_x": null,
            "grid_auto_flow": null,
            "grid_area": null,
            "grid_template_columns": null,
            "flex": null,
            "_model_name": "LayoutModel",
            "justify_items": null,
            "grid_row": null,
            "max_height": null,
            "align_content": null,
            "visibility": null,
            "align_self": null,
            "height": null,
            "min_height": null,
            "padding": null,
            "grid_auto_rows": null,
            "grid_gap": null,
            "max_width": null,
            "order": null,
            "_view_module_version": "1.2.0",
            "grid_template_areas": null,
            "object_position": null,
            "object_fit": null,
            "grid_auto_columns": null,
            "margin": null,
            "display": null,
            "left": null
          }
        },
        "3272603e7d114bae90f076cc13f6a75d": {
          "model_module": "@jupyter-widgets/controls",
          "model_name": "FloatProgressModel",
          "state": {
            "_view_name": "ProgressView",
            "style": "IPY_MODEL_589be4d09a3d470cb27d1284eb160f50",
            "_dom_classes": [],
            "description": "",
            "_model_name": "FloatProgressModel",
            "bar_style": "info",
            "max": 1,
            "_view_module": "@jupyter-widgets/controls",
            "_model_module_version": "1.5.0",
            "value": 1,
            "_view_count": null,
            "_view_module_version": "1.5.0",
            "orientation": "horizontal",
            "min": 0,
            "description_tooltip": null,
            "_model_module": "@jupyter-widgets/controls",
            "layout": "IPY_MODEL_878aff44afb743b5a53a6be30e622ecf"
          }
        },
        "2f052e354d2348afa5010da981445df0": {
          "model_module": "@jupyter-widgets/controls",
          "model_name": "HTMLModel",
          "state": {
            "_view_name": "HTMLView",
            "style": "IPY_MODEL_6c27cb856e044440839a3ffe70ea1226",
            "_dom_classes": [],
            "description": "",
            "_model_name": "HTMLModel",
            "placeholder": "​",
            "_view_module": "@jupyter-widgets/controls",
            "_model_module_version": "1.5.0",
            "value": " 9920512/? [00:20&lt;00:00, 719488.06it/s]",
            "_view_count": null,
            "_view_module_version": "1.5.0",
            "description_tooltip": null,
            "_model_module": "@jupyter-widgets/controls",
            "layout": "IPY_MODEL_ff01631078fa4c18b4b15be1049648e3"
          }
        },
        "589be4d09a3d470cb27d1284eb160f50": {
          "model_module": "@jupyter-widgets/controls",
          "model_name": "ProgressStyleModel",
          "state": {
            "_view_name": "StyleView",
            "_model_name": "ProgressStyleModel",
            "description_width": "initial",
            "_view_module": "@jupyter-widgets/base",
            "_model_module_version": "1.5.0",
            "_view_count": null,
            "_view_module_version": "1.2.0",
            "bar_color": null,
            "_model_module": "@jupyter-widgets/controls"
          }
        },
        "878aff44afb743b5a53a6be30e622ecf": {
          "model_module": "@jupyter-widgets/base",
          "model_name": "LayoutModel",
          "state": {
            "_view_name": "LayoutView",
            "grid_template_rows": null,
            "right": null,
            "justify_content": null,
            "_view_module": "@jupyter-widgets/base",
            "overflow": null,
            "_model_module_version": "1.2.0",
            "_view_count": null,
            "flex_flow": null,
            "width": null,
            "min_width": null,
            "border": null,
            "align_items": null,
            "bottom": null,
            "_model_module": "@jupyter-widgets/base",
            "top": null,
            "grid_column": null,
            "overflow_y": null,
            "overflow_x": null,
            "grid_auto_flow": null,
            "grid_area": null,
            "grid_template_columns": null,
            "flex": null,
            "_model_name": "LayoutModel",
            "justify_items": null,
            "grid_row": null,
            "max_height": null,
            "align_content": null,
            "visibility": null,
            "align_self": null,
            "height": null,
            "min_height": null,
            "padding": null,
            "grid_auto_rows": null,
            "grid_gap": null,
            "max_width": null,
            "order": null,
            "_view_module_version": "1.2.0",
            "grid_template_areas": null,
            "object_position": null,
            "object_fit": null,
            "grid_auto_columns": null,
            "margin": null,
            "display": null,
            "left": null
          }
        },
        "6c27cb856e044440839a3ffe70ea1226": {
          "model_module": "@jupyter-widgets/controls",
          "model_name": "DescriptionStyleModel",
          "state": {
            "_view_name": "StyleView",
            "_model_name": "DescriptionStyleModel",
            "description_width": "",
            "_view_module": "@jupyter-widgets/base",
            "_model_module_version": "1.5.0",
            "_view_count": null,
            "_view_module_version": "1.2.0",
            "_model_module": "@jupyter-widgets/controls"
          }
        },
        "ff01631078fa4c18b4b15be1049648e3": {
          "model_module": "@jupyter-widgets/base",
          "model_name": "LayoutModel",
          "state": {
            "_view_name": "LayoutView",
            "grid_template_rows": null,
            "right": null,
            "justify_content": null,
            "_view_module": "@jupyter-widgets/base",
            "overflow": null,
            "_model_module_version": "1.2.0",
            "_view_count": null,
            "flex_flow": null,
            "width": null,
            "min_width": null,
            "border": null,
            "align_items": null,
            "bottom": null,
            "_model_module": "@jupyter-widgets/base",
            "top": null,
            "grid_column": null,
            "overflow_y": null,
            "overflow_x": null,
            "grid_auto_flow": null,
            "grid_area": null,
            "grid_template_columns": null,
            "flex": null,
            "_model_name": "LayoutModel",
            "justify_items": null,
            "grid_row": null,
            "max_height": null,
            "align_content": null,
            "visibility": null,
            "align_self": null,
            "height": null,
            "min_height": null,
            "padding": null,
            "grid_auto_rows": null,
            "grid_gap": null,
            "max_width": null,
            "order": null,
            "_view_module_version": "1.2.0",
            "grid_template_areas": null,
            "object_position": null,
            "object_fit": null,
            "grid_auto_columns": null,
            "margin": null,
            "display": null,
            "left": null
          }
        },
        "d914d48149a841359f53dc25ff0aed14": {
          "model_module": "@jupyter-widgets/controls",
          "model_name": "HBoxModel",
          "state": {
            "_view_name": "HBoxView",
            "_dom_classes": [],
            "_model_name": "HBoxModel",
            "_view_module": "@jupyter-widgets/controls",
            "_model_module_version": "1.5.0",
            "_view_count": null,
            "_view_module_version": "1.5.0",
            "box_style": "",
            "layout": "IPY_MODEL_3c732a8f1e2447eeb7e21749a1558d2d",
            "_model_module": "@jupyter-widgets/controls",
            "children": [
              "IPY_MODEL_809c6770f73c4e9cb83b50d54d41b1ca",
              "IPY_MODEL_68cb5cb658814f01a9c23f32f8ff8bbc"
            ]
          }
        },
        "3c732a8f1e2447eeb7e21749a1558d2d": {
          "model_module": "@jupyter-widgets/base",
          "model_name": "LayoutModel",
          "state": {
            "_view_name": "LayoutView",
            "grid_template_rows": null,
            "right": null,
            "justify_content": null,
            "_view_module": "@jupyter-widgets/base",
            "overflow": null,
            "_model_module_version": "1.2.0",
            "_view_count": null,
            "flex_flow": null,
            "width": null,
            "min_width": null,
            "border": null,
            "align_items": null,
            "bottom": null,
            "_model_module": "@jupyter-widgets/base",
            "top": null,
            "grid_column": null,
            "overflow_y": null,
            "overflow_x": null,
            "grid_auto_flow": null,
            "grid_area": null,
            "grid_template_columns": null,
            "flex": null,
            "_model_name": "LayoutModel",
            "justify_items": null,
            "grid_row": null,
            "max_height": null,
            "align_content": null,
            "visibility": null,
            "align_self": null,
            "height": null,
            "min_height": null,
            "padding": null,
            "grid_auto_rows": null,
            "grid_gap": null,
            "max_width": null,
            "order": null,
            "_view_module_version": "1.2.0",
            "grid_template_areas": null,
            "object_position": null,
            "object_fit": null,
            "grid_auto_columns": null,
            "margin": null,
            "display": null,
            "left": null
          }
        },
        "809c6770f73c4e9cb83b50d54d41b1ca": {
          "model_module": "@jupyter-widgets/controls",
          "model_name": "FloatProgressModel",
          "state": {
            "_view_name": "ProgressView",
            "style": "IPY_MODEL_a00475ae8315440aa95c52144070bfa8",
            "_dom_classes": [],
            "description": "  0%",
            "_model_name": "FloatProgressModel",
            "bar_style": "info",
            "max": 1,
            "_view_module": "@jupyter-widgets/controls",
            "_model_module_version": "1.5.0",
            "value": 0,
            "_view_count": null,
            "_view_module_version": "1.5.0",
            "orientation": "horizontal",
            "min": 0,
            "description_tooltip": null,
            "_model_module": "@jupyter-widgets/controls",
            "layout": "IPY_MODEL_78ee7e9678f543b8864068ec43d354da"
          }
        },
        "68cb5cb658814f01a9c23f32f8ff8bbc": {
          "model_module": "@jupyter-widgets/controls",
          "model_name": "HTMLModel",
          "state": {
            "_view_name": "HTMLView",
            "style": "IPY_MODEL_e4d12c4ae7234be29fa229d0412d9966",
            "_dom_classes": [],
            "description": "",
            "_model_name": "HTMLModel",
            "placeholder": "​",
            "_view_module": "@jupyter-widgets/controls",
            "_model_module_version": "1.5.0",
            "value": " 0/28881 [00:00&lt;?, ?it/s]",
            "_view_count": null,
            "_view_module_version": "1.5.0",
            "description_tooltip": null,
            "_model_module": "@jupyter-widgets/controls",
            "layout": "IPY_MODEL_ae643c3718b642a882c6780cbf6ed24c"
          }
        },
        "a00475ae8315440aa95c52144070bfa8": {
          "model_module": "@jupyter-widgets/controls",
          "model_name": "ProgressStyleModel",
          "state": {
            "_view_name": "StyleView",
            "_model_name": "ProgressStyleModel",
            "description_width": "initial",
            "_view_module": "@jupyter-widgets/base",
            "_model_module_version": "1.5.0",
            "_view_count": null,
            "_view_module_version": "1.2.0",
            "bar_color": null,
            "_model_module": "@jupyter-widgets/controls"
          }
        },
        "78ee7e9678f543b8864068ec43d354da": {
          "model_module": "@jupyter-widgets/base",
          "model_name": "LayoutModel",
          "state": {
            "_view_name": "LayoutView",
            "grid_template_rows": null,
            "right": null,
            "justify_content": null,
            "_view_module": "@jupyter-widgets/base",
            "overflow": null,
            "_model_module_version": "1.2.0",
            "_view_count": null,
            "flex_flow": null,
            "width": null,
            "min_width": null,
            "border": null,
            "align_items": null,
            "bottom": null,
            "_model_module": "@jupyter-widgets/base",
            "top": null,
            "grid_column": null,
            "overflow_y": null,
            "overflow_x": null,
            "grid_auto_flow": null,
            "grid_area": null,
            "grid_template_columns": null,
            "flex": null,
            "_model_name": "LayoutModel",
            "justify_items": null,
            "grid_row": null,
            "max_height": null,
            "align_content": null,
            "visibility": null,
            "align_self": null,
            "height": null,
            "min_height": null,
            "padding": null,
            "grid_auto_rows": null,
            "grid_gap": null,
            "max_width": null,
            "order": null,
            "_view_module_version": "1.2.0",
            "grid_template_areas": null,
            "object_position": null,
            "object_fit": null,
            "grid_auto_columns": null,
            "margin": null,
            "display": null,
            "left": null
          }
        },
        "e4d12c4ae7234be29fa229d0412d9966": {
          "model_module": "@jupyter-widgets/controls",
          "model_name": "DescriptionStyleModel",
          "state": {
            "_view_name": "StyleView",
            "_model_name": "DescriptionStyleModel",
            "description_width": "",
            "_view_module": "@jupyter-widgets/base",
            "_model_module_version": "1.5.0",
            "_view_count": null,
            "_view_module_version": "1.2.0",
            "_model_module": "@jupyter-widgets/controls"
          }
        },
        "ae643c3718b642a882c6780cbf6ed24c": {
          "model_module": "@jupyter-widgets/base",
          "model_name": "LayoutModel",
          "state": {
            "_view_name": "LayoutView",
            "grid_template_rows": null,
            "right": null,
            "justify_content": null,
            "_view_module": "@jupyter-widgets/base",
            "overflow": null,
            "_model_module_version": "1.2.0",
            "_view_count": null,
            "flex_flow": null,
            "width": null,
            "min_width": null,
            "border": null,
            "align_items": null,
            "bottom": null,
            "_model_module": "@jupyter-widgets/base",
            "top": null,
            "grid_column": null,
            "overflow_y": null,
            "overflow_x": null,
            "grid_auto_flow": null,
            "grid_area": null,
            "grid_template_columns": null,
            "flex": null,
            "_model_name": "LayoutModel",
            "justify_items": null,
            "grid_row": null,
            "max_height": null,
            "align_content": null,
            "visibility": null,
            "align_self": null,
            "height": null,
            "min_height": null,
            "padding": null,
            "grid_auto_rows": null,
            "grid_gap": null,
            "max_width": null,
            "order": null,
            "_view_module_version": "1.2.0",
            "grid_template_areas": null,
            "object_position": null,
            "object_fit": null,
            "grid_auto_columns": null,
            "margin": null,
            "display": null,
            "left": null
          }
        },
        "63d98e8e39ee467c8bbb614a053c72b7": {
          "model_module": "@jupyter-widgets/controls",
          "model_name": "HBoxModel",
          "state": {
            "_view_name": "HBoxView",
            "_dom_classes": [],
            "_model_name": "HBoxModel",
            "_view_module": "@jupyter-widgets/controls",
            "_model_module_version": "1.5.0",
            "_view_count": null,
            "_view_module_version": "1.5.0",
            "box_style": "",
            "layout": "IPY_MODEL_a4ad715af3da4266a5943f5ab8c036f6",
            "_model_module": "@jupyter-widgets/controls",
            "children": [
              "IPY_MODEL_dcbfba61d1874963a7053b3f185aaf93",
              "IPY_MODEL_dab071dc9f0b4a52a999a0acbcc27588"
            ]
          }
        },
        "a4ad715af3da4266a5943f5ab8c036f6": {
          "model_module": "@jupyter-widgets/base",
          "model_name": "LayoutModel",
          "state": {
            "_view_name": "LayoutView",
            "grid_template_rows": null,
            "right": null,
            "justify_content": null,
            "_view_module": "@jupyter-widgets/base",
            "overflow": null,
            "_model_module_version": "1.2.0",
            "_view_count": null,
            "flex_flow": null,
            "width": null,
            "min_width": null,
            "border": null,
            "align_items": null,
            "bottom": null,
            "_model_module": "@jupyter-widgets/base",
            "top": null,
            "grid_column": null,
            "overflow_y": null,
            "overflow_x": null,
            "grid_auto_flow": null,
            "grid_area": null,
            "grid_template_columns": null,
            "flex": null,
            "_model_name": "LayoutModel",
            "justify_items": null,
            "grid_row": null,
            "max_height": null,
            "align_content": null,
            "visibility": null,
            "align_self": null,
            "height": null,
            "min_height": null,
            "padding": null,
            "grid_auto_rows": null,
            "grid_gap": null,
            "max_width": null,
            "order": null,
            "_view_module_version": "1.2.0",
            "grid_template_areas": null,
            "object_position": null,
            "object_fit": null,
            "grid_auto_columns": null,
            "margin": null,
            "display": null,
            "left": null
          }
        },
        "dcbfba61d1874963a7053b3f185aaf93": {
          "model_module": "@jupyter-widgets/controls",
          "model_name": "FloatProgressModel",
          "state": {
            "_view_name": "ProgressView",
            "style": "IPY_MODEL_b22372c94ac94c439be4efc54d0d642c",
            "_dom_classes": [],
            "description": "",
            "_model_name": "FloatProgressModel",
            "bar_style": "success",
            "max": 1,
            "_view_module": "@jupyter-widgets/controls",
            "_model_module_version": "1.5.0",
            "value": 1,
            "_view_count": null,
            "_view_module_version": "1.5.0",
            "orientation": "horizontal",
            "min": 0,
            "description_tooltip": null,
            "_model_module": "@jupyter-widgets/controls",
            "layout": "IPY_MODEL_fc75470dc1d54857ad38541cc7059ce7"
          }
        },
        "dab071dc9f0b4a52a999a0acbcc27588": {
          "model_module": "@jupyter-widgets/controls",
          "model_name": "HTMLModel",
          "state": {
            "_view_name": "HTMLView",
            "style": "IPY_MODEL_70f09cfba8cd462aa71a382f117f6129",
            "_dom_classes": [],
            "description": "",
            "_model_name": "HTMLModel",
            "placeholder": "​",
            "_view_module": "@jupyter-widgets/controls",
            "_model_module_version": "1.5.0",
            "value": " 1654784/? [00:01&lt;00:00, 1308460.73it/s]",
            "_view_count": null,
            "_view_module_version": "1.5.0",
            "description_tooltip": null,
            "_model_module": "@jupyter-widgets/controls",
            "layout": "IPY_MODEL_33e628c28d064b73a6d1153a4072c84c"
          }
        },
        "b22372c94ac94c439be4efc54d0d642c": {
          "model_module": "@jupyter-widgets/controls",
          "model_name": "ProgressStyleModel",
          "state": {
            "_view_name": "StyleView",
            "_model_name": "ProgressStyleModel",
            "description_width": "initial",
            "_view_module": "@jupyter-widgets/base",
            "_model_module_version": "1.5.0",
            "_view_count": null,
            "_view_module_version": "1.2.0",
            "bar_color": null,
            "_model_module": "@jupyter-widgets/controls"
          }
        },
        "fc75470dc1d54857ad38541cc7059ce7": {
          "model_module": "@jupyter-widgets/base",
          "model_name": "LayoutModel",
          "state": {
            "_view_name": "LayoutView",
            "grid_template_rows": null,
            "right": null,
            "justify_content": null,
            "_view_module": "@jupyter-widgets/base",
            "overflow": null,
            "_model_module_version": "1.2.0",
            "_view_count": null,
            "flex_flow": null,
            "width": null,
            "min_width": null,
            "border": null,
            "align_items": null,
            "bottom": null,
            "_model_module": "@jupyter-widgets/base",
            "top": null,
            "grid_column": null,
            "overflow_y": null,
            "overflow_x": null,
            "grid_auto_flow": null,
            "grid_area": null,
            "grid_template_columns": null,
            "flex": null,
            "_model_name": "LayoutModel",
            "justify_items": null,
            "grid_row": null,
            "max_height": null,
            "align_content": null,
            "visibility": null,
            "align_self": null,
            "height": null,
            "min_height": null,
            "padding": null,
            "grid_auto_rows": null,
            "grid_gap": null,
            "max_width": null,
            "order": null,
            "_view_module_version": "1.2.0",
            "grid_template_areas": null,
            "object_position": null,
            "object_fit": null,
            "grid_auto_columns": null,
            "margin": null,
            "display": null,
            "left": null
          }
        },
        "70f09cfba8cd462aa71a382f117f6129": {
          "model_module": "@jupyter-widgets/controls",
          "model_name": "DescriptionStyleModel",
          "state": {
            "_view_name": "StyleView",
            "_model_name": "DescriptionStyleModel",
            "description_width": "",
            "_view_module": "@jupyter-widgets/base",
            "_model_module_version": "1.5.0",
            "_view_count": null,
            "_view_module_version": "1.2.0",
            "_model_module": "@jupyter-widgets/controls"
          }
        },
        "33e628c28d064b73a6d1153a4072c84c": {
          "model_module": "@jupyter-widgets/base",
          "model_name": "LayoutModel",
          "state": {
            "_view_name": "LayoutView",
            "grid_template_rows": null,
            "right": null,
            "justify_content": null,
            "_view_module": "@jupyter-widgets/base",
            "overflow": null,
            "_model_module_version": "1.2.0",
            "_view_count": null,
            "flex_flow": null,
            "width": null,
            "min_width": null,
            "border": null,
            "align_items": null,
            "bottom": null,
            "_model_module": "@jupyter-widgets/base",
            "top": null,
            "grid_column": null,
            "overflow_y": null,
            "overflow_x": null,
            "grid_auto_flow": null,
            "grid_area": null,
            "grid_template_columns": null,
            "flex": null,
            "_model_name": "LayoutModel",
            "justify_items": null,
            "grid_row": null,
            "max_height": null,
            "align_content": null,
            "visibility": null,
            "align_self": null,
            "height": null,
            "min_height": null,
            "padding": null,
            "grid_auto_rows": null,
            "grid_gap": null,
            "max_width": null,
            "order": null,
            "_view_module_version": "1.2.0",
            "grid_template_areas": null,
            "object_position": null,
            "object_fit": null,
            "grid_auto_columns": null,
            "margin": null,
            "display": null,
            "left": null
          }
        },
        "3ef6987857bb42818e75ffaab55ba9dc": {
          "model_module": "@jupyter-widgets/controls",
          "model_name": "HBoxModel",
          "state": {
            "_view_name": "HBoxView",
            "_dom_classes": [],
            "_model_name": "HBoxModel",
            "_view_module": "@jupyter-widgets/controls",
            "_model_module_version": "1.5.0",
            "_view_count": null,
            "_view_module_version": "1.5.0",
            "box_style": "",
            "layout": "IPY_MODEL_0cc7048e29a042a5bb2e3a558e11ccdd",
            "_model_module": "@jupyter-widgets/controls",
            "children": [
              "IPY_MODEL_b98b07643ddd48408fc8c49aa2b4062b",
              "IPY_MODEL_edcacfae4bf0457a80c91490a3d08a43"
            ]
          }
        },
        "0cc7048e29a042a5bb2e3a558e11ccdd": {
          "model_module": "@jupyter-widgets/base",
          "model_name": "LayoutModel",
          "state": {
            "_view_name": "LayoutView",
            "grid_template_rows": null,
            "right": null,
            "justify_content": null,
            "_view_module": "@jupyter-widgets/base",
            "overflow": null,
            "_model_module_version": "1.2.0",
            "_view_count": null,
            "flex_flow": null,
            "width": null,
            "min_width": null,
            "border": null,
            "align_items": null,
            "bottom": null,
            "_model_module": "@jupyter-widgets/base",
            "top": null,
            "grid_column": null,
            "overflow_y": null,
            "overflow_x": null,
            "grid_auto_flow": null,
            "grid_area": null,
            "grid_template_columns": null,
            "flex": null,
            "_model_name": "LayoutModel",
            "justify_items": null,
            "grid_row": null,
            "max_height": null,
            "align_content": null,
            "visibility": null,
            "align_self": null,
            "height": null,
            "min_height": null,
            "padding": null,
            "grid_auto_rows": null,
            "grid_gap": null,
            "max_width": null,
            "order": null,
            "_view_module_version": "1.2.0",
            "grid_template_areas": null,
            "object_position": null,
            "object_fit": null,
            "grid_auto_columns": null,
            "margin": null,
            "display": null,
            "left": null
          }
        },
        "b98b07643ddd48408fc8c49aa2b4062b": {
          "model_module": "@jupyter-widgets/controls",
          "model_name": "FloatProgressModel",
          "state": {
            "_view_name": "ProgressView",
            "style": "IPY_MODEL_41f3c5def1704ff3b145e68f94936d92",
            "_dom_classes": [],
            "description": "",
            "_model_name": "FloatProgressModel",
            "bar_style": "success",
            "max": 1,
            "_view_module": "@jupyter-widgets/controls",
            "_model_module_version": "1.5.0",
            "value": 1,
            "_view_count": null,
            "_view_module_version": "1.5.0",
            "orientation": "horizontal",
            "min": 0,
            "description_tooltip": null,
            "_model_module": "@jupyter-widgets/controls",
            "layout": "IPY_MODEL_36f97a9210a74a86b9b844d4c78b0691"
          }
        },
        "edcacfae4bf0457a80c91490a3d08a43": {
          "model_module": "@jupyter-widgets/controls",
          "model_name": "HTMLModel",
          "state": {
            "_view_name": "HTMLView",
            "style": "IPY_MODEL_40986d7e77b9472fa9ec42bcfb2e0682",
            "_dom_classes": [],
            "description": "",
            "_model_name": "HTMLModel",
            "placeholder": "​",
            "_view_module": "@jupyter-widgets/controls",
            "_model_module_version": "1.5.0",
            "value": " 8192/? [00:00&lt;00:00, 18780.36it/s]",
            "_view_count": null,
            "_view_module_version": "1.5.0",
            "description_tooltip": null,
            "_model_module": "@jupyter-widgets/controls",
            "layout": "IPY_MODEL_bd9d1435092c4aa5b632f5b0d2baadb8"
          }
        },
        "41f3c5def1704ff3b145e68f94936d92": {
          "model_module": "@jupyter-widgets/controls",
          "model_name": "ProgressStyleModel",
          "state": {
            "_view_name": "StyleView",
            "_model_name": "ProgressStyleModel",
            "description_width": "initial",
            "_view_module": "@jupyter-widgets/base",
            "_model_module_version": "1.5.0",
            "_view_count": null,
            "_view_module_version": "1.2.0",
            "bar_color": null,
            "_model_module": "@jupyter-widgets/controls"
          }
        },
        "36f97a9210a74a86b9b844d4c78b0691": {
          "model_module": "@jupyter-widgets/base",
          "model_name": "LayoutModel",
          "state": {
            "_view_name": "LayoutView",
            "grid_template_rows": null,
            "right": null,
            "justify_content": null,
            "_view_module": "@jupyter-widgets/base",
            "overflow": null,
            "_model_module_version": "1.2.0",
            "_view_count": null,
            "flex_flow": null,
            "width": null,
            "min_width": null,
            "border": null,
            "align_items": null,
            "bottom": null,
            "_model_module": "@jupyter-widgets/base",
            "top": null,
            "grid_column": null,
            "overflow_y": null,
            "overflow_x": null,
            "grid_auto_flow": null,
            "grid_area": null,
            "grid_template_columns": null,
            "flex": null,
            "_model_name": "LayoutModel",
            "justify_items": null,
            "grid_row": null,
            "max_height": null,
            "align_content": null,
            "visibility": null,
            "align_self": null,
            "height": null,
            "min_height": null,
            "padding": null,
            "grid_auto_rows": null,
            "grid_gap": null,
            "max_width": null,
            "order": null,
            "_view_module_version": "1.2.0",
            "grid_template_areas": null,
            "object_position": null,
            "object_fit": null,
            "grid_auto_columns": null,
            "margin": null,
            "display": null,
            "left": null
          }
        },
        "40986d7e77b9472fa9ec42bcfb2e0682": {
          "model_module": "@jupyter-widgets/controls",
          "model_name": "DescriptionStyleModel",
          "state": {
            "_view_name": "StyleView",
            "_model_name": "DescriptionStyleModel",
            "description_width": "",
            "_view_module": "@jupyter-widgets/base",
            "_model_module_version": "1.5.0",
            "_view_count": null,
            "_view_module_version": "1.2.0",
            "_model_module": "@jupyter-widgets/controls"
          }
        },
        "bd9d1435092c4aa5b632f5b0d2baadb8": {
          "model_module": "@jupyter-widgets/base",
          "model_name": "LayoutModel",
          "state": {
            "_view_name": "LayoutView",
            "grid_template_rows": null,
            "right": null,
            "justify_content": null,
            "_view_module": "@jupyter-widgets/base",
            "overflow": null,
            "_model_module_version": "1.2.0",
            "_view_count": null,
            "flex_flow": null,
            "width": null,
            "min_width": null,
            "border": null,
            "align_items": null,
            "bottom": null,
            "_model_module": "@jupyter-widgets/base",
            "top": null,
            "grid_column": null,
            "overflow_y": null,
            "overflow_x": null,
            "grid_auto_flow": null,
            "grid_area": null,
            "grid_template_columns": null,
            "flex": null,
            "_model_name": "LayoutModel",
            "justify_items": null,
            "grid_row": null,
            "max_height": null,
            "align_content": null,
            "visibility": null,
            "align_self": null,
            "height": null,
            "min_height": null,
            "padding": null,
            "grid_auto_rows": null,
            "grid_gap": null,
            "max_width": null,
            "order": null,
            "_view_module_version": "1.2.0",
            "grid_template_areas": null,
            "object_position": null,
            "object_fit": null,
            "grid_auto_columns": null,
            "margin": null,
            "display": null,
            "left": null
          }
        }
      }
    }
  },
  "cells": [
    {
      "cell_type": "markdown",
      "metadata": {
        "id": "view-in-github",
        "colab_type": "text"
      },
      "source": [
        "<a href=\"https://colab.research.google.com/github/MartinVIllesca/Curso-teoria-informacion/blob/master/Tarea_Capsula_2.ipynb\" target=\"_parent\"><img src=\"https://colab.research.google.com/assets/colab-badge.svg\" alt=\"Open In Colab\"/></a>"
      ]
    },
    {
      "cell_type": "markdown",
      "metadata": {
        "id": "zZvs96ka7Q0z",
        "colab_type": "text"
      },
      "source": [
        "# Tarea Cápsula #2: *Representation Learning*\n",
        "\n",
        "### EL7024 - Teoría de la Información: Fundamentos y Aplicaciones \n",
        "### Information and Decision Systems Group"
      ]
    },
    {
      "cell_type": "markdown",
      "metadata": {
        "id": "LHLXeBud7Q03",
        "colab_type": "text"
      },
      "source": [
        "Nombre: Martín Valderrama Illesca"
      ]
    },
    {
      "cell_type": "markdown",
      "metadata": {
        "id": "xi7iblhW7Q07",
        "colab_type": "text"
      },
      "source": [
        "## Preguntas Teóricas:"
      ]
    },
    {
      "cell_type": "markdown",
      "metadata": {
        "id": "MwXXm2SS7Q0-",
        "colab_type": "text"
      },
      "source": [
        "### P1) Inferencia Variacional"
      ]
    },
    {
      "cell_type": "markdown",
      "metadata": {
        "id": "qDb-dSYt7Q1A",
        "colab_type": "text"
      },
      "source": [
        "a) A partir del funcional objetivo de Inferencia Variacional $KL(q(\\mathbf{z})||p(\\mathbf{z}|\\mathbf{x}))$ encuentre una cota inferior para el logaritmo de la **evidencia** $log p(x)$ y muestre que esta se puede escribir como:\n",
        "\n",
        "\\begin{equation}\n",
        "\\begin{split}\n",
        "ELBO(q) &= \\mathbb{E}_{\\mathbf{Z} \\sim q(\\mathbf{z})}\\{\\log{p(\\mathbf{x},\\mathbf{z})}\\} - \\mathbb{E}_{\\mathbf{Z} \\sim q(\\mathbf{z})}\\{\\log{q(\\mathbf{z})}\\} \\\\\n",
        "&= \\mathbb{E}_{\\mathbf{Z} \\sim q(\\mathbf{z})}\\{\\log{p(\\mathbf{x}|\\mathbf{z})}\\} - KL(q(\\mathbf{z})||p(\\mathbf{z}))\n",
        "\\end{split}\n",
        "\\end{equation}"
      ]
    },
    {
      "cell_type": "markdown",
      "metadata": {
        "id": "h9jwBqlu7Q1C",
        "colab_type": "text"
      },
      "source": [
        "b) Explique e interprete la forma de la *Evidence Lower Bound*. En este sentido puede resultarle más fácil considerar la segunda expresión $ELBO(q) = \\mathbb{E}_{\\mathbf{Z} \\sim q(\\mathbf{z})}\\{\\log{p(\\mathbf{x}|\\mathbf{z})}\\} - KL(q(\\mathbf{z})||p(\\mathbf{z}))$.\n",
        "\n",
        "**Hint**: Puede resultarle útil pensar en lo siguiente: ¿Para qué valores de $\\mathbf{z}$ o bajo qué criterio cada término de este funcional propicia la asignación de masa en $q(\\mathbf{z})$?"
      ]
    },
    {
      "cell_type": "markdown",
      "metadata": {
        "id": "WdSfNazB7Q1F",
        "colab_type": "text"
      },
      "source": [
        "c) Explique brevemente por qué los problemas de optimización $\\underset{q(\\mathbf{z}) \\in \\mathcal{Q}}{\\operatorname{arg min}} KL(q(\\mathbf{z})||p(\\mathbf{z}|\\mathbf{x}))$ y $\\underset{q(\\mathbf{z}) \\in \\mathcal{Q}}{\\operatorname{arg max}} ELBO(q)$ son equivalentes."
      ]
    },
    {
      "cell_type": "markdown",
      "metadata": {
        "id": "ML0kgbM17Q1H",
        "colab_type": "text"
      },
      "source": [
        "### P2) Information Bottleneck Profundo"
      ]
    },
    {
      "cell_type": "markdown",
      "metadata": {
        "id": "EN3EVwCH7Q1K",
        "colab_type": "text"
      },
      "source": [
        "En el mismo estilo que estudiamos para los *Autoencoders* Variacionales deduciremos la forma de definir una función de pérdida adecuada para abordar el problema del *Information Bottleneck* por medio de redes neuronales. Para esto, primero reescribimos el problema de la siguiente manera:\n",
        "\n",
        "\\begin{equation}\n",
        "    \\underset{p(\\mathbf{z}|\\mathbf{x}), p(\\mathbf{y}|\\mathbf{z})}{\\operatorname{max}} R_{IB} = I(\\mathbf{Y};\\mathbf{Z}) - \\beta I(\\mathbf{X};\\mathbf{Z})\n",
        "\\end{equation}\n",
        "\n",
        "de modo tal que deduciremos una cota inferior del funcional, siendo $\\mathbf{Z}$ la variable latente que comprime la señal de entrada $\\mathbf{X}$ y se utiliza en la predicción de $\\mathbf{Y}$, y es tal que $\\mathbf{Z} - \\mathbf{X} - \\mathbf{Y}$."
      ]
    },
    {
      "cell_type": "markdown",
      "metadata": {
        "id": "K3a7rKCI7Q1O",
        "colab_type": "text"
      },
      "source": [
        "a) Consideremos primero una cota inferior para $I(\\mathbf{Y};\\mathbf{Z})$. Considerando que $q(\\mathbf{y}|\\mathbf{z})$ es una aproximación variacional del *decoder* $p(\\mathbf{y}|\\mathbf{z})$ y el supuesto de Markovianidad demuestre que:\n",
        "\n",
        "\\begin{equation}\n",
        "    I(\\mathbf{Y};\\mathbf{Z}) \\geq \\int_{\\mathcal{X}}\\int_{\\mathcal{Z}}\\int_{\\mathcal{Y}}p(z|x)p(y|x)p(x)\\log q(y|z) dydzdx = \\tilde{I}(\\mathbf{Y};\\mathbf{Z})\n",
        "\\end{equation}"
      ]
    },
    {
      "cell_type": "markdown",
      "metadata": {
        "id": "R_HE4ypl7Q1Q",
        "colab_type": "text"
      },
      "source": [
        "b) Para el término $I(\\mathbf{X};\\mathbf{Z})$ es necesaria una cota superior. Demuestre que una aproximación variacional $r(\\mathbf{z})$ del *prior* $p(\\mathbf{z})$ satisface que:\n",
        "\n",
        "\\begin{equation}\n",
        "    I(\\mathbf{X};\\mathbf{Z}) \\leq \\int_{\\mathcal{X}}\\int_{\\mathcal{Z}}\\int_{\\mathcal{Y}}p(z|x)p(y|x)p(x)\\log \\frac{p(z|x)}{r(z)} dydzdx = \\tilde{I}(\\mathbf{X};\\mathbf{Z})\n",
        "\\end{equation}"
      ]
    },
    {
      "cell_type": "markdown",
      "metadata": {
        "id": "MZFeoLNv7Q1R",
        "colab_type": "text"
      },
      "source": [
        "Definamos la cota resultante para $R_{IB}$ por\n",
        "\n",
        "\\begin{equation}\n",
        "    \\mathcal{L}_{IB} = \\tilde{I}(\\mathbf{Y};\\mathbf{Z}) - \\beta \\tilde{I}(\\mathbf{X};\\mathbf{Z})\n",
        "\\end{equation}"
      ]
    },
    {
      "cell_type": "markdown",
      "metadata": {
        "id": "BKrswFxk7Q1U",
        "colab_type": "text"
      },
      "source": [
        "c) Empleando la distribución conjunta empírica $\\tilde{p}(x,y) = \\frac{1}{N}\\sum_{i=1}^{N}\\delta_{x^{(i)}}(x)\\delta_{y^{(i)}}(y)$ deduzca que\n",
        "\n",
        "\\begin{equation}\n",
        "    \\mathcal{L}_{IB} \\approx \\frac{1}{N}\\sum_{i=1}^{N}\\left[ \\mathbb{E}_{\\mathbf{Z} \\sim p(\\mathbf{z}|\\mathbf{x})} \\left\\{ \\log q(\\mathbf{y}^{(i)}|\\mathbf{z}) \\right\\} - \\beta KL\\left( p(\\mathbf{z}|\\mathbf{x}^{(i)}) || r(\\mathbf{z}) \\right)\\right]\n",
        "\\end{equation}"
      ]
    },
    {
      "cell_type": "markdown",
      "metadata": {
        "id": "_iNr1Epi7Q1X",
        "colab_type": "text"
      },
      "source": [
        "## Preguntas de Simulación:"
      ]
    },
    {
      "cell_type": "markdown",
      "metadata": {
        "id": "E2dhwpYx7Q1Z",
        "colab_type": "text"
      },
      "source": [
        "En esta parte de la tarea deberán implementar y probar el modelo deducido en la pregunta 2 mediante redes neuronales, donde se considera que las aproximaciones variacionales están parametrizadas por una red correspondiente al *encoder* $p_{\\theta}(\\mathbf{z}|\\mathbf{x})$ y otra para el *decoder* $q_{\\phi}(\\mathbf{y}|\\mathbf{z})$, es decir que el funcional a **minimizar** corresponde a:\n",
        "\n",
        "\\begin{equation}\n",
        "    \\begin{split}\n",
        "        \\mathcal{L}'_{IB}(\\phi, \\theta) &= -\\frac{1}{N}\\sum_{i=1}^{N}\\left[ \\mathbb{E}_{\\mathbf{Z} \\sim p_{\\theta}(\\mathbf{z}|\\mathbf{x})} \\left\\{ \\log q_{\\phi}(\\mathbf{y}^{(i)}|\\mathbf{z}) \\right\\} - \\beta KL\\left( p_\\theta(\\mathbf{z}|\\mathbf{x}^{(i)}) || r(\\mathbf{z}) \\right)\\right] \\\\\n",
        "        &= \\frac{1}{N}\\sum_{i=1}^{N}\\left[ \\mathbb{E}_{\\mathbf{Z} \\sim p_{\\theta}(\\mathbf{z}|\\mathbf{x})} \\left\\{ -\\log q_{\\phi}(\\mathbf{y}^{(i)}|\\mathbf{z}) \\right\\} + \\beta KL\\left( p_\\theta(\\mathbf{z}|\\mathbf{x}^{(i)}) || r(\\mathbf{z}) \\right)\\right]\n",
        "    \\end{split}\n",
        "\\end{equation}\n",
        "\n",
        "Los experimentos se realizarán sobre el *dataset* MNIST en el problema de **clasificación**."
      ]
    },
    {
      "cell_type": "markdown",
      "metadata": {
        "id": "SmeHdj5s7Q1d",
        "colab_type": "text"
      },
      "source": [
        "i) Implemente una clase $\\texttt{DeepIB}$ que corresponda a la siguiente arquitectura:\n",
        "\n",
        "* *Encoder* Gaussiano: Red *fully-connected* $784\\to1024\\to1024\\to2K$, donde K es la dimensionalidad de la variable latente. Los primeros $K$ valores de dicha capa corresponderán a $\\mu_{\\mathbf{z}}(\\mathbf{x})$ y las siguientes $K$ componentes comprenden las desviaciones estándar $\\sigma_{\\mathbf{z}}(\\mathbf{x})$. Entre cada capa debe usar la función de activación $\\texttt{ReLU}$.\n",
        "**Hint**: Para asegurar que las desviaciones estándar $\\sigma_{\\mathbf{z}}(\\mathbf{x})$ sean positivas se recomienda aplicarles la siguiente transformación: \n",
        "\n",
        "\\begin{equation}\n",
        "    \\sigma_{\\mathbf{z}}(\\mathbf{x}) = \\log (1 + \\exp (\\sigma_{\\mathbf{z}}^{raw}(\\mathbf{x}) - 5.0)),\n",
        "\\end{equation}\n",
        "\n",
        "$\\hspace{7mm}$ donde $\\sigma_{\\mathbf{z}}^{raw}(\\mathbf{x})$ denota a la desviación estándar antes de aplicar esta transformación.\n",
        "\n",
        "* *Decoder*: Red *fully-connected* $K\\to10$. Considere que este decoder es determinístico.\n",
        "\n",
        "Para la Función de Costo considere $r(\\mathbf{z}) = \\mathcal{N}(\\mathbf{z};0,I)$ (es decir que requiere una expresión cerrada para el término de divergencia).\n",
        "\n",
        "**Hint**: Dado que el *decoder* es determinístico, puede usar la función de *Cross-Entropy* para el primer término, en forma astuta."
      ]
    },
    {
      "cell_type": "markdown",
      "metadata": {
        "id": "ZTt5S8A97Q1h",
        "colab_type": "text"
      },
      "source": [
        "ii) Implemente una clase $\\texttt{MLP}$ correspondiente a la arquitectura $784\\to1024\\to1024\\to K\\to10$ para un mismo valor de $K$ que en el caso de $\\texttt{DeepIB}$. Al ser un problema de clasificación puede entrenar con *Cross-Entropy*."
      ]
    },
    {
      "cell_type": "markdown",
      "metadata": {
        "id": "CC-h8bO67Q1k",
        "colab_type": "text"
      },
      "source": [
        "iii) Para $K=2$ y $\\beta \\in \\{10^{-3}, 10^{-1},1\\}$, entrene ambos modelos considerando un *loop* de entrenamiento similar al de la Cápsula 2, de tal modo que el *learning rate* del optimizador Adam decaiga en $97\\%$ cada $2$ épocas:\n",
        "\n",
        "$\\texttt{lr0 = 10e-4}$\n",
        "\n",
        "$\\texttt{beta1 = 0.5}$\n",
        "\n",
        "$\\texttt{beta2 = 0.999}$\n",
        "\n",
        "$\\texttt{lr_decay = 0.97}$\n",
        "\n",
        "$\\texttt{decay_rate = 2}$\n",
        "\n",
        "$\\texttt{nEpochs = 200}$"
      ]
    },
    {
      "cell_type": "markdown",
      "metadata": {
        "id": "ijBDAN7u7Q1p",
        "colab_type": "text"
      },
      "source": [
        "Como parámetro $L$ de muestreo para aplicar el *Reparametrization Trick* puede utilizar $L=12$. Si usa la función de Pytorch [$\\texttt{torch.nn.CrossEntropyLoss}$](https://pytorch.org/docs/master/generated/torch.nn.CrossEntropyLoss.html#torch.nn.CrossEntropyLoss) se recomienda revisar el efecto de usar $\\texttt{reduction='none'}$."
      ]
    },
    {
      "cell_type": "markdown",
      "metadata": {
        "id": "GTKVhNZa7Q1r",
        "colab_type": "text"
      },
      "source": [
        "Compare y analice la *accuracy* obtenida por los modelos estocásticos obtenidos entre sí y con el modelo $\\texttt{MLP}$ clásico.\n",
        "\n",
        "Además, para los modelos estocásticos, obtenga la proyección de los datos de prueba en el espacio latente $K$-dimensional y analice el efecto de $\\beta$ en este resultado."
      ]
    },
    {
      "cell_type": "code",
      "metadata": {
        "id": "k0URp_cl7Q1v",
        "colab_type": "code",
        "colab": {
          "base_uri": "https://localhost:8080/",
          "height": 35
        },
        "outputId": "1b809d7d-9d84-4512-d5ba-7bf1a98b7464"
      },
      "source": [
        "#%tensorflow_version 1.x\n",
        "#%load_ext tensorboard\n",
        "\n",
        "%matplotlib inline\n",
        "import matplotlib.pyplot as plt\n",
        "import numpy as np\n",
        "\n",
        "import torch\n",
        "import torch.distributions as D\n",
        "import torch.nn as nn\n",
        "import torch.nn.functional as F\n",
        "\n",
        "import torchvision\n",
        "import torchvision.transforms as transforms\n",
        "import torchvision.datasets as datasets\n",
        "\n",
        "from copy import deepcopy\n",
        "from matplotlib import cm\n",
        "from mpl_toolkits import mplot3d\n",
        "from torch.utils.data import Dataset, DataLoader, Subset\n",
        "\n",
        "print(torch.__version__)"
      ],
      "execution_count": 1,
      "outputs": [
        {
          "output_type": "stream",
          "text": [
            "1.5.0+cu101\n"
          ],
          "name": "stdout"
        }
      ]
    },
    {
      "cell_type": "code",
      "metadata": {
        "id": "aYm0rdZ77Q1-",
        "colab_type": "code",
        "colab": {
          "base_uri": "https://localhost:8080/",
          "height": 365,
          "referenced_widgets": [
            "e36fddc87b404031a35dfeaaf67dd697",
            "e127fc67146842c1b897638487842164",
            "3272603e7d114bae90f076cc13f6a75d",
            "2f052e354d2348afa5010da981445df0",
            "589be4d09a3d470cb27d1284eb160f50",
            "878aff44afb743b5a53a6be30e622ecf",
            "6c27cb856e044440839a3ffe70ea1226",
            "ff01631078fa4c18b4b15be1049648e3",
            "d914d48149a841359f53dc25ff0aed14",
            "3c732a8f1e2447eeb7e21749a1558d2d",
            "809c6770f73c4e9cb83b50d54d41b1ca",
            "68cb5cb658814f01a9c23f32f8ff8bbc",
            "a00475ae8315440aa95c52144070bfa8",
            "78ee7e9678f543b8864068ec43d354da",
            "e4d12c4ae7234be29fa229d0412d9966",
            "ae643c3718b642a882c6780cbf6ed24c",
            "63d98e8e39ee467c8bbb614a053c72b7",
            "a4ad715af3da4266a5943f5ab8c036f6",
            "dcbfba61d1874963a7053b3f185aaf93",
            "dab071dc9f0b4a52a999a0acbcc27588",
            "b22372c94ac94c439be4efc54d0d642c",
            "fc75470dc1d54857ad38541cc7059ce7",
            "70f09cfba8cd462aa71a382f117f6129",
            "33e628c28d064b73a6d1153a4072c84c",
            "3ef6987857bb42818e75ffaab55ba9dc",
            "0cc7048e29a042a5bb2e3a558e11ccdd",
            "b98b07643ddd48408fc8c49aa2b4062b",
            "edcacfae4bf0457a80c91490a3d08a43",
            "41f3c5def1704ff3b145e68f94936d92",
            "36f97a9210a74a86b9b844d4c78b0691",
            "40986d7e77b9472fa9ec42bcfb2e0682",
            "bd9d1435092c4aa5b632f5b0d2baadb8"
          ]
        },
        "outputId": "98f80a22-5d91-415d-ad26-8f1cbdec2ee6"
      },
      "source": [
        "## Batch Sizes\n",
        "train_batch_size = 100\n",
        "test_batch_size = 1000\n",
        "\n",
        "## Train-Val Split\n",
        "train_dataset_mnist = datasets.MNIST(root='./', train=True, download=True,\n",
        "                                     transform=transforms.Compose([\n",
        "                                         transforms.ToTensor()]))\n",
        "\n",
        "test_dataset_mnist = datasets.MNIST(root='./', train=False, \n",
        "                                    transform=transforms.Compose([\n",
        "                                        transforms.ToTensor()]))\n",
        "\n",
        "## DataLoaders\n",
        "train_loader_mnist = torch.utils.data.DataLoader(train_dataset_mnist,\n",
        "                                                 batch_size = train_batch_size)\n",
        "test_loader_mnist = torch.utils.data.DataLoader(test_dataset_mnist,\n",
        "                                                batch_size = test_batch_size)"
      ],
      "execution_count": 2,
      "outputs": [
        {
          "output_type": "stream",
          "text": [
            "Downloading http://yann.lecun.com/exdb/mnist/train-images-idx3-ubyte.gz to ./MNIST/raw/train-images-idx3-ubyte.gz\n"
          ],
          "name": "stdout"
        },
        {
          "output_type": "display_data",
          "data": {
            "application/vnd.jupyter.widget-view+json": {
              "model_id": "e36fddc87b404031a35dfeaaf67dd697",
              "version_minor": 0,
              "version_major": 2
            },
            "text/plain": [
              "HBox(children=(FloatProgress(value=1.0, bar_style='info', max=1.0), HTML(value='')))"
            ]
          },
          "metadata": {
            "tags": []
          }
        },
        {
          "output_type": "stream",
          "text": [
            "Extracting ./MNIST/raw/train-images-idx3-ubyte.gz to ./MNIST/raw\n",
            "Downloading http://yann.lecun.com/exdb/mnist/train-labels-idx1-ubyte.gz to ./MNIST/raw/train-labels-idx1-ubyte.gz\n"
          ],
          "name": "stdout"
        },
        {
          "output_type": "display_data",
          "data": {
            "application/vnd.jupyter.widget-view+json": {
              "model_id": "d914d48149a841359f53dc25ff0aed14",
              "version_minor": 0,
              "version_major": 2
            },
            "text/plain": [
              "HBox(children=(FloatProgress(value=1.0, bar_style='info', max=1.0), HTML(value='')))"
            ]
          },
          "metadata": {
            "tags": []
          }
        },
        {
          "output_type": "stream",
          "text": [
            "Extracting ./MNIST/raw/train-labels-idx1-ubyte.gz to ./MNIST/raw\n",
            "Downloading http://yann.lecun.com/exdb/mnist/t10k-images-idx3-ubyte.gz to ./MNIST/raw/t10k-images-idx3-ubyte.gz\n"
          ],
          "name": "stdout"
        },
        {
          "output_type": "display_data",
          "data": {
            "application/vnd.jupyter.widget-view+json": {
              "model_id": "63d98e8e39ee467c8bbb614a053c72b7",
              "version_minor": 0,
              "version_major": 2
            },
            "text/plain": [
              "HBox(children=(FloatProgress(value=1.0, bar_style='info', max=1.0), HTML(value='')))"
            ]
          },
          "metadata": {
            "tags": []
          }
        },
        {
          "output_type": "stream",
          "text": [
            "Extracting ./MNIST/raw/t10k-images-idx3-ubyte.gz to ./MNIST/raw\n",
            "Downloading http://yann.lecun.com/exdb/mnist/t10k-labels-idx1-ubyte.gz to ./MNIST/raw/t10k-labels-idx1-ubyte.gz\n"
          ],
          "name": "stdout"
        },
        {
          "output_type": "display_data",
          "data": {
            "application/vnd.jupyter.widget-view+json": {
              "model_id": "3ef6987857bb42818e75ffaab55ba9dc",
              "version_minor": 0,
              "version_major": 2
            },
            "text/plain": [
              "HBox(children=(FloatProgress(value=1.0, bar_style='info', max=1.0), HTML(value='')))"
            ]
          },
          "metadata": {
            "tags": []
          }
        },
        {
          "output_type": "stream",
          "text": [
            "Extracting ./MNIST/raw/t10k-labels-idx1-ubyte.gz to ./MNIST/raw\n",
            "Processing...\n",
            "Done!\n"
          ],
          "name": "stdout"
        },
        {
          "output_type": "stream",
          "text": [
            "/pytorch/torch/csrc/utils/tensor_numpy.cpp:141: UserWarning: The given NumPy array is not writeable, and PyTorch does not support non-writeable tensors. This means you can write to the underlying (supposedly non-writeable) NumPy array using the tensor. You may want to copy the array to protect its data or make it writeable before converting it to a tensor. This type of warning will be suppressed for the rest of this program.\n"
          ],
          "name": "stderr"
        }
      ]
    },
    {
      "cell_type": "code",
      "metadata": {
        "id": "1krnkYKE7Q2M",
        "colab_type": "code",
        "colab": {}
      },
      "source": [
        "lr0 = 10e-4\n",
        "beta1 = 0.5\n",
        "beta2 = 0.999\n",
        "lr_decay = 0.97\n",
        "decay_rate = 2\n",
        "nEpochs = 200"
      ],
      "execution_count": 3,
      "outputs": []
    },
    {
      "cell_type": "code",
      "metadata": {
        "id": "d9LbbDEgZgz_",
        "colab_type": "code",
        "colab": {}
      },
      "source": [
        "class DeepIB(nn.Module):\n",
        "  '''Variational Autoencoder model with Gaussian Encoder and Decoder'''\n",
        "  def __init__(self, zDim, sampling = 1):\n",
        "    super(DeepIB, self).__init__()\n",
        "    self.sampling = sampling\n",
        "    hDim = 1024\n",
        "\n",
        "    ## Encoder\n",
        "    self.fc1 = nn.Sequential(nn.Linear(784, hDim), nn.ReLU())             ## Nonlinear layer\n",
        "    self.fc2 = nn.Sequential(nn.Linear(hDim, hDim), nn.ReLU())             ## Nonlinear layer\n",
        "    \n",
        "\n",
        "\n",
        "    self.encoder_mu = nn.Linear(hDim, zDim)         ## Encoder for mu\n",
        "    self.encoder_sigma = nn.Linear(hDim, zDim)     ## Encoder for log-variance                              \n",
        "\n",
        "    ## Decoder\n",
        "    self.fc3 = nn.Sequential(nn.Linear(zDim, 10), nn.ReLU())         ## Nonlinear layer\n",
        "\n",
        "\n",
        "  def encode(self, x):\n",
        "    '''Make inferece of the latent variables Z for X'''\n",
        "    x = self.fc1(x)\n",
        "    x = self.fc2(x)\n",
        "    mu = self.encoder_mu(x)\n",
        "    sigma = F.softplus(self.encoder_sigma(x)-5)\n",
        "    return mu, sigma\n",
        "\n",
        "  def reparametrize(self, mu, logvar):\n",
        "    '''Reparametrization is required for aproximating expectations during\n",
        "    training'''\n",
        "    # aplicar el ajuste a los sigmas\n",
        "    # se retorna la distribucion de z sobre x\n",
        "\n",
        "    L = self.sampling\n",
        "    sigma = torch.exp(0.5 * logvar)\n",
        "    if not self.training:\n",
        "      L = 1\n",
        "    epsilon = torch.randn(list(mu.shape)+[L]).cuda()\n",
        "    mu = mu.view(list(mu.shape)+[1])\n",
        "    sigma = sigma.view(list(sigma.shape)+[1])\n",
        "    z = mu + sigma * epsilon \n",
        "    z_ = z.permute(0,2,1)\n",
        "    return z_\n",
        "\n",
        "  def decode(self, z):\n",
        "    '''Reconstruct X from the latent space variables'''\n",
        "    z = self.fc3(z)\n",
        "    return z\n",
        "\n",
        "  def forward(self, x):\n",
        "    mu_z, logvar_z = self.encode(x)\n",
        "    z = self.reparametrize(mu_z, logvar_z)\n",
        "\n",
        "    y = torch.mean(self.decode(z), dim=1)\n",
        "\n",
        "    return mu_z, logvar_z, y\n",
        "\n",
        "def fVAELoss(y_true, y_pred, mu_z, logvar_z, beta):\n",
        "  '''Caculate the loss for VAE with Gaussian Encoder and Decoder'''\n",
        "\n",
        "  var_z = torch.exp(0.5 * logvar_z)\n",
        "  \n",
        "  ## Sum over J\n",
        "  Jterm = 1 + torch.log(var_z) - (mu_z ** 2) - var_z\n",
        "  Jterm = 0.5 * Jterm.sum(axis = 1).reshape(-1)\n",
        "\n",
        "  # classification loss\n",
        "  Lterm = nn.CrossEntropyLoss()(y_pred, y_true.cuda())\n",
        "\n",
        "  loss = - Lterm + beta*Jterm.sum()\n",
        "\n",
        "  return loss"
      ],
      "execution_count": 11,
      "outputs": []
    },
    {
      "cell_type": "code",
      "metadata": {
        "id": "MaSuj2ZvafWo",
        "colab_type": "code",
        "colab": {}
      },
      "source": [
        "\n",
        "zDim = 2\n",
        "model = DeepIB(zDim = zDim, sampling = 50).cuda()\n",
        "\n",
        "optimizer = torch.optim.Adam(model.parameters(), lr0, (beta1, beta2))"
      ],
      "execution_count": 12,
      "outputs": []
    },
    {
      "cell_type": "code",
      "metadata": {
        "id": "ceLRK1GwZk2b",
        "colab_type": "code",
        "colab": {
          "base_uri": "https://localhost:8080/",
          "height": 398
        },
        "outputId": "151f4a93-da79-4c95-ae3f-d1d39b742079"
      },
      "source": [
        "print('Reference images:')\n",
        "img1 = test_loader_mnist.dataset[15][0].numpy()[0]\n",
        "img2 = test_loader_mnist.dataset[29][0].numpy()[0]\n",
        "img3 = test_loader_mnist.dataset[54][0].numpy()[0]\n",
        "img = np.hstack((img1, np.hstack((img2, img3))))\n",
        "plt.figure()\n",
        "plt.imshow(img,cmap=cm.gray)\n",
        "plt.show()\n",
        "print('Max value: {}, Min value: {}\\n'.format(np.amax(img), np.amin(img)))\n",
        "img1 = torch.from_numpy(img1).reshape(-1,1,784).cuda()\n",
        "img2 = torch.from_numpy(img2).reshape(-1,1,784).cuda()\n",
        "img3 = torch.from_numpy(img3).reshape(-1,1,784).cuda()\n",
        "\n",
        "model.train()\n",
        "for epoch in range(nEpochs):\n",
        "  for i, (x_b, y_b) in enumerate(train_loader_mnist):\n",
        "    x_b = x_b.reshape(train_batch_size, -1).cuda()\n",
        "\n",
        "    optimizer.zero_grad()           ## No olvidar resetear los gradientes\n",
        "\n",
        "    mu_z, logvar_z, y_pred = model.forward(x_b)\n",
        "    loss = -1 *  fVAELoss(y_b, y_pred, mu_z, logvar_z, beta=0.001)\n",
        "\n",
        "    loss.backward()\n",
        "\n",
        "    optimizer.step()\n",
        "\n",
        "    # print('Epoch : {} , Step : {}|| Loss : {:.3f}'.format(epoch + 1, i + 1, loss))\n",
        "\n",
        "  if epoch % 10 or epoch < 10:\n",
        "    correct = 0\n",
        "    total = 0\n",
        "    loss_test = 0\n",
        "    with torch.no_grad():\n",
        "      for inputs, labels in test_loader_mnist:\n",
        "        labels = labels.cuda()\n",
        "        total += labels.size(0)\n",
        "        inputs = inputs.reshape(test_batch_size, -1).cuda()\n",
        "        mu_z, logvar_z, y_pred = model.forward(inputs)\n",
        "        loss_test += nn.CrossEntropyLoss()(y_pred, labels.cuda())\n",
        "        y_pred = y_pred.max(1)[1]\n",
        "        correct += torch.eq(y_pred, labels).float().sum()\n",
        "  template = 'Epoch : {} || Loss : {:.3f} || Test --- Acc : {:.3f} || Loss : {:.3f}'\n",
        "  print(template.format(epoch + 1, loss, correct.cpu().numpy()/total, loss_test))\n",
        "\n",
        "  if epoch % decay_rate == 1:\n",
        "    optimizer.param_groups[0]['lr'] *= lr_decay\n",
        "\n",
        "print('Max value: {}, Min value: {}\\n'.format(np.amax(img), np.amin(img)))"
      ],
      "execution_count": null,
      "outputs": [
        {
          "output_type": "stream",
          "text": [
            "Reference images:\n"
          ],
          "name": "stdout"
        },
        {
          "output_type": "display_data",
          "data": {
            "image/png": "[encoded data removed]",
            "text/plain": [
              "<Figure size 432x288 with 1 Axes>"
            ]
          },
          "metadata": {
            "tags": [],
            "needs_background": "light"
          }
        },
        {
          "output_type": "stream",
          "text": [
            "Max value: 1.0, Min value: 0.0\n",
            "\n",
            "Epoch : 1 || Loss : 1.362 || Test --- Acc : 0.772 || Loss : 10.337\n",
            "Epoch : 2 || Loss : 1.143 || Test --- Acc : 0.921 || Loss : 8.203\n",
            "Epoch : 3 || Loss : 1.002 || Test --- Acc : 0.952 || Loss : 6.922\n",
            "Epoch : 4 || Loss : 0.902 || Test --- Acc : 0.958 || Loss : 6.024\n",
            "Epoch : 5 || Loss : 0.814 || Test --- Acc : 0.960 || Loss : 5.296\n",
            "Epoch : 6 || Loss : 0.739 || Test --- Acc : 0.960 || Loss : 4.830\n",
            "Epoch : 7 || Loss : 0.697 || Test --- Acc : 0.962 || Loss : 4.444\n",
            "Epoch : 8 || Loss : 0.655 || Test --- Acc : 0.963 || Loss : 4.085\n",
            "Epoch : 9 || Loss : 0.615 || Test --- Acc : 0.966 || Loss : 3.720\n",
            "Epoch : 10 || Loss : 0.584 || Test --- Acc : 0.965 || Loss : 3.513\n"
          ],
          "name": "stdout"
        }
      ]
    },
    {
      "cell_type": "code",
      "metadata": {
        "id": "kHToYEtjZ-lU",
        "colab_type": "code",
        "colab": {}
      },
      "source": [
        ""
      ],
      "execution_count": null,
      "outputs": []
    }
  ]
}