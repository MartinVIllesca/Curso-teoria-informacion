{
  "nbformat": 4,
  "nbformat_minor": 0,
  "metadata": {
    "colab": {
      "name": "Cápsula_2.ipynb",
      "provenance": [],
      "collapsed_sections": [
        "NoYP-r5pNiWe"
      ],
      "include_colab_link": true
    },
    "kernelspec": {
      "name": "python3",
      "display_name": "Python 3"
    },
    "accelerator": "GPU"
  },
  "cells": [
    {
      "cell_type": "markdown",
      "metadata": {
        "id": "view-in-github",
        "colab_type": "text"
      },
      "source": [
        "<a href=\"https://colab.research.google.com/github/MartinVIllesca/Curso-teoria-informacion/blob/master/C%C3%A1psula_2.ipynb\" target=\"_parent\"><img src=\"https://colab.research.google.com/assets/colab-badge.svg\" alt=\"Open In Colab\"/></a>"
      ]
    },
    {
      "cell_type": "markdown",
      "metadata": {
        "id": "aEjyqy2rtvcr",
        "colab_type": "text"
      },
      "source": [
        "# Cápsula #2: *Representation Learning*\n",
        "\n",
        "### EL7024 - Teoría de la Información: Fundamentos y Aplicaciones \n",
        "### Information and Decision Systems Group"
      ]
    },
    {
      "cell_type": "markdown",
      "metadata": {
        "id": "ATN5Ljpqtw8B",
        "colab_type": "text"
      },
      "source": [
        "En esta cápsula se revisarán los fundamentos y ejemplos experimentales de [*Autoencoders* Variacionales](https://arxiv.org/abs/1312.6114) (Kingma & Welling, 2014) y del [Método del *Information Bottleneck*](https://arxiv.org/abs/physics/0004057) (Tishby et al., 1999)"
      ]
    },
    {
      "cell_type": "markdown",
      "metadata": {
        "id": "gy0FYCaYt32I",
        "colab_type": "text"
      },
      "source": [
        "## Preliminares"
      ]
    },
    {
      "cell_type": "code",
      "metadata": {
        "id": "Hs-M3TggtdCX",
        "colab_type": "code",
        "outputId": "3d01a9fb-c851-4a4f-9c94-80a4a9b443ef",
        "colab": {
          "base_uri": "https://localhost:8080/",
          "height": 51
        }
      },
      "source": [
        "%tensorflow_version 1.x\n",
        "%load_ext tensorboard\n",
        "\n",
        "%matplotlib inline\n",
        "import matplotlib.pyplot as plt\n",
        "import numpy as np\n",
        "\n",
        "import torch\n",
        "import torch.distributions as D\n",
        "import torch.nn as nn\n",
        "import torch.nn.functional as F\n",
        "\n",
        "import torchvision\n",
        "import torchvision.transforms as transforms\n",
        "import torchvision.datasets as datasets\n",
        "\n",
        "from copy import deepcopy\n",
        "from matplotlib import cm\n",
        "from mpl_toolkits import mplot3d\n",
        "from sklearn.datasets import fetch_openml\n",
        "from sklearn.datasets import make_blobs\n",
        "from sklearn.decomposition import PCA\n",
        "from torch.utils.data import Dataset, DataLoader, Subset\n",
        "\n",
        "print(torch.__version__)"
      ],
      "execution_count": 0,
      "outputs": [
        {
          "output_type": "stream",
          "text": [
            "TensorFlow 1.x selected.\n",
            "1.5.0+cu101\n"
          ],
          "name": "stdout"
        }
      ]
    },
    {
      "cell_type": "code",
      "metadata": {
        "id": "ikz5qEoXt9tJ",
        "colab_type": "code",
        "outputId": "353a4fe0-d911-4495-aadf-d41b0a75a9aa",
        "colab": {
          "base_uri": "https://localhost:8080/",
          "height": 306
        }
      },
      "source": [
        "!nvidia-smi"
      ],
      "execution_count": 0,
      "outputs": [
        {
          "output_type": "stream",
          "text": [
            "Tue Jun  2 05:39:20 2020       \n",
            "+-----------------------------------------------------------------------------+\n",
            "| NVIDIA-SMI 440.82       Driver Version: 418.67       CUDA Version: 10.1     |\n",
            "|-------------------------------+----------------------+----------------------+\n",
            "| GPU  Name        Persistence-M| Bus-Id        Disp.A | Volatile Uncorr. ECC |\n",
            "| Fan  Temp  Perf  Pwr:Usage/Cap|         Memory-Usage | GPU-Util  Compute M. |\n",
            "|===============================+======================+======================|\n",
            "|   0  Tesla T4            Off  | 00000000:00:04.0 Off |                    0 |\n",
            "| N/A   70C    P8    12W /  70W |      0MiB / 15079MiB |      0%      Default |\n",
            "+-------------------------------+----------------------+----------------------+\n",
            "                                                                               \n",
            "+-----------------------------------------------------------------------------+\n",
            "| Processes:                                                       GPU Memory |\n",
            "|  GPU       PID   Type   Process name                             Usage      |\n",
            "|=============================================================================|\n",
            "|  No running processes found                                                 |\n",
            "+-----------------------------------------------------------------------------+\n"
          ],
          "name": "stdout"
        }
      ]
    },
    {
      "cell_type": "markdown",
      "metadata": {
        "id": "6c3jh_bjuDAx",
        "colab_type": "text"
      },
      "source": [
        "### MNIST *Dataset*"
      ]
    },
    {
      "cell_type": "code",
      "metadata": {
        "id": "YA_qM3g8uJFG",
        "colab_type": "code",
        "colab": {}
      },
      "source": [
        "#  Batch Sizes\n",
        "train_batch_size = 100\n",
        "val_batch_size = 1000\n",
        "\n",
        "# Train-Val Split\n",
        "train_dataset_mnist = datasets.MNIST(root='./', train=True, download=True,\n",
        "                       transform=transforms.Compose([\n",
        "                           transforms.ToTensor()]))\n",
        "\n",
        "val_dataset_mnist = datasets.MNIST(root='./', train=False, \n",
        "                        transform=transforms.Compose([\n",
        "                        transforms.ToTensor()]))\n",
        "\n",
        "# DataLoaders\n",
        "train_loader_mnist = torch.utils.data.DataLoader(train_dataset_mnist,\n",
        "                                           batch_size = train_batch_size)\n",
        "val_loader_mnist = torch.utils.data.DataLoader(val_dataset_mnist,\n",
        "                                          batch_size = val_batch_size)"
      ],
      "execution_count": 0,
      "outputs": []
    },
    {
      "cell_type": "code",
      "metadata": {
        "id": "zI94Rxm7uLrY",
        "colab_type": "code",
        "outputId": "6420f499-9db5-4fee-e83c-f38ebb9771f7",
        "colab": {
          "base_uri": "https://localhost:8080/",
          "height": 299
        }
      },
      "source": [
        "index = np.random.randint(len(val_loader_mnist.dataset))\n",
        "img = val_loader_mnist.dataset[index][0].numpy()[0]\n",
        "print('Label : {}'.format(val_loader_mnist.dataset[index][1]))\n",
        "plt.figure()\n",
        "plt.imshow(img,cmap=cm.gray)\n",
        "plt.show()\n",
        "print('Max  value: {}, Min value: {}'.format(np.amax(img), np.amin(img)))"
      ],
      "execution_count": 0,
      "outputs": [
        {
          "output_type": "stream",
          "text": [
            "Label : 3\n"
          ],
          "name": "stdout"
        },
        {
          "output_type": "display_data",
          "data": {
            "image/png": "[encoded data removed]",
            "text/plain": [
              "<Figure size 432x288 with 1 Axes>"
            ]
          },
          "metadata": {
            "tags": [],
            "needs_background": "light"
          }
        },
        {
          "output_type": "stream",
          "text": [
            "Max  value: 1.0, Min value: 0.0\n"
          ],
          "name": "stdout"
        }
      ]
    },
    {
      "cell_type": "markdown",
      "metadata": {
        "id": "2cFceFekuSXo",
        "colab_type": "text"
      },
      "source": [
        "## 1.- Inferencia Variacional"
      ]
    },
    {
      "cell_type": "markdown",
      "metadata": {
        "id": "UDEXkpM8uTiY",
        "colab_type": "text"
      },
      "source": [
        "Es un método para aproximar distribuciones de probabilidad difíciles de tratar, especialmente cuando solo se tienen muestras de la distribución. Esto se hace por medio de optimización sobre una familia de distribuciones candidatas."
      ]
    },
    {
      "cell_type": "markdown",
      "metadata": {
        "id": "bz_-q9I3uYcu",
        "colab_type": "text"
      },
      "source": [
        "### 1.1.- Motivación"
      ]
    },
    {
      "cell_type": "markdown",
      "metadata": {
        "id": "ha1_33GKubGg",
        "colab_type": "text"
      },
      "source": [
        "Desde una perspectiva Bayesiana, considérense las variables aleatorias $\\mathbf{X} \\in \\mathcal{X}$ y $\\mathbf{Z} \\in \\mathcal{Z}$, cuya distribución conjunta está dada por:\n",
        "\n",
        "\\begin{equation}\n",
        "p(\\mathbf{x}, \\mathbf{z}) = p(\\mathbf{x}|\\mathbf{z})p(\\mathbf{z}),\n",
        "\\end{equation}\n",
        "\n",
        "donde $p(\\mathbf{z})$ se percibe como un *prior* sobre la distribución de la variable **latente**, relacionada estadísticamente con las **observaciones** por medio de la verosimilitud $p(\\mathbf{x}|\\mathbf{z})$.\n",
        "\n",
        "Un modelo de inferencia/estimación Bayesiano apunta a obtener la distribución de $\\mathbf{Z}$ condicionada a las observaciones, es decir la *posterior* $p(\\mathbf{z}|\\mathbf{x})$.\n",
        "\n",
        "El cálculo de cada una de estas distribuciones a partir de datos suele ser complicado, por lo que típicamente se recurre a mecanísmos de aproximación entre ellos la **Inferencia Variacional**."
      ]
    },
    {
      "cell_type": "markdown",
      "metadata": {
        "id": "aljsOCJxupP9",
        "colab_type": "text"
      },
      "source": [
        "### 1.2.- Planteamiento del Problema"
      ]
    },
    {
      "cell_type": "markdown",
      "metadata": {
        "id": "a1hxhJD-urOn",
        "colab_type": "text"
      },
      "source": [
        "Para el caso (más usual) de estimar la *posterior* $p(\\mathbf{z}|\\mathbf{x})$ a partir de datos o muestras de la variable $\\mathbf{x}$ se recurre a escribir:\n",
        "\n",
        "\\begin{equation}\n",
        "p(\\mathbf{z}|\\mathbf{x}) = \\frac{p(\\mathbf{x},\\mathbf{z})}{p(\\mathbf{x})}, \\hspace{5mm} p(\\mathbf{x}) = \\int_{\\mathcal{Z}}p(\\mathbf{x},\\mathbf{z})d\\mathbf{z}\n",
        "\\end{equation}\n",
        "\n",
        "No obstante, dadas las dificultades del cálculo directo de esta distribución se plantea su resolución (aproximada) como un problema de optimización sobre un nuevo conjunto de **parámetros**. En este sentido, se busca una distribución $q^{*}(\\mathbf{z})$ parametrizada por $\\theta \\in \\Theta$ tal que:\n",
        "\n",
        "\\begin{equation}\n",
        "q^{*}(\\mathbf{z}) \\approx p(\\mathbf{z}|\\mathbf{x})\n",
        "\\end{equation}\n",
        "\n",
        "Esto quiere decir que $\\theta$ induce una familia de distribuciones paramétricas sobre $\\mathbf{Z}$, denominada $\\mathcal{Q}$.\n",
        "\n",
        "Resta definir el funcional sobre el cual se realiza el proceso de optimización. Naturalmente, aparece en este punto el concepto de **divergencia**; por lo que típicamente el problema se plantea finalmente como:\n",
        "\n",
        "\\begin{equation}\n",
        "q^{*}(\\mathbf{z}) = \\underset{q(\\mathbf{z}) \\in \\mathcal{Q}}{\\operatorname{arg min}} KL(q(\\mathbf{z})||p(\\mathbf{z}|\\mathbf{x})) \\tag{1}\n",
        "\\end{equation}\n",
        "\n",
        "En particular, resulta más práctico caracterizar a su vez la familia de distribuciones $\\mathcal{Q}$ por medio de un espacio paramétrico $\\Theta$, con lo cual se formula el problema como:\n",
        "\n",
        "\\begin{equation}\n",
        "q_{\\theta^{*}}(\\mathbf{z}) = \\underset{q_{\\theta}(\\mathbf{z}),\\hspace{1mm} \\theta \\in \\Theta}{\\operatorname{arg min}} KL(q_{\\theta}(\\mathbf{z})||p(\\mathbf{z}|\\mathbf{x})) \\tag{2}\n",
        "\\end{equation}"
      ]
    },
    {
      "cell_type": "markdown",
      "metadata": {
        "id": "6LP67EUw3eBZ",
        "colab_type": "text"
      },
      "source": [
        "### 1.3.- La *Evidence Lower Bound* (ELBO)"
      ]
    },
    {
      "cell_type": "markdown",
      "metadata": {
        "id": "LppBcHrt3ee-",
        "colab_type": "text"
      },
      "source": [
        "Lamentablemente, aún planteado de esta forma el problema requiere calcular la **evidencia** $p(\\mathbf{x})$, por lo que se define un funcional \"equivalente\" a la divergencia de Kullback-Leibler, denominado *Evidence Lower Bound* o ELBO:\n",
        "\n",
        "\\begin{equation}\n",
        "\\begin{split}\n",
        "ELBO(q) &= \\mathbb{E}_{\\mathbf{Z} \\sim q(\\mathbf{z})}\\{\\log{p(\\mathbf{x},\\mathbf{z})}\\} - \\mathbb{E}_{\\mathbf{Z} \\sim q(\\mathbf{z})}\\{\\log{q(\\mathbf{z})}\\} \\\\\n",
        "&= \\mathbb{E}_{\\mathbf{Z} \\sim q(\\mathbf{z})}\\{\\log{p(\\mathbf{x}|\\mathbf{z})}\\} - KL(q(\\mathbf{z})||p(\\mathbf{z}))\n",
        "\\end{split} \\tag{3}\n",
        "\\end{equation}"
      ]
    },
    {
      "cell_type": "markdown",
      "metadata": {
        "id": "M3ifzcDOCdxy",
        "colab_type": "text"
      },
      "source": [
        "### 1.4.- Síntesis"
      ]
    },
    {
      "cell_type": "markdown",
      "metadata": {
        "id": "17lJHWxWCdHE",
        "colab_type": "text"
      },
      "source": [
        "Lo importante del planteamiento detrás de **Inferencia Variacional** es que permite calcular (en forma aproximada) una distribución de interés sobre una variable aleatoria por medio de la optimización sobre los parámetros $\\theta \\in \\Theta$, introduciendo así una densidad \"auxiliar\" $q_{\\theta}(\\cdot)$ sobre dicha variable aleatoria."
      ]
    },
    {
      "cell_type": "markdown",
      "metadata": {
        "id": "MXsIPCgBCtVv",
        "colab_type": "text"
      },
      "source": [
        "## 2.- *Autoencoders* Variacionales"
      ]
    },
    {
      "cell_type": "markdown",
      "metadata": {
        "id": "uJHqffa_Ct75",
        "colab_type": "text"
      },
      "source": [
        "### 2.1.- *Autoencoders*"
      ]
    },
    {
      "cell_type": "markdown",
      "metadata": {
        "id": "WrmclbEsCwlS",
        "colab_type": "text"
      },
      "source": [
        "Los Autoencoders son una subcategoría de las redes neuronales, orientadas a problemas y/o etapas no supervisadas de aprendizaje. El objetivo es que la red aprenda a generar Representaciones Latentes de un fenómeno $X$ a partir de los datos de entrada $\\{x_{i}\\}_{i=1}^{N}$, y reconstruir estos últimos a partir del código latente.\n",
        "\n",
        "Entre las utilidades que presentan los autoencoders se encuentran:\n",
        "\n",
        "*   Reducción de Dimensionalidad\n",
        "*   Representación Eficiente de Datos\n",
        "*   Obtención de Características y *Pretraining* de Redes\n",
        "*   *Denoising*\n",
        "*   Modelos Generativos\n",
        "\n",
        "Estructuralmente los autoencoders se componen de $2$ partes:\n",
        "\n",
        "*   *Encoder*: Transforma las entradas al Espacio Latente. A veces se le denomina *Recognition Model*.\n",
        "*   *Decoder*: Realiza el proceso inverso al *encoder*. Representa la parte Generativa del modelo.\n",
        "\n",
        "      ![texto alternativo](https://upload.wikimedia.org/wikipedia/commons/thumb/2/28/Autoencoder_structure.png/350px-Autoencoder_structure.png)\n",
        "\n",
        "Este tipo de modelo se entrena por medio de alguna Función de Pérdida, denominada *Reconstruction Loss*. Cuando se incorporan términos de regularización sobre el Espacio Latente se suele denominarlos por *Latent Loss*.\n",
        "\n",
        "Más concretamente, denotando el *encoder* por la función $\\Phi$ y el *decoder* por la función $\\Psi$ se tiene que:\n",
        "\n",
        "\\begin{equation}\n",
        "  \\begin{split}\n",
        "    &\\Phi: \\mathcal{X} \\to \\mathcal{Z} \\\\\n",
        "    &\\Psi: \\mathcal{Z} \\to \\mathcal{X},\n",
        "  \\end{split}\n",
        "\\end{equation}\n",
        "\n",
        "con lo cual, la salida de la red corresponde a una **reconstrucción** de la entrada $\\mathbf{x}$, $\\mathbf{x}'$:\n",
        "\n",
        "\\begin{equation}\n",
        "  \\mathbf{x}' = \\Psi(\\mathbf{z}) =  \\Psi\\circ\\Phi(\\mathbf{x})\n",
        "\\end{equation}\n",
        "\n",
        "Típicamente, se utiliza como *Reconstruction Loss* el error cuadrático entre $\\mathbf{x}$ y $\\mathbf{x}'$, por lo que el modelo completo del autoencoder se define como:\n",
        "\n",
        "\\begin{equation}\n",
        "  \\Phi, \\Psi = \\underset{\\Phi, \\Psi}{\\operatorname{arg min}}||\\mathbf{x} - \\Psi\\circ\\Phi(\\mathbf{x})||^{2}\n",
        "\\end{equation}\n",
        "\n",
        "Un *autoencoder* variacional sigue el mismo principio expuesto anteriormente, con la diferencia de que se desea que tanto el *encoder* como el *decoder* sean probabilísticos, en el sentido de que cada uno induce un mapeo estocástico desde el espacio de entradas al espacio latente, y viceversa, permitiendo hacer inferencia en forma eficiente."
      ]
    },
    {
      "cell_type": "markdown",
      "metadata": {
        "id": "-VGUPSG9DMZR",
        "colab_type": "text"
      },
      "source": [
        "### 2.2.- *Autoencoders* Variacionales"
      ]
    },
    {
      "cell_type": "markdown",
      "metadata": {
        "id": "Lpu3FXHODTAf",
        "colab_type": "text"
      },
      "source": [
        "Volviendo al punto anterior, es evidente que un *autoencoder* tradicional es entrenado para capturar en su *encoder* una aproximación degenerada de $p(\\mathbf{z}|\\mathbf{x})$ en el sentido que, dada una muestra $\\mathcal{x}_{i}$:\n",
        "\n",
        "\\begin{equation}\n",
        "P(\\mathbf{Z} = \\Phi(\\mathcal{x}_{i})|\\mathbf{X} = \\mathcal{x}_{i}) = 1\n",
        "\\end{equation}\n",
        "\n",
        "Es decir, no es posible hacer inferencia desde una perspectiva estadística. En este sentido, no es posible realizar una caracterización del siguiente **modelo gráfico dirigido** (el cual es justamente el estudiado en la sección de Inferencia Variacional):\n",
        "\n",
        ">>>>>>>>![texto alternativo](https://jaan.io/images/graphical-model-variational-autoencoder.png)\n",
        "\n",
        "\n",
        "En base a un argumento similar, un *autoencoder* tradicional posee en su etapa de *decoder* un modelo generativo considerablemente pobre al ser determinístico, condicionado exclusivamente a la entrada $\\mathbf{x}$.\n",
        "\n",
        "\\\\\n",
        "\n",
        "La pregunta clave es entonces: ¿cómo podemos hacer inferencia sobre $p(\\mathbf{z}|\\mathbf{x})$ y obtener con ello un modelo generativo más expresivo?"
      ]
    },
    {
      "cell_type": "markdown",
      "metadata": {
        "id": "DwdoIjKIDlkg",
        "colab_type": "text"
      },
      "source": [
        "#### 2.2.1.- Fundamentos Teóricos"
      ]
    },
    {
      "cell_type": "markdown",
      "metadata": {
        "id": "biGOxRzSDon5",
        "colab_type": "text"
      },
      "source": [
        "##### Planteamiento del Problema"
      ]
    },
    {
      "cell_type": "markdown",
      "metadata": {
        "id": "3Btw8EnuDp_w",
        "colab_type": "text"
      },
      "source": [
        "Consideremos el dataset $\\mathcal{X} = \\left\\{\\mathbf{x}^{(i)}\\right\\}_{i=1}^{N}$, formado por muestras *i.i.d.* del vector aleatorio $K$-dimensional $\\mathbf{X}$. Tal como revisamos en la sección de Inferencia Variacional, se asume que el proceso generativo de $\\mathbf{X}$ se rige según la variable (aleatoria) latente $J$-dimensional $\\mathbf{Z}$ y es parametrizado por $\\theta^{*}$:\n",
        "\n",
        "\\begin{equation}\n",
        "  \\mathbf{X}  \\sim p_{\\theta^{*}}(\\mathbf{x}|\\mathbf{z}), \\hspace{5mm} \\mathbf{Z} \\sim p_{\\theta^{*}}(\\mathbf{z}),\n",
        "\\end{equation}\n",
        "\n",
        "donde $p_{\\theta^{*}}(\\mathbf{z})$ consiste en **alguna** distribución *a priori*.\n",
        "\n",
        "En términos prácticos, tanto los valores $\\mathbf{z}$ como $\\theta^{*}$ son desconocidos\n",
        "\n",
        "> **Nota**: $\\mathbf{Z}$ gobierna el comportamiento estadístico de $\\mathbf{X}$ (dado que es una **variable latente**), mientras que $\\theta^{*}$ determina la forma en que esto ocurre, es decir determina el efecto de $\\mathbf{z}$ sobre $\\mathbf{x}$ por medio de $p_{\\theta^{*}}(\\mathbf{x}|\\mathbf{z})$.\n",
        "\n",
        "Por lo tanto, en un problema de inferencia \"clásico\" se apunta a determinar el valor de $\\mathbf{z}$ para distintos puntos en el dominio de $\\mathbf{X}$, para lo cual se debe a su vez tener un valor (aproximado) de los parámetros $\\theta^{*}$.\n",
        "\n",
        "Asumiendo que $p_{\\theta^{*}}(\\mathbf{x}|\\mathbf{z})$ y $p_{\\theta^{*}}(\\mathbf{z})$ viven en una familia de distribuciones paramétricas $\\mathcal{Q}$ determinada por $\\theta \\in \\Theta$, es posible emplear Inferencia Variacional para aproximarlas.\n",
        "\n",
        "Para abordar el problema se introduce un ***Recognition Model*** (o ***Encoder* probabilístico**) $q_{\\phi}(\\mathbf{z}|\\mathbf{x})$, el cual es una aproximación de la distribución posterior $p_{\\theta^{*}}(\\mathbf{z}|\\mathbf{x})$. Los parámetros $\\phi$ son aprendidos simultáneamente con los del **Modelo Generativo** (denominado ***Decoder* probabilístico**) $p_{\\theta}(\\mathbf{x}|\\mathbf{z})$."
      ]
    },
    {
      "cell_type": "markdown",
      "metadata": {
        "id": "AHDiOoohExeV",
        "colab_type": "text"
      },
      "source": [
        "##### Tratamiento del Problema"
      ]
    },
    {
      "cell_type": "markdown",
      "metadata": {
        "id": "IOV8UnmqEyBo",
        "colab_type": "text"
      },
      "source": [
        "El objetivo se plantea en forma similar a como se propone en Inferencia Variacional. En este caso se propone minimizar la divergencia entre $q_{\\phi}(\\mathbf{z}|\\color{red}{\\mathbf{x}})$ y $p_{\\theta^{*}}(\\mathbf{z}|\\mathbf{x})$. De esta forma, se rescata una cota inferior para la Evidencia, tal como en Inferencia Variacional:\n",
        "\n",
        "\\begin{equation}\n",
        "  \\log p_{\\theta^{*}}(\\mathbf{x}) \\geq \\mathbb{E}_{\\mathbf{Z} \\sim q_{\\phi}(\\mathbf{z}|\\mathbf{x})}\\left\\{\\log p_{\\theta^{*}}(\\mathbf{x}|\\mathbf{z})\\right\\} - KL\\left(q_{\\phi}(\\mathbf{z}|\\mathbf{x})||p_{\\theta^{*}}(\\mathbf{z})\\right)\n",
        "\\end{equation}\n",
        "\n",
        "No obstante, tanto $p_{\\theta^{*}}(\\mathbf{x}|\\mathbf{z})$ como $p_{\\theta^{*}}(\\mathbf{z})$ son desconocidos. Si bien siguiendo el enfoque Bayesiano de Inferencia Variacional en este punto se emplea un *prior* $p_{\\theta}(\\mathbf{z})$ (más precisamente $p(\\mathbf{z})$) aún es insuficiente para abordar este objetivo. La razón de esto es que no se asume conocimiento preciso sobre el Modelo Generativo $p_{\\theta^{*}}(\\mathbf{x}|\\mathbf{z})$, sino que se busca aproximarlo por medio de $p_{\\theta}(\\mathbf{x}|\\mathbf{z}) \\approx p_{\\theta^{*}}(\\mathbf{x}|\\mathbf{z})$.\n",
        "\n",
        "Reemplazando, el funcional a optimizar por cada muestra $\\mathbf{x}^{(i)}$ está dado por\n",
        "\n",
        "\\begin{equation}\n",
        "  \\mathcal{L}(\\phi, \\theta, \\mathbf{x}^{(i)}) = \\mathbb{E}_{\\mathbf{Z} \\sim q_{\\phi}(\\mathbf{z}|\\mathbf{x}^{(i)})}\\left\\{\\log p_{\\theta}(\\mathbf{x}^{(i)}|\\mathbf{z})\\right\\} - KL\\left(q_{\\phi}(\\mathbf{z}|\\mathbf{x}^{(i)})||p_{\\theta}(\\mathbf{z})\\right) \\tag{4}\n",
        "\\end{equation}\n",
        "\n",
        "> **Nota**: El supuesto de que $p_{\\theta}(\\mathbf{x}|\\mathbf{z}) \\approx p_{\\theta^{*}}(\\mathbf{x}|\\mathbf{z})$ es bastante fuerte puesto que nada más allá del propio proceso de optimización ofrece alguna garantía de que esto sea así efectivamente."
      ]
    },
    {
      "cell_type": "markdown",
      "metadata": {
        "id": "wy0LZMdwNZMT",
        "colab_type": "text"
      },
      "source": [
        "Usualmente, al tratarse de esperanzas, estos términos son difíciles de tratar en forma eficiente, más aún si no se tiene acceso en forma directa a $p_{\\theta}(\\mathbf{x^{(i)}}|z)$ ni a $q_{\\phi}(\\mathbf{z}|\\mathbf{x^{(i)}})$ ni tampoco a muestras de $\\mathbf{Z}$ que permitan alguna estimación empírica de las esperanzas.\n",
        "\n",
        "No obstante, bajo supuestos sobre la \"forma\" de estas distribuciones es posible:\n",
        "\n",
        "* Calcular en forma cerrada la verosimilitud de $\\mathbf{x^{(i)}}$.\n",
        "* Muestrear la variable latente (en forma condicional a $\\mathbf{x^{(i)}}$) gracias al  ***Reparametrization Trick***."
      ]
    },
    {
      "cell_type": "markdown",
      "metadata": {
        "id": "Tqhp8mJgNZ1u",
        "colab_type": "text"
      },
      "source": [
        "##### *Reparametrization Trick*"
      ]
    },
    {
      "cell_type": "markdown",
      "metadata": {
        "id": "_1RhHG37NcBO",
        "colab_type": "text"
      },
      "source": [
        "El *Reparametrization Trick* cosiste en reparametrizar la variable aleatoria latente $\\mathbf{Z}$ como una función determinística de dos variables aleatorias: la variable $\\mathbf{X}$ y un ruido aleatorio $\\epsilon$ con recorrido en $\\xi$. Esta función $g_{\\phi}(\\mathbf{x},\\epsilon)$ es diferenciable respecto a los parámetros $\\phi$ del *encoder*, con lo cual es posible tanto muestrear (a partir de muestrear $\\mathbf{X}$ y $\\epsilon$) y propagar los gradientes a través de la red para actualizar dichos parámetros. Formalmente, la función $g_{\\phi}(\\mathbf{x},\\epsilon)$ es tal que:\n",
        "\n",
        "\\begin{equation}\n",
        "  \\begin{split}\n",
        "    g_{\\phi} : &\\mathcal{X} \\times \\xi \\to \\mathcal{Z}\\\\\n",
        "               &\\mathbf{x}, \\epsilon \\to \\mathbf{z} = g_{\\phi}(\\mathbf{x},\\epsilon), \\hspace{5mm} \\epsilon \\sim p(\\epsilon)\n",
        "  \\end{split}\n",
        "\\end{equation}\n",
        "\n",
        "y se satisface en consecuencia que $\\mathbf{z} = g_{\\phi}(\\mathbf{x},\\epsilon) \\sim q_{\\phi}(\\mathbf{z}|\\mathbf{x})$.\n",
        "\n",
        "Naturalmente, la elección de $g_{\\phi}$ y $p(\\epsilon)$ condiciona la forma de $q_{\\phi}(\\mathbf{z}|\\mathbf{x})$. Para variables aleatorias contínuas, pensemos en una distribución Gaussiana. Si $q_{\\phi}(\\mathbf{z}|\\mathbf{x})$ es Gaussiana su media y su varianza son (en principio) funciones de $\\mathbf{x}$, es decir\n",
        "\n",
        "\\begin{equation}\n",
        "  q_{\\phi}(\\mathbf{z}|\\mathbf{x}) = \\mathcal{N}(\\mathbf{z};\\mu_{\\mathbf{z}}(\\mathbf{x}), \\Sigma_{\\mathbf{z}}(\\mathbf{x}))\n",
        "\\end{equation}\n",
        "\n",
        "y si, en forma más \"restrictiva\", $\\mathbf{z}$ es un vector aleatorio con componentes descorrelacionadas:\n",
        "\n",
        "\\begin{equation}\n",
        "  q_{\\phi}(\\mathbf{z}|\\mathbf{x}) = \\mathcal{N}(\\mathbf{z};\\mu_{\\mathbf{z}}(\\mathbf{x}),\\sigma_{\\mathbf{z}}^{2}(\\mathbf{x})I)\n",
        "\\end{equation}\n",
        "\n",
        "Eligiendo entonces\n",
        "\n",
        "\\begin{equation}\n",
        "  g_{\\phi}(\\mathbf{x},\\epsilon) = \\mu_{\\mathbf{z}}(\\mathbf{x}) + \\sigma_{\\mathbf{z}}(\\mathbf{x}) \\odot \\epsilon, \\hspace{5mm} \\epsilon \\sim \\mathcal{N}(\\epsilon,0,I)\n",
        "\\end{equation}\n",
        "\n",
        "se satisface la condición deseada. Notar que la operación $\\odot$ denota el producto punto a punto entre dos vectores.\n",
        "\n",
        "En forma más conceptual se puede decir que lo que hace el *Reparametrization Trick* es escalar y trasladar un ruido $\\epsilon$ de modo que estadísticamente se comporte como una variable aleatoria Gaussiana de parámetros $\\mu_{\\mathbf{z}}(\\mathbf{x}), \\Sigma_{\\mathbf{z}}(\\mathbf{x})$."
      ]
    },
    {
      "cell_type": "markdown",
      "metadata": {
        "id": "NoYP-r5pNiWe",
        "colab_type": "text"
      },
      "source": [
        "###### Demostración"
      ]
    },
    {
      "cell_type": "markdown",
      "metadata": {
        "id": "30UZtQrkNj1W",
        "colab_type": "text"
      },
      "source": [
        "Según el *Reparametrization Trick* se tiene que\n",
        "\n",
        "\\begin{equation}\n",
        "  \\begin{split}\n",
        "    q_{\\phi}(\\mathbf{z}|\\mathbf{x})d\\mathbf{z} &= q_{\\phi}(\\mathbf{z}|\\mathbf{x})\\prod_{j=1}^{J}dz_{j} \\\\\n",
        "    &= p(\\epsilon)\\prod_{j=1}^{J}d\\epsilon_{j} \\\\\n",
        "    &= p(\\epsilon)d\\epsilon\n",
        "  \\end{split}\n",
        "\\end{equation}\n",
        "\n",
        "Luego, para la media de $\\mathbf{Z}$\n",
        "\n",
        "\\begin{equation}\n",
        "  \\begin{split}\n",
        "    \\mathbb{E}_{\\mathbf{Z} \\sim q_{\\phi}(\\mathbf{z}|\\mathbf{x})}\\left\\{\\mathbf{z}\\right\\} &= \\int_{\\mathcal{Z}}\\mathbf{z}q_{\\phi}(\\mathbf{z}|\\mathbf{x})d\\mathbf{z} \\\\\n",
        "    &= \\int_{\\mathbb{R}^{J}}g_{\\phi}(\\mathbf{x},\\epsilon)p(\\epsilon)d\\epsilon \\\\\n",
        "    &= \\int_{\\mathbb{R}^{J}}(\\mu_{\\mathbf{z}}(\\mathbf{x}) + \\sigma_{\\mathbf{z}}(\\mathbf{x}) \\odot \\epsilon)p(\\epsilon)d\\epsilon \\\\\n",
        "    &= \\mu_{\\mathbf{z}}(\\mathbf{x}) + \\sigma_{\\mathbf{z}}(\\mathbf{x}) \\odot \\int_{\\mathbb{R}^{J}}\\epsilon p(\\epsilon)d\\epsilon \\\\\n",
        "    &= \\mu_{\\mathbf{z}}(\\mathbf{x})\n",
        "  \\end{split}\n",
        "\\end{equation}\n",
        "\n",
        "y para su varianza\n",
        "\n",
        "\\begin{equation}\n",
        "  \\begin{split}\n",
        "    Var_{\\mathbf{Z} \\sim q_{\\phi}(\\mathbf{z}|\\mathbf{x})}(\\mathbf{z}) &= \\mathbb{E}_{\\mathbf{Z} \\sim q_{\\phi}(\\mathbf{z}|\\mathbf{x})}\\left\\{(\\mathbf{z} - \\mu_{\\mathbf{z}}(\\mathbf{x}))^{2}\\right\\} \\\\\n",
        "    &= \\int_{\\mathcal{Z}}(\\mathbf{z} - \\mu_{\\mathbf{z}}(\\mathbf{x}))^{2}q_{\\phi}(\\mathbf{z}|\\mathbf{x})d\\mathbf{z} \\\\\n",
        "    &= \\int_{\\mathbb{R}^{J}}(g_{\\phi}(\\mathbf{x},\\epsilon) - \\mu_{\\mathbf{z}}(\\mathbf{x}))^{2}p(\\epsilon)d\\epsilon \\\\\n",
        "    &= \\int_{\\mathbb{R}^{J}}(\\mu_{\\mathbf{z}}(\\mathbf{x}) + \\sigma_{\\mathbf{z}}(\\mathbf{x}) \\odot \\epsilon - \\mu_{\\mathbf{z}}(\\mathbf{x}))^{2}p(\\epsilon)d\\epsilon \\\\\n",
        "    &= \\int_{\\mathbb{R}^{J}}\\sigma_{\\mathbf{z}}^{2}(\\mathbf{x}) \\odot \\epsilon^{2}p(\\epsilon)d\\epsilon \\\\\n",
        "    &= \\sigma_{\\mathbf{z}}^{2}(\\mathbf{x}) \\odot \\int_{\\mathbb{R}^{J}}\\epsilon^{2}p(\\epsilon)d\\epsilon \\\\\n",
        "    &= \\sigma_{\\mathbf{z}}^{2}(\\mathbf{x})I\n",
        "  \\end{split}\n",
        "\\end{equation}\n",
        "\n",
        "Finalmente, como una distribución Gaussiana está caracterizada completamente por su media y su varianza se concluye que $q_{\\phi}(\\mathbf{z}|\\mathbf{x}) = \\mathcal{N}(\\mathbf{z};\\mu_{\\mathbf{z}}(\\mathbf{x}),\\sigma_{\\mathbf{z}}^{2}(\\mathbf{x})I)$"
      ]
    },
    {
      "cell_type": "markdown",
      "metadata": {
        "id": "Lz64lTPsNrIG",
        "colab_type": "text"
      },
      "source": [
        "###### Y luego..."
      ]
    },
    {
      "cell_type": "markdown",
      "metadata": {
        "id": "jlvwyndINrq3",
        "colab_type": "text"
      },
      "source": [
        "Bajo este tipo de supuestos es posible muestrear la variable aleatoria latente para cada punto en $\\mathcal{X}$, es decir (y en particular) $\\forall \\mathbf{x}^{(i)} \\in \\left\\{\\mathbf{x}^{(i)}\\right\\}_{i=1}^{N}$ se puede muestrear un conjunto $\\left\\{\\mathbf{z}^{(i,l)}:\\mathbf{z}^{(i,l)} \\sim q_{\\phi}(\\mathbf{z}|\\mathbf{x}^{(i)})\\right\\}_{l=1}^{L}$, con lo cual es posible aproximar dicha distribución condicional en forma empírica según\n",
        "\n",
        "\\begin{equation}\n",
        "  q_{\\phi}(\\mathbf{z}|\\mathbf{x}^{(i)}) \\approx \\frac{1}{L}\\sum_{l=1}^{L}\\delta_{\\mathbf{z}^{(i,l)}}(\\mathbf{z}) \\tag{5}\n",
        "\\end{equation}\n",
        "\n",
        "y por ende\n",
        "\n",
        "\\begin{equation}\n",
        "  \\begin{split}\n",
        "    \\mathbb{E}_{\\mathbf{Z} \\sim q_{\\phi}(\\mathbf{z}|\\mathbf{x}^{(i)})}\\left\\{\\log p_{\\theta}(\\mathbf{x}^{(i)}|\\mathbf{z})\\right\\} &= \\int_{\\mathcal{Z}}\\log p_{\\theta}(\\mathbf{x}^{(i)}|\\mathbf{z})q_{\\phi}(\\mathbf{z}|\\mathbf{x}^{(i)})d\\mathbf{z} \\\\\n",
        "    &\\approx \\int_{\\mathcal{Z}}\\log p_{\\theta}(\\mathbf{x}^{(i)}|\\mathbf{z}) \\frac{1}{L}\\sum_{l=1}^{L}\\delta_{\\mathbf{z}^{(i,l)}}(\\mathbf{z})d\\mathbf{z} \\\\\n",
        "    &= \\frac{1}{L}\\sum_{l=1}^{L}\\log p_{\\theta}(\\mathbf{x}^{(i)}|\\mathbf{z}^{(i,l)})\n",
        "  \\end{split}\n",
        "\\end{equation}\n",
        "\n",
        "Luego, esta esperanza aproximada se puede reemplazar en la expresión para el funcional $\\mathcal{L}(\\phi,\\theta,\\mathbf{x}^{(i)})$ de la ecuación $(4)$ que acota la *log-likelihood* marginal del punto $\\mathbf{x}^{(i)}$:\n",
        "\n",
        "\\begin{equation}\n",
        "  \\begin{split}\n",
        "    \\log p_{\\theta^{*}}(\\mathbf{x}^{(i)}) &\\geq \\mathcal{L}(\\phi,\\theta,\\mathbf{x}^{(i)}) \\\\\n",
        "    &= \\frac{1}{L}\\sum_{l=1}^{L}\\log p_{\\theta}(\\mathbf{x}^{(i)}|\\mathbf{z}^{(i,l)}) - KL\\left(q_{\\phi}(\\mathbf{z}|\\mathbf{x}^{(i)})||p_{\\theta}(\\mathbf{z})\\right)\n",
        "  \\end{split} \\tag{6}\n",
        "\\end{equation}\n",
        "\n",
        "El hecho de haber utilizado el *Reparametrization Trick* nos permite, además, tratar en forma cerrada la divergencia que aparece en el segundo termino de este funcional, dado un *prior* $p_{\\theta}(\\mathbf{z})$. Esto es así pues en el proceso se asumió la forma de la distribución $q_{\\phi}(\\mathbf{z}|\\mathbf{x})$\n",
        "\n",
        "\\begin{equation}\n",
        "  \\begin{split}\n",
        "    KL\\left(q_{\\phi}(\\mathbf{z}|\\mathbf{x}^{(i)})||p_{\\theta}(\\mathbf{z})\\right) &= \\int_{\\mathcal{Z}}q_{\\phi}(\\mathbf{z}|\\mathbf{x}^{(i)}) \\log \\frac{q_{\\phi}(\\mathbf{z}|\\mathbf{x}^{(i)})}{p_{\\theta}(\\mathbf{z})}d\\mathbf{z} \\\\\n",
        "    &= \\int_{\\mathcal{Z}}q_{\\phi}(\\mathbf{z}|\\mathbf{x}^{(i)})\\log q_{\\phi}(\\mathbf{z}|\\mathbf{x}^{(i)})d\\mathbf{z} - \\int_{\\mathcal{Z}}q_{\\phi}(\\mathbf{z}|\\mathbf{x}^{(i)})\\log p_{\\theta}(\\mathbf{z})d\\mathbf{z} \\\\\n",
        "    &\\triangleq I_{1} - I_{2}\n",
        "  \\end{split} \\tag{7}\n",
        "\\end{equation}\n",
        "\n",
        "Resolviendo primeramente para la integral $I_{1}$:\n",
        "\n",
        "> \\begin{equation}\n",
        "    \\begin{split}\n",
        "      I_{1} &= \\int_{\\mathcal{Z}}q_{\\phi}(\\mathbf{z}|\\mathbf{x}^{(i)}) \\log q_{\\phi}(\\mathbf{z}|\\mathbf{x}^{(i)})d\\mathbf{z} \\\\\n",
        "      &= \\int_{\\mathbb{R}^{J}}q_{\\phi}(\\mathbf{z}|\\mathbf{x}^{(i)})\\log \\left((2\\pi)^{\\frac{-J}{2}} \\cdot |\\Sigma_{\\mathbf{z}}(\\mathbf{x}^{(i)})|^{\\frac{-1}{2}} \\cdot \\exp\\left(-\\frac{1}{2}(\\mathbf{z} - \\mu_{\\mathbf{z}}(\\mathbf{x}^{(i)}))^{\\intercal}\\Sigma_{\\mathbf{z}}^{-1}(\\mathbf{x}^{(i)})(\\mathbf{z} - \\mu_{\\mathbf{z}}(\\mathbf{x}^{(i)}))\\right)\\right)d\\mathbf{z}\n",
        "    \\end{split}\n",
        "  \\end{equation}\n",
        "\n",
        "> Si, como se dijo anteriormente, se considera que $\\Sigma_{\\mathbf{z}}(\\mathbf{x}^{(i)})$ es una matriz diagonal es posible reducir esta expresión fácilmente:\n",
        "\n",
        "> \\begin{equation}\n",
        "    \\begin{split}\n",
        "      I_{1} &= \\int_{\\mathbb{R}^{J}}q_{\\phi}(\\mathbf{z}|\\mathbf{x}^{(i)})\\left[\\log \\left((2\\pi)^{\\frac{-J}{2}} \\cdot \\left(\\prod_{j=1}^{J}\\sigma_{z_{j}}^{2}(\\mathbf{x}^{(i)})\\right)^{\\frac{-1}{2}}\\right) + -\\frac{1}{2}\\sum_{j=1}^{J}\\frac{(z_{j} - \\mu_{z_{j}}(\\mathbf{x}^{(i)}))^{2}}{\\sigma_{z_{j}}^{2}(\\mathbf{x}^{(i)})}\\right]d\\mathbf{z} \\\\\n",
        "      &= \\left(-\\frac{J}{2}\\log 2\\pi + -\\frac{1}{2}\\sum_{j=1}^{J}\\log \\sigma_{z_{j}}^{2}(\\mathbf{x}^{(i)})\\right)\\int_{\\mathbb{R}^{J}}q_{\\phi}(\\mathbf{z}|\\mathbf{x}^{(i)})d\\mathbf{z} + -\\frac{1}{2}\\int_{\\mathbb{R}^{J}}q_{\\phi}(\\mathbf{z}|\\mathbf{x}^{(i)})\\sum_{j=1}^{J}\\frac{(z_{j} - \\mu_{z_{j}}(\\mathbf{x}^{(i)}))^{2}}{\\sigma_{z_{j}}^{2}(\\mathbf{x}^{(i)})}d\\mathbf{z} \\\\\n",
        "      &= -\\frac{J}{2}\\log 2\\pi + -\\frac{1}{2}\\sum_{j=1}^{J}\\log \\sigma_{z_{j}}^{2}(\\mathbf{x}^{(i)}) + -\\frac{1}{2}\\sum_{j=1}^{J}\\frac{\\int_{\\mathbb{R}}q_{\\phi}(z_{j}|\\mathbf{x}^{(i)})(z_{j} - \\mu_{z_{j}}(\\mathbf{x}^{(i)}))^{2}dz_{j}}{\\sigma_{z_{j}}^{2}(\\mathbf{x}^{(i)})} \\\\\n",
        "      &= -\\frac{J}{2}\\log 2\\pi + -\\frac{1}{2}\\sum_{j=1}^{J}\\log \\sigma_{z_{j}}^{2}(\\mathbf{x}^{(i)}) + -\\frac{1}{2}\\sum_{j=1}^{J}\\frac{\\sigma_{z_{j}}^{2}(\\mathbf{x}^{(i)})}{\\sigma_{z_{j}}^{2}(\\mathbf{x}^{(i)})} \\\\\n",
        "      &= -\\frac{J}{2}\\log 2\\pi + -\\frac{1}{2}\\sum_{j=1}^{J}1 + \\log \\sigma_{z_{j}}^{2}(\\mathbf{x}^{(i)})\n",
        "    \\end{split} \\tag{8}\n",
        "  \\end{equation}\n",
        "\n",
        ">> **Nota**: Para el caso más general puede ser útil este [enlace](https://sgfin.github.io/2017/03/11/Deriving-the-information-entropy-of-the-multivariate-gaussian/).\n",
        "\n",
        "Como bien se dijo anteriormente, para resolver analíticamente esta divergencia es necesario introducir un *prior* $p_{\\theta}(\\mathbf{z})$. Si se elige $p_{\\theta}(\\mathbf{z}) = \\mathcal{N}(\\mathbf{z}; 0, I)$, la integral $I_{2}$ se resuelve como:\n",
        "\n",
        "> \\begin{equation}\n",
        "    \\begin{split}\n",
        "      I_{2} &= \\int_{\\mathcal{Z}}q_{\\phi}(\\mathbf{z}|\\mathbf{x}^{(i)}) \\log p_{\\theta}(\\mathbf{z}) d\\mathbf{z} \\\\\n",
        "      &= \\int_{\\mathbb{R}^{J}}q_{\\phi}(\\mathbf{z}|\\mathbf{x}^{(i)}) \\log \\left((2\\pi)^{\\frac{-J}{2}} \\cdot |I|^{\\frac{-1}{2}} \\cdot \\exp \\left(-\\frac{1}{2}\\mathbf{z}^{\\intercal}I^{-1}\\mathbf{z}\\right)\\right) d\\mathbf{z} \\\\\n",
        "      &= \\int_{\\mathbb{R}^{J}}q_{\\phi}(\\mathbf{z}|\\mathbf{x}^{(i)}) \\log \\left((2\\pi)^{\\frac{-J}{2}} \\cdot \\prod_{j=1}^{J}1 \\cdot \\exp \\left(-\\frac{1}{2}\\mathbf{z}^{\\intercal}\\mathbf{z}\\right)\\right) d\\mathbf{z} \\\\\n",
        "      &= \\int_{\\mathbb{R}^{J}}q_{\\phi}(\\mathbf{z}|\\mathbf{x}^{(i)}) \\left[-\\frac{J}{2}\\log 2\\pi + -\\frac{1}{2}\\sum_{j=1}^{J}\\log 1 + -\\frac{1}{2}\\mathbf{z}^{\\intercal}\\mathbf{z}\\right] d\\mathbf{z} \\\\\n",
        "      &= -\\frac{J}{2}\\log 2\\pi + -\\frac{1}{2}\\int_{\\mathbb{R}^{J}}q_{\\phi}(\\mathbf{z}|\\mathbf{x}^{(i)})\\sum_{j=1}^{J}z_{j}^{2} d\\mathbf{z} \\\\\n",
        "      &= -\\frac{J}{2}\\log 2\\pi + -\\frac{1}{2}\\sum_{j=1}^{J}\\int_{\\mathbb{R}}z_{j}^{2}q_{\\phi}(z_{j}|\\mathbf{x}^{(i)}) dz_{j} \\\\\n",
        "      &= -\\frac{J}{2}\\log 2\\pi + -\\frac{1}{2}\\sum_{j=1}^{J}\\mu_{z_{j}}^{2}(\\mathbf{x}^{(i)}) + \\sigma_{z_{j}}^{2}(\\mathbf{x}^{(i)}) \n",
        "    \\end{split} \\tag{9}\n",
        "  \\end{equation}\n",
        "\n",
        "Finalmente, reemplazamos ambas integrales ($(8)$ y $(9)$) en la expresión de la ecuación $(7)$, con lo cual\n",
        "\n",
        "\\begin{equation}\n",
        "  \\begin{split}\n",
        "    KL\\left(q_{\\phi}(\\mathbf{z}|\\mathbf{x}^{(i)})||p_{\\theta}(\\mathbf{z})\\right) &= -\\frac{J}{2}\\log 2\\pi + -\\frac{1}{2}\\sum_{j=1}^{J}1 + \\log \\sigma_{z_{j}}^{2}(\\mathbf{x}^{(i)}) - \\left(-\\frac{J}{2}\\log 2\\pi + -\\frac{1}{2}\\sum_{j=1}^{J}\\mu_{z_{j}}^{2}(\\mathbf{x}^{(i)}) + \\sigma_{z_{j}}^{2}(\\mathbf{x}^{(i)})\\right) \\\\\n",
        "    &= -\\frac{1}{2}\\sum_{j=1}^{J}1+\\log \\sigma_{z_{j}}^{2}(\\mathbf{x}^{(i)}) - \\mu_{z_{j}}^{2}(\\mathbf{x}^{(i)}) - \\sigma_{z_{j}}^{2}(\\mathbf{x}^{(i)})\n",
        "  \\end{split} \\tag{10}\n",
        "\\end{equation}\n",
        "\n",
        "Con esto, el funcional $\\mathcal{L}(\\phi,\\theta,\\mathbf{x}^{(i)})$ se puede escribir como\n",
        "\n",
        "\\begin{equation}\n",
        "  \\mathcal{L}(\\phi,\\theta,\\mathbf{x}^{(i)}) = \\frac{1}{L}\\sum_{l=1}^{L}\\log p_{\\theta}(\\mathbf{x}^{(i)}|\\mathbf{z}^{(i,l)}) + \\frac{1}{2}\\sum_{j=1}^{J}1 + \\log \\sigma_{z_{j}}^{2}(\\mathbf{x}^{(i)}) - \\mu_{z_{j}}^{2}(\\mathbf{x}^{(i)}) - \\sigma_{z_{j}}^{2}(\\mathbf{x}^{(i)}) \\tag{11}\n",
        "\\end{equation}\n",
        "\n",
        "De la misma forma que establecer es supuesto de Gaussianidad sobre el *encoder* permite encontrar en forma cerrada una expresión para la divergencia $KL\\left(q_{\\phi}(\\mathbf{z}|\\mathbf{x}^{(i)}||p_{\\theta}(\\mathbf{z}))\\right)$, es posible hacer supuestos sobre el *decoder* para tratar el término $\\log p_{\\theta}(\\mathbf{x}^{(i)}|\\mathbf{z}^{(i,l)})$.\n",
        "\n",
        "Para un *decoder* Gaussiano que parametriza $\\mathbf{x}$ por la media $\\mu_{\\mathbf{x}}(\\mathbf{z})$ y la varianza $\\Sigma_{\\mathbf{x}}(\\mathbf{z})$ es posible escribir la *log-likelihood* como sigue:\n",
        "\n",
        "\\begin{equation}\n",
        "  \\begin{split}\n",
        "    \\log p_{\\theta}(\\mathbf{x}^{(i)}|\\mathbf{z}^{(i,l)}) &= \\log \\left(\\mathcal{N}(\\mathbf{x}^{(i)};\\mu_{\\mathbf{x}}(\\mathbf{z}^{(i,l)})), \\Sigma_{\\mathbf{x}}(\\mathbf{z}^{(i,l)})\\right) \\\\\n",
        "    &= \\log \\left((2\\pi)^{\\frac{-K}{2}} \\cdot |\\Sigma_{\\mathbf{x}}(\\mathbf{z}^{(i,l)})|^{\\frac{-1}{2}} \\cdot \\exp \\left(-\\frac{1}{2}(\\mathbf{x}^{(i)} - \\mu_{\\mathbf{x}}(\\mathbf{z}^{(i,l)}))^{\\intercal} \\Sigma_{\\mathbf{x}}^{-1}(\\mathbf{z}^{(i,l)})(\\mathbf{x}^{(i)} - \\mu_{\\mathbf{x}}(\\mathbf{z}^{(i,l)}))\\right)\\right) \\\\\n",
        "    &= -\\frac{K}{2}\\log 2\\pi + -\\frac{1}{2}\\log |\\Sigma_{\\mathbf{x}}(\\mathbf{z}^{(i,l)})| + -\\frac{1}{2}(\\mathbf{x}^{(i)} - \\mu_{\\mathbf{x}}(\\mathbf{z}^{(i,l)}))^{\\intercal}\\Sigma_{\\mathbf{x}}^{-1}(\\mathbf{z}^{(i,l)})(\\mathbf{x}^{(i)} - \\mu_{\\mathbf{x}}(\\mathbf{z}^{(i,l)}))\n",
        "  \\end{split} \\tag{12}\n",
        "\\end{equation}\n",
        "\n",
        "Si nuevamente se asume descorrelación entre las distintas componentes de $\\mathbf{X}$, la expresión anterior se reduce a:\n",
        "\n",
        "\\begin{equation}\n",
        "  \\begin{split}\n",
        "    \\log p_{\\theta}(\\mathbf{x}^{(i)}|\\mathbf{z}^{(i,l)}) &= -\\frac{K}{2} \\log 2\\pi + -\\frac{1}{2}\\log \\prod_{k=1}^{K}\\sigma_{x_{k}}^{2}(\\mathbf{z}^{(i,l)}) + -\\frac{1}{2}\\sum_{k=1}^{K}\\frac{(x_{k}^{(i)} - \\mu_{x_{k}}(\\mathbf{z}^{(i,l)}))^{2}}{\\sigma_{x_{k}}^{2}(\\mathbf{z}^{(i,l)})} \\\\\n",
        "    &= -\\frac{K}{2}\\log 2\\pi + -\\frac{1}{2}\\sum_{k=1}^{K}\\log \\sigma_{x_{k}}^{2}(\\mathbf{z}^{(i,l)}) + -\\frac{1}{2}\\sum_{k=1}^{K}\\frac{(x_{k}^{(i)} - \\mu_{x_{k}}(\\mathbf{z}^{(i,l)}))^{2}}{\\sigma_{x_{k}}^{2}(\\mathbf{z}^{(i,l)})} \\\\\n",
        "    &= -\\frac{K}{2}\\log 2\\pi + -\\frac{1}{2}\\sum_{k=1}^{K}\\log\\sigma_{x_{k}}^{2}(\\mathbf{z}^{(i,l)}) + \\frac{(x_{k}^{(i)} - \\mu_{x_{k}}(\\mathbf{z}^{(i,l)}))^{2}}{\\sigma_{x_{k}}^{2}(\\mathbf{z}^{(i,l)})}\n",
        "  \\end{split} \\tag{13}\n",
        "\\end{equation}\n",
        "\n",
        "Así, el funcional de costo por cada punto $\\mathbf{x}^{(i)}$ de las ecuaciones $(4)$ y $(11)$ resulta en:\n",
        "\n",
        "\\begin{equation}\n",
        "  \\begin{split}\n",
        "    \\mathcal{L}(\\phi,\\theta,\\mathbf{x}^{(i)}) &= \\frac{1}{L}\\sum_{l=1}^{L}\\left[-\\frac{K}{2}\\log 2\\pi + -\\frac{1}{2}\\sum_{k=1}^{K}\\log\\sigma_{x_{k}}^{2}(\\mathbf{z}^{(i,l)}) + \\frac{(x_{k}^{(i)} - \\mu_{x_{k}}(\\mathbf{z}^{(i,l)}))^{2}}{\\sigma_{x_{k}}^{2}(\\mathbf{z}^{(i,l)})}\\right] \\\\\n",
        "  &\\hspace{5mm} + \\frac{1}{2}\\sum_{j=1}^{J}1 + \\log \\sigma_{z_{j}}^{2}(\\mathbf{x}^{(i)}) - \\mu_{z_{j}}^{2}(\\mathbf{x}^{(i)}) - \\sigma_{z_{j}}^{2}(\\mathbf{x}^{(i)})\n",
        "  \\end{split} \\tag{14}\n",
        "\\end{equation}\n",
        "\n",
        "Otro aspecto a considerar es que, a diferencia de muchos otros modelos de *Deep Learning*, el entrenamiento de este modelo por medio de *batches* no es sobre la esperanza de la función de pérdida $\\mathcal{L}(\\phi,\\theta,\\mathbf{x})$. \n",
        "\n",
        "Para verificar esto consideremos un *batch* de $M \\leq N$ muestras de $X$, es decir $\\left\\{\\mathbf{x}^{(i)}\\right\\}_{i=1}^{M} \\subseteq \\mathcal{X}$. La *log-likelihood* marginal de este conjunto de datos está dada por:\n",
        "\n",
        "\\begin{equation}\n",
        "  \\begin{split}\n",
        "    \\log p_{\\theta^{*}}(\\mathbf{x}^{(1)},\\dots,\\mathbf{x}^{(M)}) &= \\log\\prod_{i=1}^{M}p(\\mathbf{x}^{(i)}) \\\\\n",
        "    &= \\sum_{i=1}^{M}\\log p(\\mathbf{x}^{(i)}) \\\\\n",
        "    &\\geq \\sum_{i=1}^{M}\\mathcal{L}(\\phi,\\theta,\\mathbf{x}^{(i)})\n",
        "  \\end{split} \\tag{15}\n",
        "\\end{equation}\n",
        "\n",
        "De esta forma podemos, finalmente, generalizar la función de pérdida para entrenar la red del *Autoencoder* Variacional:\n",
        "\n",
        "\\begin{equation}\n",
        "  \\begin{split}\n",
        "    \\mathcal{L}\\left(\\phi,\\theta,\\{\\mathbf{x}^{(i)}\\}_{i=1}^{M}\\right) &\\triangleq \\sum_{i=1}^{M}\\mathcal{L}(\\phi,\\theta,\\mathbf{x}^{(i)}) \\\\\n",
        "    &= \\sum_{i=1}^{M}\\Bigg[\\frac{1}{L}\\sum_{l=1}^{L}-\\frac{K}{2}\\log 2\\pi + -\\frac{1}{2}\\sum_{k=1}^{K}\\log\\sigma_{x_{k}}^{2}(\\mathbf{z}^{(i,l)}) + \\frac{(x_{k}^{(i)} - \\mu_{x_{k}}(\\mathbf{z}^{(i,l)}))^{2}}{\\sigma_{x_{k}}^{2}(\\mathbf{z}^{(i,l)})} \\\\\n",
        "    &\\hspace{17mm} + \\frac{1}{2}\\sum_{j=1}^{J}1 + \\log \\sigma_{z_{j}}^{2}(\\mathbf{x}^{(i)}) - \\mu_{z_{j}}^{2}(\\mathbf{x}^{(i)}) - \\sigma_{z_{j}}^{2}(\\mathbf{x}^{(i)})\\Bigg]\n",
        "  \\end{split} \\tag{16}\n",
        "\\end{equation}\n",
        "\n",
        "> **Nota**: Recordar que el objetivo es **maximizar**  este funcional de costo. Dado que los optimizadores usualmente están pensados para **minimizar** funciones de costo debemos implementar el negativo de este funcional."
      ]
    },
    {
      "cell_type": "markdown",
      "metadata": {
        "id": "TfRJEnMdNyF5",
        "colab_type": "text"
      },
      "source": [
        "Finalmente, nuestro modelo de *Autoencoder* Variacional se ve en la práctica como en el siguiente esquema:\n",
        "\n",
        "$\\hspace{0mm}$\n",
        "\n",
        "![texto alternativo](https://drive.google.com/uc?id=1MDJf3j2Z2jh6zSoWNQDP1EUKjLn9u1zC)"
      ]
    },
    {
      "cell_type": "markdown",
      "metadata": {
        "id": "EQ2sOS8uwP0W",
        "colab_type": "text"
      },
      "source": [
        "#### 2.2.2.- Experimentos"
      ]
    },
    {
      "cell_type": "code",
      "metadata": {
        "id": "22kutfkxwe_o",
        "colab_type": "code",
        "colab": {}
      },
      "source": [
        "class VAE(nn.Module):\n",
        "  '''Variational Autoencoder model with Gaussian Encoder and Decoder'''\n",
        "  def __init__(self, zDim, sampling = 1):\n",
        "    super(VAE, self).__init__()\n",
        "    self.sampling = sampling\n",
        "    hDim = 1500\n",
        "\n",
        "    ## Encoder\n",
        "    self.fc1 = nn.Sequential(nn.Linear(784, hDim),\n",
        "                             nn.ReLU())             ## Nonlinear layer\n",
        "    \n",
        "    self.encoder_mu = nn.Linear(hDim, zDim)         ## Encoder for mu\n",
        "    self.encoder_logvar = nn.Linear(hDim, zDim)     ## Encoder for log-variance                              \n",
        "\n",
        "    ## Decoder\n",
        "    self.fc2 = nn.Sequential(nn.Linear(zDim, hDim),\n",
        "                             nn.ReLU())         ## Nonlinear layer\n",
        "    \n",
        "    self.decoder_mu = nn.Linear(hDim, 784)          ## Decoder for mu\n",
        "    self.decoder_logvar = nn.Linear(hDim, 784)      ## Decoder for log-variance\n",
        "\n",
        "\n",
        "  def encode(self, x):\n",
        "    '''Make inferece of the latent variables Z for X'''\n",
        "    x = self.fc1(x)\n",
        "    mu = self.encoder_mu(x)\n",
        "    logvar = self.encoder_logvar(x)\n",
        "    return mu, logvar\n",
        "\n",
        "  def reparametrize(self, mu, logvar):\n",
        "    '''Reparametrization is required for aproximating expectations during\n",
        "    training'''\n",
        "    L = self.sampling\n",
        "    sigma = torch.exp(0.5 * logvar)\n",
        "    if not self.training:\n",
        "      L = 1\n",
        "    epsilon = torch.randn(list(mu.shape)+[L]).cuda()\n",
        "    mu = mu.view(list(mu.shape)+[1])\n",
        "    sigma = sigma.view(list(sigma.shape)+[1])\n",
        "    z = mu + sigma * epsilon \n",
        "    z_ = z.permute(0,2,1)\n",
        "    return z_\n",
        "\n",
        "  def decode(self, z):\n",
        "    '''Reconstruct X from the latent space variables'''\n",
        "    z = self.fc2(z)\n",
        "    mu = self.decoder_mu(z)\n",
        "    logvar = self.decoder_logvar(z)\n",
        "    return mu, logvar\n",
        "\n",
        "  def forward(self, x):\n",
        "    mu_z, logvar_z = self.encode(x)\n",
        "    z = self.reparametrize(mu_z, logvar_z)\n",
        "\n",
        "    mu_x, logvar_x = self.decode(z)\n",
        "    return mu_z, logvar_z, mu_x, logvar_x\n",
        "\n",
        "  def VAELoss(self, x, mu_z, logvar_z, mu_x, logvar_x):\n",
        "    '''Caculate the loss for VAE with Gaussian Encoder and Decoder'''\n",
        "    K = x.shape[-1]           ## Get dimensionality of X (since it's flattened)\n",
        "    L = self.sampling         ## Number of samples to take for each value x\n",
        "    \n",
        "    var_z = torch.exp(0.5 * logvar_z)\n",
        "    var_x = torch.exp(0.5 * logvar_x)\n",
        "    \n",
        "    ## Sum over J\n",
        "    Jterm = 1 + torch.log(var_z) - (mu_z ** 2) - var_z\n",
        "    Jterm = 0.5 * Jterm.sum(axis = -1).reshape(-1)   ## Get rid of \"extra\"\n",
        "                                                     ## dimension\n",
        "    ## Sum over K\n",
        "    Kterm = torch.log(var_x) + (((x - mu_x) ** 2) / var_x)\n",
        "    Kterm = 0.5 * Kterm.sum(axis = -1)\n",
        "    \n",
        "    ## Sum over L\n",
        "    Kterm =  -0.5 * K * np.log(2 * np.pi) - Kterm\n",
        "    Lterm =  Kterm.sum(axis = -1) / L\n",
        "\n",
        "    ## Sum over M\n",
        "    Mterm = Lterm + Jterm\n",
        "    loss = Mterm.sum()\n",
        "\n",
        "    return loss\n",
        "\n",
        "def fVAELoss(x, mu_z, logvar_z, mu_x, logvar_x, sampling = 1):\n",
        "  '''Caculate the loss for VAE with Gaussian Encoder and Decoder'''\n",
        "  K = x.shape[-1]           ## Get dimensionality of X (since it's flattened)\n",
        "  L = sampling              ## Number of samples to take for each value x\n",
        "  \n",
        "  var_z = torch.exp(0.5 * logvar_z)\n",
        "  var_x = torch.exp(0.5 * logvar_x)\n",
        "  \n",
        "  ## Sum over J\n",
        "  Jterm = 1 + torch.log(var_z) - (mu_z ** 2) - var_z\n",
        "  Jterm = 0.5 * Jterm.sum(axis = 1).reshape(-1)\n",
        "                       \n",
        "  ## Sum over K\n",
        "  Kterm = torch.log(var_x) + (((x.view([x.shape[0],1,x.shape[1]]) - mu_x) ** 2) / var_x)\n",
        "  Kterm = 0.5 * Kterm.sum(axis = 1)\n",
        "  \n",
        "  ## Sum over L\n",
        "  Kterm =  -0.5 * K * np.log(2 * np.pi) - Kterm\n",
        "  Lterm =  Kterm.sum(axis = -1) / L\n",
        "\n",
        "  ## Sum over M\n",
        "  Mterm = Lterm + Jterm\n",
        "  loss = Mterm.sum()\n",
        "\n",
        "  return loss"
      ],
      "execution_count": 0,
      "outputs": []
    },
    {
      "cell_type": "code",
      "metadata": {
        "id": "flEucvoIw4Vq",
        "colab_type": "code",
        "colab": {}
      },
      "source": [
        "lr0 = 10e-4\n",
        "beta1 = 0.5\n",
        "beta2 = 0.999\n",
        "lr_decay = 0.97\n",
        "decay_rate = 2\n",
        "\n",
        "nEpochs = 60\n",
        "\n",
        "zDim = 50\n",
        "model = VAE(zDim = zDim, sampling = 50).cuda()\n",
        "\n",
        "optimizer = torch.optim.Adam(model.parameters(), lr0, (beta1, beta2))"
      ],
      "execution_count": 0,
      "outputs": []
    },
    {
      "cell_type": "code",
      "metadata": {
        "id": "GdO6yAqww_JE",
        "colab_type": "code",
        "outputId": "bd2aae87-39b3-4159-e223-0c76afe5afc8",
        "colab": {
          "base_uri": "https://localhost:8080/",
          "height": 1000
        }
      },
      "source": [
        "print('Reference images:')\n",
        "img1 = val_loader_mnist.dataset[15][0].numpy()[0]\n",
        "img2 = val_loader_mnist.dataset[29][0].numpy()[0]\n",
        "img3 = val_loader_mnist.dataset[54][0].numpy()[0]\n",
        "img = np.hstack((img1, np.hstack((img2, img3))))\n",
        "plt.figure()\n",
        "plt.imshow(img,cmap=cm.gray)\n",
        "plt.show()\n",
        "print('Max value: {}, Min value: {}\\n'.format(np.amax(img), np.amin(img)))\n",
        "img1 = torch.from_numpy(img1).reshape(-1,1,784).cuda()\n",
        "img2 = torch.from_numpy(img2).reshape(-1,1,784).cuda()\n",
        "img3 = torch.from_numpy(img3).reshape(-1,1,784).cuda()\n",
        "\n",
        "model.train()\n",
        "for epoch in range(nEpochs):\n",
        "  for i, (x_b, y_b) in enumerate(train_loader_mnist):\n",
        "    x_b = x_b.reshape(train_batch_size, -1).cuda()\n",
        "    \n",
        "    optimizer.zero_grad()           ## No olvidar resetear los gradientes\n",
        "\n",
        "    mu_z, logvar_z, mu_x, logvar_x = model.forward(x_b)\n",
        "\n",
        "    #loss = -1 *  model.VAELoss(x_b, mu_z, logvar_z, mu_x, logvar_x)\n",
        "    loss = -1 *  fVAELoss(x_b, mu_z, logvar_z, mu_x, logvar_x, sampling = model.sampling)\n",
        "\n",
        "    loss.backward()\n",
        "\n",
        "    optimizer.step()\n",
        "\n",
        "    #print('Epoch : {} , Step : {}|| Loss : {:.3f}'.format(epoch + 1, i + 1, loss))\n",
        "\n",
        "  print('Epoch : {} || Loss : {:.3f}'.format(epoch + 1, loss))\n",
        "\n",
        "  if epoch % decay_rate == 1:\n",
        "    optimizer.param_groups[0]['lr'] *= lr_decay\n",
        "\n",
        "  if epoch % 10 == 0:\n",
        "    example = model.fc1[0].weight.grad\n",
        "    #print(model.fc1[0].weight.grad)\n",
        "    #print(model.encoder_mu.weight.grad)\n",
        "    #print(model.fc2[0].weight)\n",
        "    model.eval()\n",
        "    print('Reconstructions:')\n",
        "    c_img1 = img1.view(1,-1)\n",
        "    _, _, rec1, _ = model.forward(c_img1)\n",
        "    rec1 = rec1.cpu().detach().numpy().reshape(28,28)\n",
        "    c_img2 = img2.view(1,-1)\n",
        "    _, _, rec2, _ = model.forward(c_img2)\n",
        "    rec2 = rec2.cpu().detach().numpy().reshape(28,28)\n",
        "    c_img3 = img3.view(1,-1)\n",
        "    _, _, rec3, _ = model.forward(c_img3)\n",
        "    rec3 = rec3.cpu().detach().numpy().reshape(28,28)\n",
        "    img = np.hstack((rec1, np.hstack((rec2, rec3))))\n",
        "    plt.figure()\n",
        "    plt.imshow(img,cmap=cm.gray)\n",
        "    plt.show()\n",
        "    print('Max value: {}, Min value: {}\\n'.format(np.amax(img), np.amin(img)))\n",
        "    model.train()\n",
        "\n",
        "model.eval()\n",
        "print('Reconstructions:')\n",
        "c_img1 = img1.view(1,-1)\n",
        "_, _, rec1, _ = model.forward(c_img1)\n",
        "rec1 = rec1.cpu().detach().numpy().reshape(28,28)\n",
        "c_img2 = img2.view(1,-1)\n",
        "_, _, rec2, _ = model.forward(c_img2)\n",
        "rec2 = rec2.cpu().detach().numpy().reshape(28,28)\n",
        "c_img3 = img3.view(1,-1)\n",
        "_, _, rec3, _ = model.forward(c_img3)\n",
        "rec3 = rec3.cpu().detach().numpy().reshape(28,28)\n",
        "img = np.hstack((rec1, np.hstack((rec2, rec3))))\n",
        "plt.figure()\n",
        "plt.imshow(img,cmap=cm.gray)\n",
        "plt.show()\n",
        "print('Max value: {}, Min value: {}\\n'.format(np.amax(img), np.amin(img)))"
      ],
      "execution_count": 0,
      "outputs": [
        {
          "output_type": "stream",
          "text": [
            "Reference images:\n"
          ],
          "name": "stdout"
        },
        {
          "output_type": "display_data",
          "data": {
            "image/png": "[encoded data removed]",
            "text/plain": [
              "<Figure size 432x288 with 1 Axes>"
            ]
          },
          "metadata": {
            "tags": [],
            "needs_background": "light"
          }
        },
        {
          "output_type": "stream",
          "text": [
            "Max value: 1.0, Min value: 0.0\n",
            "\n",
            "Epoch : 1 || Loss : 1018894.750\n",
            "Reconstructions:\n"
          ],
          "name": "stdout"
        },
        {
          "output_type": "display_data",
          "data": {
            "image/png": "[encoded data removed]",
            "text/plain": [
              "<Figure size 432x288 with 1 Axes>"
            ]
          },
          "metadata": {
            "tags": [],
            "needs_background": "light"
          }
        },
        {
          "output_type": "stream",
          "text": [
            "Max value: 1.1269128322601318, Min value: -0.2730417251586914\n",
            "\n",
            "Epoch : 2 || Loss : 1038846.188\n",
            "Epoch : 3 || Loss : 1008622.250\n",
            "Epoch : 4 || Loss : 983635.875\n",
            "Epoch : 5 || Loss : 986684.875\n",
            "Epoch : 6 || Loss : 970314.000\n",
            "Epoch : 7 || Loss : 983156.250\n",
            "Epoch : 8 || Loss : 953743.188\n",
            "Epoch : 9 || Loss : 960358.500\n",
            "Epoch : 10 || Loss : 950003.250\n",
            "Epoch : 11 || Loss : 944289.625\n",
            "Reconstructions:\n"
          ],
          "name": "stdout"
        },
        {
          "output_type": "display_data",
          "data": {
            "image/png": "[encoded data removed]",
            "text/plain": [
              "<Figure size 432x288 with 1 Axes>"
            ]
          },
          "metadata": {
            "tags": [],
            "needs_background": "light"
          }
        },
        {
          "output_type": "stream",
          "text": [
            "Max value: 1.4649262428283691, Min value: -0.33608654141426086\n",
            "\n",
            "Epoch : 12 || Loss : 935413.375\n",
            "Epoch : 13 || Loss : 938408.750\n",
            "Epoch : 14 || Loss : 967693.750\n",
            "Epoch : 15 || Loss : 1206257.250\n",
            "Epoch : 16 || Loss : 920320.062\n",
            "Epoch : 17 || Loss : 912927.750\n",
            "Epoch : 18 || Loss : 944187.625\n",
            "Epoch : 19 || Loss : 905042.750\n",
            "Epoch : 20 || Loss : 960760.625\n",
            "Epoch : 21 || Loss : 902796.250\n",
            "Reconstructions:\n"
          ],
          "name": "stdout"
        },
        {
          "output_type": "display_data",
          "data": {
            "image/png": "[encoded data removed]",
            "text/plain": [
              "<Figure size 432x288 with 1 Axes>"
            ]
          },
          "metadata": {
            "tags": [],
            "needs_background": "light"
          }
        },
        {
          "output_type": "stream",
          "text": [
            "Max value: 1.3617515563964844, Min value: -0.3717353045940399\n",
            "\n",
            "Epoch : 22 || Loss : 932944.688\n",
            "Epoch : 23 || Loss : 889986.750\n",
            "Epoch : 24 || Loss : 894173.625\n",
            "Epoch : 25 || Loss : 897274.062\n",
            "Epoch : 26 || Loss : 888365.188\n",
            "Epoch : 27 || Loss : 895065.750\n",
            "Epoch : 28 || Loss : 1134656.125\n",
            "Epoch : 29 || Loss : 877503.250\n",
            "Epoch : 30 || Loss : 879101.062\n",
            "Epoch : 31 || Loss : 871378.375\n",
            "Reconstructions:\n"
          ],
          "name": "stdout"
        },
        {
          "output_type": "display_data",
          "data": {
            "image/png": "[encoded data removed]",
            "text/plain": [
              "<Figure size 432x288 with 1 Axes>"
            ]
          },
          "metadata": {
            "tags": [],
            "needs_background": "light"
          }
        },
        {
          "output_type": "stream",
          "text": [
            "Max value: 1.4379632472991943, Min value: -0.3636403977870941\n",
            "\n",
            "Epoch : 32 || Loss : 892916.812\n",
            "Epoch : 33 || Loss : 904451.438\n",
            "Epoch : 34 || Loss : 907892.875\n",
            "Epoch : 35 || Loss : 1064919.500\n",
            "Epoch : 36 || Loss : 866079.188\n",
            "Epoch : 37 || Loss : 884837.062\n",
            "Epoch : 38 || Loss : 897275.625\n",
            "Epoch : 39 || Loss : 863509.875\n",
            "Epoch : 40 || Loss : 860597.000\n",
            "Epoch : 41 || Loss : 868227.875\n",
            "Reconstructions:\n"
          ],
          "name": "stdout"
        },
        {
          "output_type": "display_data",
          "data": {
            "image/png": "[encoded data removed]",
            "text/plain": [
              "<Figure size 432x288 with 1 Axes>"
            ]
          },
          "metadata": {
            "tags": [],
            "needs_background": "light"
          }
        },
        {
          "output_type": "stream",
          "text": [
            "Max value: 1.4112797975540161, Min value: -0.4833639860153198\n",
            "\n",
            "Epoch : 42 || Loss : 861178.250\n",
            "Epoch : 43 || Loss : 925843.188\n",
            "Epoch : 44 || Loss : 1010981.125\n",
            "Epoch : 45 || Loss : 865549.375\n",
            "Epoch : 46 || Loss : 873110.625\n",
            "Epoch : 47 || Loss : 860494.062\n",
            "Epoch : 48 || Loss : 853986.875\n",
            "Epoch : 49 || Loss : 852838.562\n",
            "Epoch : 50 || Loss : 866652.875\n",
            "Epoch : 51 || Loss : 862580.375\n",
            "Reconstructions:\n"
          ],
          "name": "stdout"
        },
        {
          "output_type": "display_data",
          "data": {
            "image/png": "[encoded data removed]",
            "text/plain": [
              "<Figure size 432x288 with 1 Axes>"
            ]
          },
          "metadata": {
            "tags": [],
            "needs_background": "light"
          }
        },
        {
          "output_type": "stream",
          "text": [
            "Max value: 1.544982671737671, Min value: -0.39166122674942017\n",
            "\n",
            "Epoch : 52 || Loss : 864510.125\n",
            "Epoch : 53 || Loss : 863189.688\n",
            "Epoch : 54 || Loss : 868467.125\n",
            "Epoch : 55 || Loss : 877833.375\n",
            "Epoch : 56 || Loss : 851093.562\n",
            "Epoch : 57 || Loss : 883739.000\n",
            "Epoch : 58 || Loss : 838225.438\n",
            "Epoch : 59 || Loss : 852405.500\n",
            "Epoch : 60 || Loss : 848073.750\n",
            "Reconstructions:\n"
          ],
          "name": "stdout"
        },
        {
          "output_type": "display_data",
          "data": {
            "image/png": "[encoded data removed]",
            "text/plain": [
              "<Figure size 432x288 with 1 Axes>"
            ]
          },
          "metadata": {
            "tags": [],
            "needs_background": "light"
          }
        },
        {
          "output_type": "stream",
          "text": [
            "Max value: 1.4787025451660156, Min value: -0.5118438601493835\n",
            "\n"
          ],
          "name": "stdout"
        }
      ]
    },
    {
      "cell_type": "markdown",
      "metadata": {
        "id": "AtWtptQwWeCu",
        "colab_type": "text"
      },
      "source": [
        "### 2.3.- Conclusiones"
      ]
    },
    {
      "cell_type": "markdown",
      "metadata": {
        "id": "ST9ZmlcoWp6z",
        "colab_type": "text"
      },
      "source": [
        "En esta sección discutimos los principios básicos de los *Autoencoders* y su aproximación variacional. Evidentemente la arquitectura vista se puede modificar y sofisticar pero centremosnos en lo que hemos desarrollado hasta ahora:\n",
        "\n",
        "* En Inferencia Variacional vimos cómo podemos aproximar la distribución de las variables latentes $\\mathbf{Z}$ a partir de la variable observable $\\mathbf{X}$ generada por $\\mathbf{Z}$, dado un modelo de verosimilitud $p(\\mathbf{x}|\\mathbf{z})$ y parametrizando la familia de distribuciones sobre $\\mathbf{Z}$.\n",
        "\n",
        "* Relajamos un poco el modelo anterior al considerar que desconocemos el modelo de verosimilitud (denominado como *decoder*) y definimos el problema de encontrar tanto $p(\\mathbf{z}|\\mathbf{x})$ como $p(\\mathbf{x}|\\mathbf{z})$ como uno de inferencia variacional, donde utilizamos redes neuronales para parametrizar nuestras aproximaciones.\n",
        "\n",
        "En ambos casos, asumimos que la variable $\\mathbf{Z}$ define (o es relevante para) el comportamiento estadístico de $\\mathbf{X}$ y es, por lo tanto, una representación comprimida de $\\mathbf{X}$. \n",
        "\n",
        "Podemos entender $\\mathbf{Z}$ como la información relevante para poder generar muestras del fenómeno $\\mathbf{X}$. Entonces es posible hacernos las siguientes preguntas:\n",
        "\n",
        "¿Qué pasa si nuestra tarea ya no fuera poder reconstruir $\\mathbf{X}$ si no que encontrar la información que esta nos puede dar sobre otro proceso o señal $\\mathbf{Y}$? ¿Es entonces $\\mathbf{Z}$ **relevante** para definir o predecir $\\mathbf{Y}$?\n",
        "\n",
        "Este problema puede ser planteado formalmente por medio del *Information Bottleneck*."
      ]
    },
    {
      "cell_type": "markdown",
      "metadata": {
        "id": "OWRr4mtiUFeI",
        "colab_type": "text"
      },
      "source": [
        "## 3.- *Information Bottleneck*"
      ]
    },
    {
      "cell_type": "markdown",
      "metadata": {
        "id": "HhwZOTe3UW9j",
        "colab_type": "text"
      },
      "source": [
        "Para ejemplificar la idea anterior veamos este ejemplo \"clásico\": \n",
        "\n",
        "Se desea diagnosticar a un paciente para saber si tiene o no una enfermedad $\\mathbf{Y}$. Para esto contamos con una batería de datos de esta persona, denotados por $\\mathbf{x}$. Estos datos pueden ser su nombre, edad, datos clínicos como resultados de algún exámen reciente, historial familiar, si nació en Talca o en Rancagua, lugar de trabajo, etc.\n",
        "\n",
        "Podemos decir que $\\mathbf{x}$ caracteriza al paciente, pero claramente para la tarea que nos interesa mucha de la información contenida en $\\mathbf{x}$ es irrelevante. Nos gustaría encontrar un nuevo vector de características $\\mathbf{z}$ que defina en mejor manera el estado de la persona y nos entregue solo los datos importantes para poder diagnosticarla.\n",
        "\n",
        "La tarea de encontrar esta información suele denominarse Extracción de Características, *Feature Engineering*, *Representation Learning*, etc.\n",
        "\n",
        "En el paper fundacional del método del *Information Bottleneck* los autores se plantean precisamente este problema. A partir de la pregunta de cuál es la información relevante que una señal provee acerca de otra llegan en forma natural a un problema de codificación, en el cual capturar en un código $\\mathbf{\\tilde{X}}$ dicha información relevante.\n",
        "\n",
        "Visto de esta forma, el problema se puede plantear como uno de *lossy source coding* formalizado en una rama de teoría de la información conocida como *rate-distortion theory*.\n",
        "\n"
      ]
    },
    {
      "cell_type": "markdown",
      "metadata": {
        "id": "hNxKV8yXVBcC",
        "colab_type": "text"
      },
      "source": [
        "### 3.1.- *Rate-Distortion Theory*"
      ]
    },
    {
      "cell_type": "markdown",
      "metadata": {
        "id": "TtgSAbnDHtSM",
        "colab_type": "text"
      },
      "source": [
        "#### 3.1.1.- Contexto"
      ]
    },
    {
      "cell_type": "markdown",
      "metadata": {
        "id": "XwZjoNOiVGqa",
        "colab_type": "text"
      },
      "source": [
        "Consideremos una señal $\\mathbf{X} \\in \\mathcal{X}$ que es nuestra variable observable y el *codebook* $\\tilde{\\mathcal{X}}$ donde vive la variable $\\tilde{\\mathbf{X}}$ que corresponde a un mapeo estocástico de $\\mathbf{X}$ por medio del canal (o *encoder*) $p(\\tilde{\\mathbf{x}}|\\mathbf{x})$.\n",
        "\n",
        "Dado que nos enfrentamos a un problema de codificación con pérdida, el código $\\tilde{\\mathbf{X}}$ no es únicamente decodificable. Esta pérdida está relacionada con la cantidad de símbolos en $\\mathcal{X}$ mapeados a un mismo valor en $\\tilde{\\mathcal{X}}$, la cual en promedio corresponde a $2^{H(\\mathbf{X}|\\tilde{\\mathbf{X}})}$, con\n",
        "\n",
        "\\begin{equation}\n",
        "  H(\\mathbf{X}|\\tilde{\\mathbf{X}}) = -\\sum_{x \\in \\mathcal{X}} p(x) \\sum_{\\tilde{x} \\in \\tilde{\\mathcal{X}}} p(\\tilde{x}|x)\\log p(x|\\tilde{x})\n",
        "\\end{equation}\n",
        "\n",
        "Podemos interpretar entonces que $p(\\tilde{\\mathbf{x}}|\\mathbf{x})$ induce una partición en $\\mathbf{X}$, donde para cada partición asociada a $\\tilde{\\mathbf{X}} = \\tilde{x}$ se requiere (en promedio) de $H(\\mathbf{X}|\\tilde{\\mathbf{X}})$ bits para describir los valores de $\\mathcal{X}$ asociados a dicha partición.\n",
        "\n",
        "Luego, la variable $\\mathbf{X}|\\tilde{\\mathbf{X}}$ requiere en promedio $H(\\mathbf{X}) - H(\\mathbf{X}|\\tilde{\\mathbf{X}}) = I(\\mathbf{X};\\tilde{\\mathbf{X}})$ bits para ser descrita.\n",
        "\n",
        "En este contexto, $I(\\mathbf{X};\\tilde{\\mathbf{X}})$ cuantifica la \"calidad\" de la partición, pues caracteriza la cantidad de información que $\\tilde{\\mathbf{X}}$ posee acerca de $\\mathbf{X}$ y se denomina como la **tasa de información**."
      ]
    },
    {
      "cell_type": "markdown",
      "metadata": {
        "id": "Bff7zAgCH1eh",
        "colab_type": "text"
      },
      "source": [
        "#### 3.1.2.- Formalización del Problema"
      ]
    },
    {
      "cell_type": "markdown",
      "metadata": {
        "id": "aP2UlqlhH4we",
        "colab_type": "text"
      },
      "source": [
        "En el problema de compresión con pérdida el objetivo es entonces minimizar $I(\\mathbf{X};\\tilde{\\mathbf{X}})$. Evidentemente si no se restrinje el problema se llega a la solución trivial."
      ]
    },
    {
      "cell_type": "markdown",
      "metadata": {
        "id": "2hXafJ9GMnC_",
        "colab_type": "text"
      },
      "source": [
        "Para evitar esta situación, en *rate-distortion theory* se introduce el concepto de distorsión, dada por la función $d: \\mathcal{X} \\times \\tilde{\\mathcal{X}} \\to \\mathbb{R}^{+} \\cup \\{0\\}$. Dada una partición inducida por $p(\\tilde{\\mathbf{x}}|\\mathbf{x})$ se tendrá una distorsión esperada:\n",
        "\n",
        "\\begin{equation}\n",
        "  \\mathbb{E}_{p(\\mathbf{x},\\tilde{\\mathbf{x}})}\\left\\{d(x,\\tilde{x})\\right\\} = \\sum_{x  \\in \\mathcal{X}} \\sum_{\\tilde{x} \\in \\tilde{\\mathcal{X}}}p(x,\\tilde{x})d(x,\\tilde{x})\n",
        "\\end{equation}\n",
        "\n",
        "Luego, al limitar la distorsión esperada inducida por el *encoder* a un máximo, $D$, se tiene una formulación mucho más interesante del problema, planteado ahora por medio de la función $R(D)$ correspondiente a la tasa de información mínima asociada a la pérdida $D$:\n",
        "\n",
        "\\begin{equation}\n",
        "R(D) = \\underset{\\left\\{p(\\tilde{\\mathbf{x}}|\\mathbf{x}): \\mathbb{E}_{p(\\mathbf{x},\\tilde{\\mathbf{x}})}\\left\\{d(x,\\tilde{x})\\right\\} \\leq D\\right\\}}{\\operatorname{min}} I(\\mathbf{X};\\tilde{\\mathbf{X}})\n",
        "\\end{equation}\n",
        "\n",
        "Lo anterior es equivalente a minimizar el funcional:\n",
        "\n",
        "\\begin{equation}\n",
        "  \\mathcal{F}(p(\\tilde{\\mathbf{x}}|\\mathbf{x})) = \\underset{\\sum p(\\tilde{\\mathbf{x}}|\\mathbf{x}) = 1}{\\operatorname{min}} I(\\mathbf{X};\\tilde{\\mathbf{X}}) + \\beta \\mathbb{E}_{p(\\mathbf{x},\\tilde{\\mathbf{x}})}\\left\\{d(x,\\tilde{x})\\right\\}\n",
        "\\end{equation}"
      ]
    },
    {
      "cell_type": "markdown",
      "metadata": {
        "id": "fLIo1nOxM-HO",
        "colab_type": "text"
      },
      "source": [
        "### 3.2.- Extensión"
      ]
    },
    {
      "cell_type": "markdown",
      "metadata": {
        "id": "b9LXjtANNEAN",
        "colab_type": "text"
      },
      "source": [
        "Introducimos ahora la variable en base a la cual definir la **información relevante** contenida en $\\mathbf{X}$, $\\mathbf{Y}$. Es en consecuencia esta variable la que define el valor de la medida de distorsión $d$.\n",
        "\n",
        "En forma similar a como interpretamos que $I(\\mathbf{X};\\tilde{\\mathbf{X}})$ corresponde a la información que $\\tilde{\\mathbf{X}}$ contiene de la variable $\\mathbf{X}$, $I(\\mathbf{Y};\\tilde{\\mathbf{X}})$ corresponde a la información contenida acerca de la variable para la cual queremos extraer la información relevante.\n",
        "\n",
        "Un supuesto importante de este problema es que la codificación $\\tilde{\\mathbf{X}}$ debe satisfacer la siguiente cadena de Markov:\n",
        "\n",
        "\\begin{equation}\n",
        "  \\tilde{\\mathbf{X}} - \\mathbf{X} - \\mathbf{Y}\n",
        "\\end{equation}\n",
        "\n",
        "> **Nota**: Recordar que esta propiedad se traduce en la independencia condicional entre $\\tilde{\\mathbf{X}}$ y $\\mathbf{Y}$ dado $\\mathbf{X}$\n",
        "\n",
        "Esto es puesto que las estadísticas de $\\tilde{\\mathbf{X}}$ están sujetas únicamente a la variable de observación. Finalmente, el mapeo $p(\\tilde{\\mathbf{x}}|\\mathbf{x})$ óptimo se obtiene al resolver el problema de optimización \n",
        "\n",
        "\\begin{equation}\n",
        "  \\underset{\\sum p(\\tilde{\\mathbf{x}}|\\mathbf{x}) = 1}{\\operatorname{min}} I(\\mathbf{X};\\tilde{\\mathbf{X}}) - \\beta I(\\mathbf{Y};\\tilde{\\mathbf{X}})\n",
        "\\end{equation}\n",
        "\n",
        "Los sumandos de este problema de optimización son claramente objtetivos contrapuestos debido a la *data processing inequality* y la relación estadística entre $\\mathbf{X}$ y $\\tilde{\\mathbf{X}}$:\n",
        "\n",
        "Dadas las variables aleatorias $\\mathbf{X}$, $\\mathbf{Y}$ y $\\mathbf{Z}$ tales que se tiene la cadena de Markov $\\mathbf{Z} - \\mathbf{X} - \\mathbf{Y}$, se tendrá entonces que\n",
        "\\begin{equation}\n",
        "  I(\\mathbf{Y};\\mathbf{Z}) \\leq I(\\mathbf{Y};\\mathbf{X})\n",
        "\\end{equation}\n",
        "\n",
        "dándose la igualdad estricta cuando $I(\\mathbf{Y};\\mathbf{X}|\\mathbf{Z}) = 0$"
      ]
    },
    {
      "cell_type": "markdown",
      "metadata": {
        "id": "9a8FDdtwWJWm",
        "colab_type": "text"
      },
      "source": [
        "El problema original de *rate-distortion theory* posee una solución cerrada para variables discretas y es posible encontrarla por medio del algoritmo de Blahut-Arimoto. Este resultado es extendible al problema del *Information Bottleneck* bajo la condición de Markovianidad.\n",
        "\n",
        "Extender este problema a variables aleatorias en un espacio contínuo no es trivial y es un problema aún abierto, en general. Una forma de abordar este problema es por medio de redes neuronales lo cual revisaremos en la **Tarea**, gracias a los contenidos de las secciones anteriores."
      ]
    }
  ]
}